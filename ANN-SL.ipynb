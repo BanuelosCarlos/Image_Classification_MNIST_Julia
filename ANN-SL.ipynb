{
 "cells": [
  {
   "cell_type": "markdown",
   "metadata": {},
   "source": [
    "# Artificial Neural Networks with Flux.jl with MNIST dataset"
   ]
  },
  {
   "cell_type": "code",
   "execution_count": 1,
   "metadata": {},
   "outputs": [],
   "source": [
    "using Pkg, Flux, Images, MLDatasets, Plots\n",
    "using Flux: crossentropy, onecold, onehotbatch, train!, params\n",
    "using LinearAlgebra, Random, Statistics"
   ]
  },
  {
   "cell_type": "markdown",
   "metadata": {},
   "source": [
    "Loading and splitting the dataset"
   ]
  },
  {
   "cell_type": "code",
   "execution_count": 2,
   "metadata": {},
   "outputs": [],
   "source": [
    "X_train_raw, y_train_raw = MLDatasets.MNIST(:train)[:]\n",
    "X_test_raw, y_test_raw = MLDatasets.MNIST(:test)[:];"
   ]
  },
  {
   "cell_type": "markdown",
   "metadata": {},
   "source": [
    "Let's see one of the training images"
   ]
  },
  {
   "cell_type": "code",
   "execution_count": 11,
   "metadata": {},
   "outputs": [
    {
     "data": {
      "image/png": "[encoded data removed]",
      "text/html": [
       "<img src=\"data:image/png;base64,iVBORw0KGgoAAAANSUhEUgAAAHAAAABwCAAAAADji6uXAAAABGdBTUEAALGPC/xhBQAAAAFzUkdCAK7OHOkAAAAgY0hSTQAAeiYAAICEAAD6AAAAgOgAAHUwAADqYAAAOpgAABdwnLpRPAAAAiVJREFUaAW9wT2IFgQABuAHemnI4aJFISgJwkDIIiqIsMLcajiKIEEIshosmgSHhhoUIW/IcIgCISHa+psKsp8hEKSSSAlyECon61Q+jMDT4RuO7w6/n5Pe54myKIuyKIuyKIuyKIuyKIuyKIuyKIuyKIuyKIuyKIsZ3YQ5y17FLdiE3TiI5/EvDuAto6IsyqIsJrgDN+MRPIpb8YzV/sAhzOMSTuI7q0VZlEVZjHE/vsac8ZbwBgb4CH/hH/xmtSiLsiiLMc7iPOasdhyLeAL/4ajpRFmURVmM8Tf24Cn8hEOGfsZ2DLAZr5telEVZlMUEn+IYLmELXsQCBoZ+xcumF2VRFmUxhYuGLhjahY+xZHZRFmVRFjN4Ew/gMTyJr8wuyqIsymIGA7yEH/E+vsEJHMZV04myKIuymNEZvIAj2ImdWIcPcc5kURZlURZr8Al+xwK2YT/uxD78abwoi7IoizX6Bc/haRzBK7gb240XZVEWZXEDFnEUHyDYisfxreuLsiiLslije/EsHkQMncL3xouyKIuymNEmvIZ5bLDsCs5hyXhRFmVRFlPagB3YjY1GncA+fG6yKIuyKIsJ1mMz3sU9Rh3H2/gMS6YTZVEWZXEdt+E93Ie7jPoBC/gSl80myqIsymKFh7EHD+F2oy7jHezHwNpEWZRFWawwj3nLTuMLXMFBLLoxURZlURYr7MVe/58oi7Ioi7Ioi7Ioi7Ioi7IouwZsVVgTmd3ynQAAAABJRU5ErkJg\">"
      ],
      "text/plain": [
       "28×28 Array{Gray{Float32},2} with eltype Gray{Float32}:\n",
       " Gray{Float32}(0.0)  Gray{Float32}(0.0)  …  Gray{Float32}(0.0)\n",
       " Gray{Float32}(0.0)  Gray{Float32}(0.0)     Gray{Float32}(0.0)\n",
       " Gray{Float32}(0.0)  Gray{Float32}(0.0)     Gray{Float32}(0.0)\n",
       " Gray{Float32}(0.0)  Gray{Float32}(0.0)     Gray{Float32}(0.0)\n",
       " Gray{Float32}(0.0)  Gray{Float32}(0.0)     Gray{Float32}(0.0)\n",
       " Gray{Float32}(0.0)  Gray{Float32}(0.0)  …  Gray{Float32}(0.0)\n",
       " Gray{Float32}(0.0)  Gray{Float32}(0.0)     Gray{Float32}(0.0)\n",
       " Gray{Float32}(0.0)  Gray{Float32}(0.0)     Gray{Float32}(0.0)\n",
       " Gray{Float32}(0.0)  Gray{Float32}(0.0)     Gray{Float32}(0.0)\n",
       " Gray{Float32}(0.0)  Gray{Float32}(0.0)     Gray{Float32}(0.0)\n",
       " ⋮                                       ⋱  \n",
       " Gray{Float32}(0.0)  Gray{Float32}(0.0)     Gray{Float32}(0.0)\n",
       " Gray{Float32}(0.0)  Gray{Float32}(0.0)  …  Gray{Float32}(0.0)\n",
       " Gray{Float32}(0.0)  Gray{Float32}(0.0)     Gray{Float32}(0.0)\n",
       " Gray{Float32}(0.0)  Gray{Float32}(0.0)     Gray{Float32}(0.0)\n",
       " Gray{Float32}(0.0)  Gray{Float32}(0.0)     Gray{Float32}(0.0)\n",
       " Gray{Float32}(0.0)  Gray{Float32}(0.0)     Gray{Float32}(0.0)\n",
       " Gray{Float32}(0.0)  Gray{Float32}(0.0)  …  Gray{Float32}(0.0)\n",
       " Gray{Float32}(0.0)  Gray{Float32}(0.0)     Gray{Float32}(0.0)\n",
       " Gray{Float32}(0.0)  Gray{Float32}(0.0)     Gray{Float32}(0.0)"
      ]
     },
     "metadata": {},
     "output_type": "display_data"
    }
   ],
   "source": [
    "index = 1\n",
    "img = X_train_raw[:,:, index]\n",
    "\n",
    "Gray.(img')"
   ]
  },
  {
   "cell_type": "code",
   "execution_count": 13,
   "metadata": {},
   "outputs": [
    {
     "data": {
      "text/plain": [
       "5"
      ]
     },
     "metadata": {},
     "output_type": "display_data"
    }
   ],
   "source": [
    "# Now the training labe\n",
    "y_train_raw[index]"
   ]
  },
  {
   "cell_type": "markdown",
   "metadata": {},
   "source": [
    "Now a test image"
   ]
  },
  {
   "cell_type": "code",
   "execution_count": 20,
   "metadata": {},
   "outputs": [
    {
     "data": {
      "image/png": "[encoded data removed]",
      "text/html": [
       "<img src=\"data:image/png;base64,iVBORw0KGgoAAAANSUhEUgAAAHAAAABwCAAAAADji6uXAAAABGdBTUEAALGPC/xhBQAAAAFzUkdCAK7OHOkAAAAgY0hSTQAAeiYAAICEAAD6AAAAgOgAAHUwAADqYAAAOpgAABdwnLpRPAAAAdBJREFUaAW9wb1qlgcABtCDeToUXLRU6FB/cOtSgggFWyh0EV0EvYXUoXQpBFxCQYdAxg7egeAFlBIKKXTRJYv4UyrGwYoIhQS0Q1ChDu8QBL/4vfnCc06URVmURVmURVmURVmURVmURVmURVmURVmURVmURVmURVmURVmURVmURVlMcAkLeIZt3MBzPDKbKIuyKIsJVnDcjst4ift29xQrWPd+URZlURYTLOBLPMAXmMe3+Ar/4HM73uBffGbwBOveL8qiLMpigjWsGawaHMI81nHajm08xF84jMcmi7Ioi7IYYQt/GKx510Ucwl3cNFmURVmUxT44gus4gKvYNFmURVmUxT74AZ9iC3/bXZRFWZTFjM7gisEF3LO7KIuyKIsZncNHWMNtHxZlURZlMYOPcRav8DNe+7Aoi7IoixksYh6ruGU6URZlURZ7dB5LeIFrphdlURZlsQef4BfM4TfcNr0oi7Ioi5HmsIoT2MCScaIsyqIsRjqJUwY/YcM4URZlURYjHMPvBov41XhRFmVRFiN8j6MGf+J/40VZlEVZTOkb/Gh2URZlURZT+hoHDTbwn72JsiiLshjpDr7Dpr2JsiiLspjSMpbNLsqiLMreApamPWWOWvFrAAAAAElFTkSuQmCC\">"
      ],
      "text/plain": [
       "28×28 Array{Gray{Float32},2} with eltype Gray{Float32}:\n",
       " Gray{Float32}(0.0)  Gray{Float32}(0.0)  …  Gray{Float32}(0.0)\n",
       " Gray{Float32}(0.0)  Gray{Float32}(0.0)     Gray{Float32}(0.0)\n",
       " Gray{Float32}(0.0)  Gray{Float32}(0.0)     Gray{Float32}(0.0)\n",
       " Gray{Float32}(0.0)  Gray{Float32}(0.0)     Gray{Float32}(0.0)\n",
       " Gray{Float32}(0.0)  Gray{Float32}(0.0)     Gray{Float32}(0.0)\n",
       " Gray{Float32}(0.0)  Gray{Float32}(0.0)  …  Gray{Float32}(0.0)\n",
       " Gray{Float32}(0.0)  Gray{Float32}(0.0)     Gray{Float32}(0.0)\n",
       " Gray{Float32}(0.0)  Gray{Float32}(0.0)     Gray{Float32}(0.0)\n",
       " Gray{Float32}(0.0)  Gray{Float32}(0.0)     Gray{Float32}(0.0)\n",
       " Gray{Float32}(0.0)  Gray{Float32}(0.0)     Gray{Float32}(0.0)\n",
       " ⋮                                       ⋱  \n",
       " Gray{Float32}(0.0)  Gray{Float32}(0.0)     Gray{Float32}(0.0)\n",
       " Gray{Float32}(0.0)  Gray{Float32}(0.0)  …  Gray{Float32}(0.0)\n",
       " Gray{Float32}(0.0)  Gray{Float32}(0.0)     Gray{Float32}(0.0)\n",
       " Gray{Float32}(0.0)  Gray{Float32}(0.0)     Gray{Float32}(0.0)\n",
       " Gray{Float32}(0.0)  Gray{Float32}(0.0)     Gray{Float32}(0.0)\n",
       " Gray{Float32}(0.0)  Gray{Float32}(0.0)     Gray{Float32}(0.0)\n",
       " Gray{Float32}(0.0)  Gray{Float32}(0.0)  …  Gray{Float32}(0.0)\n",
       " Gray{Float32}(0.0)  Gray{Float32}(0.0)     Gray{Float32}(0.0)\n",
       " Gray{Float32}(0.0)  Gray{Float32}(0.0)     Gray{Float32}(0.0)"
      ]
     },
     "metadata": {},
     "output_type": "display_data"
    }
   ],
   "source": [
    "img1 = X_test_raw[:,:,index]\n",
    "Gray.(img1')"
   ]
  },
  {
   "cell_type": "code",
   "execution_count": 24,
   "metadata": {},
   "outputs": [
    {
     "data": {
      "text/plain": [
       "7"
      ]
     },
     "metadata": {},
     "output_type": "display_data"
    }
   ],
   "source": [
    "y_test_raw[index]"
   ]
  },
  {
   "cell_type": "markdown",
   "metadata": {},
   "source": [
    "Flatten input data"
   ]
  },
  {
   "cell_type": "code",
   "execution_count": 28,
   "metadata": {},
   "outputs": [],
   "source": [
    "X_train = Flux.flatten(X_train_raw);\n",
    "X_test = Flux.flatten(X_test_raw);"
   ]
  },
  {
   "cell_type": "markdown",
   "metadata": {},
   "source": [
    "And hot one encode labels"
   ]
  },
  {
   "cell_type": "code",
   "execution_count": 37,
   "metadata": {},
   "outputs": [
    {
     "data": {
      "text/plain": [
       "10×10000 OneHotMatrix(::Vector{UInt32}) with eltype Bool:\n",
       " ⋅  ⋅  ⋅  1  ⋅  ⋅  ⋅  ⋅  ⋅  ⋅  1  ⋅  ⋅  …  ⋅  ⋅  ⋅  ⋅  ⋅  1  ⋅  ⋅  ⋅  ⋅  ⋅  ⋅\n",
       " ⋅  ⋅  1  ⋅  ⋅  1  ⋅  ⋅  ⋅  ⋅  ⋅  ⋅  ⋅     ⋅  ⋅  ⋅  ⋅  ⋅  ⋅  1  ⋅  ⋅  ⋅  ⋅  ⋅\n",
       " ⋅  1  ⋅  ⋅  ⋅  ⋅  ⋅  ⋅  ⋅  ⋅  ⋅  ⋅  ⋅     ⋅  ⋅  ⋅  ⋅  ⋅  ⋅  ⋅  1  ⋅  ⋅  ⋅  ⋅\n",
       " ⋅  ⋅  ⋅  ⋅  ⋅  ⋅  ⋅  ⋅  ⋅  ⋅  ⋅  ⋅  ⋅     ⋅  ⋅  ⋅  ⋅  ⋅  ⋅  ⋅  ⋅  1  ⋅  ⋅  ⋅\n",
       " ⋅  ⋅  ⋅  ⋅  1  ⋅  1  ⋅  ⋅  ⋅  ⋅  ⋅  ⋅     ⋅  ⋅  ⋅  ⋅  ⋅  ⋅  ⋅  ⋅  ⋅  1  ⋅  ⋅\n",
       " ⋅  ⋅  ⋅  ⋅  ⋅  ⋅  ⋅  ⋅  1  ⋅  ⋅  ⋅  ⋅  …  1  ⋅  ⋅  ⋅  ⋅  ⋅  ⋅  ⋅  ⋅  ⋅  1  ⋅\n",
       " ⋅  ⋅  ⋅  ⋅  ⋅  ⋅  ⋅  ⋅  ⋅  ⋅  ⋅  1  ⋅     ⋅  1  ⋅  ⋅  ⋅  ⋅  ⋅  ⋅  ⋅  ⋅  ⋅  1\n",
       " 1  ⋅  ⋅  ⋅  ⋅  ⋅  ⋅  ⋅  ⋅  ⋅  ⋅  ⋅  ⋅     ⋅  ⋅  1  ⋅  ⋅  ⋅  ⋅  ⋅  ⋅  ⋅  ⋅  ⋅\n",
       " ⋅  ⋅  ⋅  ⋅  ⋅  ⋅  ⋅  ⋅  ⋅  ⋅  ⋅  ⋅  ⋅     ⋅  ⋅  ⋅  1  ⋅  ⋅  ⋅  ⋅  ⋅  ⋅  ⋅  ⋅\n",
       " ⋅  ⋅  ⋅  ⋅  ⋅  ⋅  ⋅  1  ⋅  1  ⋅  ⋅  1     ⋅  ⋅  ⋅  ⋅  1  ⋅  ⋅  ⋅  ⋅  ⋅  ⋅  ⋅"
      ]
     },
     "metadata": {},
     "output_type": "display_data"
    }
   ],
   "source": [
    "y_train = onehotbatch(y_train_raw, 0:9)\n",
    "y_test = onehotbatch(y_test_raw, 0:9)"
   ]
  },
  {
   "cell_type": "markdown",
   "metadata": {},
   "source": [
    "Define model architecture, this is going to be a Multilayer Perceptron (MLP)"
   ]
  },
  {
   "cell_type": "code",
   "execution_count": 39,
   "metadata": {},
   "outputs": [
    {
     "data": {
      "text/plain": [
       "loss (generic function with 1 method)"
      ]
     },
     "metadata": {},
     "output_type": "display_data"
    }
   ],
   "source": [
    "model = Chain(\n",
    "    Dense(28 * 28, 32, relu),\n",
    "    Dense(32, 10),\n",
    "    softmax\n",
    ")\n",
    "\n",
    "#Define loss function\n",
    "\n",
    "loss(x, y) = crossentropy(model(x),y)"
   ]
  },
  {
   "cell_type": "code",
   "execution_count": 41,
   "metadata": {},
   "outputs": [],
   "source": [
    "ps = params(model);"
   ]
  },
  {
   "cell_type": "markdown",
   "metadata": {},
   "source": [
    "With ADAM optimizer which stands for Adaptive Moment Estimation"
   ]
  },
  {
   "cell_type": "code",
   "execution_count": 43,
   "metadata": {},
   "outputs": [
    {
     "data": {
      "text/plain": [
       "Adam(0.01, (0.9, 0.999), 1.0e-8, IdDict{Any, Any}())"
      ]
     },
     "metadata": {},
     "output_type": "display_data"
    }
   ],
   "source": [
    "learning_rate = 0.01;\n",
    "opt = ADAM(learning_rate)"
   ]
  },
  {
   "cell_type": "markdown",
   "metadata": {},
   "source": [
    "now we train the model"
   ]
  },
  {
   "cell_type": "code",
   "execution_count": 44,
   "metadata": {},
   "outputs": [
    {
     "name": "stdout",
     "output_type": "stream",
     "text": [
      "Epochs = 1 : Training Loss = 2.0194283Epochs = 2 : Training Loss = 1.6899878"
     ]
    },
    {
     "name": "stdout",
     "output_type": "stream",
     "text": [
      "Epochs = 3 : Training Loss = 1.3757617Epochs = 4 : Training Loss = 1.0993943"
     ]
    },
    {
     "name": "stdout",
     "output_type": "stream",
     "text": [
      "Epochs = 5 : Training Loss = 0.8979577Epochs = 6 : Training Loss = 0.7629168"
     ]
    },
    {
     "name": "stdout",
     "output_type": "stream",
     "text": [
      "Epochs = 7 : Training Loss = 0.6726554Epochs = 8 : Training Loss = 0.59897745"
     ]
    },
    {
     "name": "stdout",
     "output_type": "stream",
     "text": [
      "Epochs = 9 : Training Loss = 0.5443007Epochs = 10 : Training Loss = 0.51177144"
     ]
    },
    {
     "name": "stdout",
     "output_type": "stream",
     "text": [
      "Epochs = 11 : Training Loss = 0.48227835Epochs = 12 : Training Loss = 0.4550523"
     ]
    },
    {
     "name": "stdout",
     "output_type": "stream",
     "text": [
      "Epochs = 13 : Training Loss = 0.4334105Epochs = 14 : Training Loss = 0.41744682"
     ]
    },
    {
     "name": "stdout",
     "output_type": "stream",
     "text": [
      "Epochs = 15 : Training Loss = 0.40508553Epochs = 16 : Training Loss = 0.39192662"
     ]
    },
    {
     "name": "stdout",
     "output_type": "stream",
     "text": [
      "Epochs = 17 : Training Loss = 0.38073045Epochs = 18 : Training Loss = 0.37199703"
     ]
    },
    {
     "name": "stdout",
     "output_type": "stream",
     "text": [
      "Epochs = 19 : Training Loss = 0.36288837Epochs = 20 : Training Loss = 0.35401633"
     ]
    },
    {
     "name": "stdout",
     "output_type": "stream",
     "text": [
      "Epochs = 21 : Training Loss = 0.34585947Epochs = 22 : Training Loss = 0.33871967"
     ]
    },
    {
     "name": "stdout",
     "output_type": "stream",
     "text": [
      "Epochs = 23 : Training Loss = 0.33249295Epochs = 24 : Training Loss = 0.32538193"
     ]
    },
    {
     "name": "stdout",
     "output_type": "stream",
     "text": [
      "Epochs = 25 : Training Loss = 0.3184439Epochs = 26 : Training Loss = 0.313122"
     ]
    },
    {
     "name": "stdout",
     "output_type": "stream",
     "text": [
      "Epochs = 27 : Training Loss = 0.30836302Epochs = 28 : Training Loss = 0.30346406"
     ]
    },
    {
     "name": "stdout",
     "output_type": "stream",
     "text": [
      "Epochs = 29 : Training Loss = 0.29868054Epochs = 30 : Training Loss = 0.2940942"
     ]
    },
    {
     "name": "stdout",
     "output_type": "stream",
     "text": [
      "Epochs = 31 : Training Loss = 0.28981718Epochs = 32 : Training Loss = 0.28590637"
     ]
    },
    {
     "name": "stdout",
     "output_type": "stream",
     "text": [
      "Epochs = 33 : Training Loss = 0.28193715Epochs = 34 : Training Loss = 0.27802053"
     ]
    },
    {
     "name": "stdout",
     "output_type": "stream",
     "text": [
      "Epochs = 35 : Training Loss = 0.27455372Epochs = 36 : Training Loss = 0.2710271"
     ]
    },
    {
     "name": "stdout",
     "output_type": "stream",
     "text": [
      "Epochs = 37 : Training Loss = 0.26759073Epochs = 38 : Training Loss = 0.2645752"
     ]
    },
    {
     "name": "stdout",
     "output_type": "stream",
     "text": [
      "Epochs = 39 : Training Loss = 0.26156643Epochs = 40 : Training Loss = 0.25868678"
     ]
    },
    {
     "name": "stdout",
     "output_type": "stream",
     "text": [
      "Epochs = 41 : Training Loss = 0.25591877Epochs = 42 : Training Loss = 0.25319767"
     ]
    },
    {
     "name": "stdout",
     "output_type": "stream",
     "text": [
      "Epochs = 43 : Training Loss = 0.25063697Epochs = 44 : Training Loss = 0.24805072"
     ]
    },
    {
     "name": "stdout",
     "output_type": "stream",
     "text": [
      "Epochs = 45 : Training Loss = 0.24550833Epochs = 46 : Training Loss = 0.24310927"
     ]
    },
    {
     "name": "stdout",
     "output_type": "stream",
     "text": [
      "Epochs = 47 : Training Loss = 0.24071257Epochs = 48 : Training Loss = 0.23830329"
     ]
    },
    {
     "name": "stdout",
     "output_type": "stream",
     "text": [
      "Epochs = 49 : Training Loss = 0.23599453Epochs = 50 : Training Loss = 0.23380461"
     ]
    },
    {
     "name": "stdout",
     "output_type": "stream",
     "text": [
      "Epochs = 51 : Training Loss = 0.23168209Epochs = 52 : Training Loss = 0.22953975"
     ]
    },
    {
     "name": "stdout",
     "output_type": "stream",
     "text": [
      "Epochs = 53 : Training Loss = 0.22744276Epochs = 54 : Training Loss = 0.22550401"
     ]
    },
    {
     "name": "stdout",
     "output_type": "stream",
     "text": [
      "Epochs = 55 : Training Loss = 0.22359979Epochs = 56 : Training Loss = 0.2217148"
     ]
    },
    {
     "name": "stdout",
     "output_type": "stream",
     "text": [
      "Epochs = 57 : Training Loss = 0.21989752Epochs = 58 : Training Loss = 0.21814176"
     ]
    },
    {
     "name": "stdout",
     "output_type": "stream",
     "text": [
      "Epochs = 59 : Training Loss = 0.21642871Epochs = 60 : Training Loss = 0.21471927"
     ]
    },
    {
     "name": "stdout",
     "output_type": "stream",
     "text": [
      "Epochs = 61 : Training Loss = 0.21306722Epochs = 62 : Training Loss = 0.21147646"
     ]
    },
    {
     "name": "stdout",
     "output_type": "stream",
     "text": [
      "Epochs = 63 : Training Loss = 0.20989984Epochs = 64 : Training Loss = 0.20834671"
     ]
    },
    {
     "name": "stdout",
     "output_type": "stream",
     "text": [
      "Epochs = 65 : Training Loss = 0.20683196Epochs = 66 : Training Loss = 0.20534994"
     ]
    },
    {
     "name": "stdout",
     "output_type": "stream",
     "text": [
      "Epochs = 67 : Training Loss = 0.20388483Epochs = 68 : Training Loss = 0.20243491"
     ]
    },
    {
     "name": "stdout",
     "output_type": "stream",
     "text": [
      "Epochs = 69 : Training Loss = 0.20101221Epochs = 70 : Training Loss = 0.19961703"
     ]
    },
    {
     "name": "stdout",
     "output_type": "stream",
     "text": [
      "Epochs = 71 : Training Loss = 0.19824232Epochs = 72 : Training Loss = 0.19688825"
     ]
    },
    {
     "name": "stdout",
     "output_type": "stream",
     "text": [
      "Epochs = 73 : Training Loss = 0.19555694Epochs = 74 : Training Loss = 0.19424878"
     ]
    },
    {
     "name": "stdout",
     "output_type": "stream",
     "text": [
      "Epochs = 75 : Training Loss = 0.19296241Epochs = 76 : Training Loss = 0.19169089"
     ]
    },
    {
     "name": "stdout",
     "output_type": "stream",
     "text": [
      "Epochs = 77 : Training Loss = 0.19043487Epochs = 78 : Training Loss = 0.18919396"
     ]
    },
    {
     "name": "stdout",
     "output_type": "stream",
     "text": [
      "Epochs = 79 : Training Loss = 0.18797533Epochs = 80 : Training Loss = 0.18677324"
     ]
    },
    {
     "name": "stdout",
     "output_type": "stream",
     "text": [
      "Epochs = 81 : Training Loss = 0.18558645Epochs = 82 : Training Loss = 0.18442139"
     ]
    },
    {
     "name": "stdout",
     "output_type": "stream",
     "text": [
      "Epochs = 83 : Training Loss = 0.18327121Epochs = 84 : Training Loss = 0.18214373"
     ]
    },
    {
     "name": "stdout",
     "output_type": "stream",
     "text": [
      "Epochs = 85 : Training Loss = 0.1810338Epochs = 86 : Training Loss = 0.17994219"
     ]
    },
    {
     "name": "stdout",
     "output_type": "stream",
     "text": [
      "Epochs = 87 : Training Loss = 0.1788671Epochs = 88 : Training Loss = 0.17780761"
     ]
    },
    {
     "name": "stdout",
     "output_type": "stream",
     "text": [
      "Epochs = 89 : Training Loss = 0.17676297Epochs = 90 : Training Loss = 0.17572936"
     ]
    },
    {
     "name": "stdout",
     "output_type": "stream",
     "text": [
      "Epochs = 91 : Training Loss = 0.1747055Epochs = 92 : Training Loss = 0.17369092"
     ]
    },
    {
     "name": "stdout",
     "output_type": "stream",
     "text": [
      "Epochs = 93 : Training Loss = 0.17268841Epochs = 94 : Training Loss = 0.17169936"
     ]
    },
    {
     "name": "stdout",
     "output_type": "stream",
     "text": [
      "Epochs = 95 : Training Loss = 0.17072332Epochs = 96 : Training Loss = 0.16976108"
     ]
    },
    {
     "name": "stdout",
     "output_type": "stream",
     "text": [
      "Epochs = 97 : Training Loss = 0.16881095Epochs = 98 : Training Loss = 0.16787405"
     ]
    },
    {
     "name": "stdout",
     "output_type": "stream",
     "text": [
      "Epochs = 99 : Training Loss = 0.16694818Epochs = 100 : Training Loss = 0.16603483"
     ]
    },
    {
     "name": "stdout",
     "output_type": "stream",
     "text": [
      "Epochs = 101 : Training Loss = 0.16513498Epochs = 102 : Training Loss = 0.16424668"
     ]
    },
    {
     "name": "stdout",
     "output_type": "stream",
     "text": [
      "Epochs = 103 : Training Loss = 0.1633685Epochs = 104 : Training Loss = 0.16250135"
     ]
    },
    {
     "name": "stdout",
     "output_type": "stream",
     "text": [
      "Epochs = 105 : Training Loss = 0.16164705Epochs = 106 : Training Loss = 0.16080453"
     ]
    },
    {
     "name": "stdout",
     "output_type": "stream",
     "text": [
      "Epochs = 107 : Training Loss = 0.15997408Epochs = 108 : Training Loss = 0.1591535"
     ]
    },
    {
     "name": "stdout",
     "output_type": "stream",
     "text": [
      "Epochs = 109 : Training Loss = 0.158346Epochs = 110 : Training Loss = 0.15754865"
     ]
    },
    {
     "name": "stdout",
     "output_type": "stream",
     "text": [
      "Epochs = 111 : Training Loss = 0.1567605Epochs = 112 : Training Loss = 0.15598226"
     ]
    },
    {
     "name": "stdout",
     "output_type": "stream",
     "text": [
      "Epochs = 113 : Training Loss = 0.15521331Epochs = 114 : Training Loss = 0.15445368"
     ]
    },
    {
     "name": "stdout",
     "output_type": "stream",
     "text": [
      "Epochs = 115 : Training Loss = 0.15370333Epochs = 116 : Training Loss = 0.15296131"
     ]
    },
    {
     "name": "stdout",
     "output_type": "stream",
     "text": [
      "Epochs = 117 : Training Loss = 0.15222579Epochs = 118 : Training Loss = 0.15149699"
     ]
    },
    {
     "name": "stdout",
     "output_type": "stream",
     "text": [
      "Epochs = 119 : Training Loss = 0.15077338Epochs = 120 : Training Loss = 0.15005916"
     ]
    },
    {
     "name": "stdout",
     "output_type": "stream",
     "text": [
      "Epochs = 121 : Training Loss = 0.14935122Epochs = 122 : Training Loss = 0.14864993"
     ]
    },
    {
     "name": "stdout",
     "output_type": "stream",
     "text": [
      "Epochs = 123 : Training Loss = 0.14795482Epochs = 124 : Training Loss = 0.14726679"
     ]
    },
    {
     "name": "stdout",
     "output_type": "stream",
     "text": [
      "Epochs = 125 : Training Loss = 0.14658707Epochs = 126 : Training Loss = 0.14591192"
     ]
    },
    {
     "name": "stdout",
     "output_type": "stream",
     "text": [
      "Epochs = 127 : Training Loss = 0.1452415Epochs = 128 : Training Loss = 0.14457567"
     ]
    },
    {
     "name": "stdout",
     "output_type": "stream",
     "text": [
      "Epochs = 129 : Training Loss = 0.14391437Epochs = 130 : Training Loss = 0.14326037"
     ]
    },
    {
     "name": "stdout",
     "output_type": "stream",
     "text": [
      "Epochs = 131 : Training Loss = 0.14261234Epochs = 132 : Training Loss = 0.14197028"
     ]
    },
    {
     "name": "stdout",
     "output_type": "stream",
     "text": [
      "Epochs = 133 : Training Loss = 0.14133376Epochs = 134 : Training Loss = 0.14070244"
     ]
    },
    {
     "name": "stdout",
     "output_type": "stream",
     "text": [
      "Epochs = 135 : Training Loss = 0.14007565Epochs = 136 : Training Loss = 0.13945244"
     ]
    },
    {
     "name": "stdout",
     "output_type": "stream",
     "text": [
      "Epochs = 137 : Training Loss = 0.13883351Epochs = 138 : Training Loss = 0.13821898"
     ]
    },
    {
     "name": "stdout",
     "output_type": "stream",
     "text": [
      "Epochs = 139 : Training Loss = 0.13760966Epochs = 140 : Training Loss = 0.13700464"
     ]
    },
    {
     "name": "stdout",
     "output_type": "stream",
     "text": [
      "Epochs = 141 : Training Loss = 0.13640374Epochs = 142 : Training Loss = 0.13580796"
     ]
    },
    {
     "name": "stdout",
     "output_type": "stream",
     "text": [
      "Epochs = 143 : Training Loss = 0.13521664Epochs = 144 : Training Loss = 0.13462883"
     ]
    },
    {
     "name": "stdout",
     "output_type": "stream",
     "text": [
      "Epochs = 145 : Training Loss = 0.13404402Epochs = 146 : Training Loss = 0.13346234"
     ]
    },
    {
     "name": "stdout",
     "output_type": "stream",
     "text": [
      "Epochs = 147 : Training Loss = 0.1328831Epochs = 148 : Training Loss = 0.13230686"
     ]
    },
    {
     "name": "stdout",
     "output_type": "stream",
     "text": [
      "Epochs = 149 : Training Loss = 0.1317339Epochs = 150 : Training Loss = 0.13116294"
     ]
    },
    {
     "name": "stdout",
     "output_type": "stream",
     "text": [
      "Epochs = 151 : Training Loss = 0.13059686Epochs = 152 : Training Loss = 0.13003351"
     ]
    },
    {
     "name": "stdout",
     "output_type": "stream",
     "text": [
      "Epochs = 153 : Training Loss = 0.12947239Epochs = 154 : Training Loss = 0.12891428"
     ]
    },
    {
     "name": "stdout",
     "output_type": "stream",
     "text": [
      "Epochs = 155 : Training Loss = 0.1283583Epochs = 156 : Training Loss = 0.1278061"
     ]
    },
    {
     "name": "stdout",
     "output_type": "stream",
     "text": [
      "Epochs = 157 : Training Loss = 0.12725449Epochs = 158 : Training Loss = 0.1267007"
     ]
    },
    {
     "name": "stdout",
     "output_type": "stream",
     "text": [
      "Epochs = 159 : Training Loss = 0.1261459Epochs = 160 : Training Loss = 0.12559451"
     ]
    },
    {
     "name": "stdout",
     "output_type": "stream",
     "text": [
      "Epochs = 161 : Training Loss = 0.12504435Epochs = 162 : Training Loss = 0.124498695"
     ]
    },
    {
     "name": "stdout",
     "output_type": "stream",
     "text": [
      "Epochs = 163 : Training Loss = 0.12395651Epochs = 164 : Training Loss = 0.123415545"
     ]
    },
    {
     "name": "stdout",
     "output_type": "stream",
     "text": [
      "Epochs = 165 : Training Loss = 0.12287502Epochs = 166 : Training Loss = 0.12233626"
     ]
    },
    {
     "name": "stdout",
     "output_type": "stream",
     "text": [
      "Epochs = 167 : Training Loss = 0.12179974Epochs = 168 : Training Loss = 0.12126428"
     ]
    },
    {
     "name": "stdout",
     "output_type": "stream",
     "text": [
      "Epochs = 169 : Training Loss = 0.12073075Epochs = 170 : Training Loss = 0.120199725"
     ]
    },
    {
     "name": "stdout",
     "output_type": "stream",
     "text": [
      "Epochs = 171 : Training Loss = 0.11966701Epochs = 172 : Training Loss = 0.119135275"
     ]
    },
    {
     "name": "stdout",
     "output_type": "stream",
     "text": [
      "Epochs = 173 : Training Loss = 0.11860553Epochs = 174 : Training Loss = 0.11807788"
     ]
    },
    {
     "name": "stdout",
     "output_type": "stream",
     "text": [
      "Epochs = 175 : Training Loss = 0.11754797Epochs = 176 : Training Loss = 0.11702018"
     ]
    },
    {
     "name": "stdout",
     "output_type": "stream",
     "text": [
      "Epochs = 177 : Training Loss = 0.116498284Epochs = 178 : Training Loss = 0.115974896"
     ]
    },
    {
     "name": "stdout",
     "output_type": "stream",
     "text": [
      "Epochs = 179 : Training Loss = 0.11545244Epochs = 180 : Training Loss = 0.11493252"
     ]
    },
    {
     "name": "stdout",
     "output_type": "stream",
     "text": [
      "Epochs = 181 : Training Loss = 0.11441598Epochs = 182 : Training Loss = 0.11390291"
     ]
    },
    {
     "name": "stdout",
     "output_type": "stream",
     "text": [
      "Epochs = 183 : Training Loss = 0.11339097Epochs = 184 : Training Loss = 0.112880014"
     ]
    },
    {
     "name": "stdout",
     "output_type": "stream",
     "text": [
      "Epochs = 185 : Training Loss = 0.11237098Epochs = 186 : Training Loss = 0.11186405"
     ]
    },
    {
     "name": "stdout",
     "output_type": "stream",
     "text": [
      "Epochs = 187 : Training Loss = 0.111360736Epochs = 188 : Training Loss = 0.11085877"
     ]
    },
    {
     "name": "stdout",
     "output_type": "stream",
     "text": [
      "Epochs = 189 : Training Loss = 0.11035814Epochs = 190 : Training Loss = 0.10985982"
     ]
    },
    {
     "name": "stdout",
     "output_type": "stream",
     "text": [
      "Epochs = 191 : Training Loss = 0.10936258Epochs = 192 : Training Loss = 0.10886807"
     ]
    },
    {
     "name": "stdout",
     "output_type": "stream",
     "text": [
      "Epochs = 193 : Training Loss = 0.10837562Epochs = 194 : Training Loss = 0.10788667"
     ]
    },
    {
     "name": "stdout",
     "output_type": "stream",
     "text": [
      "Epochs = 195 : Training Loss = 0.10740078Epochs = 196 : Training Loss = 0.10691968"
     ]
    },
    {
     "name": "stdout",
     "output_type": "stream",
     "text": [
      "Epochs = 197 : Training Loss = 0.106440514Epochs = 198 : Training Loss = 0.10596525"
     ]
    },
    {
     "name": "stdout",
     "output_type": "stream",
     "text": [
      "Epochs = 199 : Training Loss = 0.10549107Epochs = 200 : Training Loss = 0.105025195"
     ]
    },
    {
     "name": "stdout",
     "output_type": "stream",
     "text": [
      "Epochs = 201 : Training Loss = 0.10456281Epochs = 202 : Training Loss = 0.104103744"
     ]
    },
    {
     "name": "stdout",
     "output_type": "stream",
     "text": [
      "Epochs = 203 : Training Loss = 0.10364755Epochs = 204 : Training Loss = 0.10319485"
     ]
    },
    {
     "name": "stdout",
     "output_type": "stream",
     "text": [
      "Epochs = 205 : Training Loss = 0.10274715Epochs = 206 : Training Loss = 0.10230142"
     ]
    },
    {
     "name": "stdout",
     "output_type": "stream",
     "text": [
      "Epochs = 207 : Training Loss = 0.10185794Epochs = 208 : Training Loss = 0.101417534"
     ]
    },
    {
     "name": "stdout",
     "output_type": "stream",
     "text": [
      "Epochs = 209 : Training Loss = 0.100979Epochs = 210 : Training Loss = 0.10054359"
     ]
    },
    {
     "name": "stdout",
     "output_type": "stream",
     "text": [
      "Epochs = 211 : Training Loss = 0.100111835Epochs = 212 : Training Loss = 0.09968349"
     ]
    },
    {
     "name": "stdout",
     "output_type": "stream",
     "text": [
      "Epochs = 213 : Training Loss = 0.09925758Epochs = 214 : Training Loss = 0.09883609"
     ]
    },
    {
     "name": "stdout",
     "output_type": "stream",
     "text": [
      "Epochs = 215 : Training Loss = 0.098415695Epochs = 216 : Training Loss = 0.09799784"
     ]
    },
    {
     "name": "stdout",
     "output_type": "stream",
     "text": [
      "Epochs = 217 : Training Loss = 0.0975843Epochs = 218 : Training Loss = 0.09717342"
     ]
    },
    {
     "name": "stdout",
     "output_type": "stream",
     "text": [
      "Epochs = 219 : Training Loss = 0.0967641Epochs = 220 : Training Loss = 0.09635688"
     ]
    },
    {
     "name": "stdout",
     "output_type": "stream",
     "text": [
      "Epochs = 221 : Training Loss = 0.095953904Epochs = 222 : Training Loss = 0.09555427"
     ]
    },
    {
     "name": "stdout",
     "output_type": "stream",
     "text": [
      "Epochs = 223 : Training Loss = 0.0951547Epochs = 224 : Training Loss = 0.09475913"
     ]
    },
    {
     "name": "stdout",
     "output_type": "stream",
     "text": [
      "Epochs = 225 : Training Loss = 0.094364494Epochs = 226 : Training Loss = 0.093972765"
     ]
    },
    {
     "name": "stdout",
     "output_type": "stream",
     "text": [
      "Epochs = 227 : Training Loss = 0.09358418Epochs = 228 : Training Loss = 0.09320081"
     ]
    },
    {
     "name": "stdout",
     "output_type": "stream",
     "text": [
      "Epochs = 229 : Training Loss = 0.09281966Epochs = 230 : Training Loss = 0.092441484"
     ]
    },
    {
     "name": "stdout",
     "output_type": "stream",
     "text": [
      "Epochs = 231 : Training Loss = 0.0920658Epochs = 232 : Training Loss = 0.09169385"
     ]
    },
    {
     "name": "stdout",
     "output_type": "stream",
     "text": [
      "Epochs = 233 : Training Loss = 0.09132537Epochs = 234 : Training Loss = 0.09095969"
     ]
    },
    {
     "name": "stdout",
     "output_type": "stream",
     "text": [
      "Epochs = 235 : Training Loss = 0.09059416Epochs = 236 : Training Loss = 0.09022992"
     ]
    },
    {
     "name": "stdout",
     "output_type": "stream",
     "text": [
      "Epochs = 237 : Training Loss = 0.08986822Epochs = 238 : Training Loss = 0.08950929"
     ]
    },
    {
     "name": "stdout",
     "output_type": "stream",
     "text": [
      "Epochs = 239 : Training Loss = 0.08915296Epochs = 240 : Training Loss = 0.08879943"
     ]
    },
    {
     "name": "stdout",
     "output_type": "stream",
     "text": [
      "Epochs = 241 : Training Loss = 0.08844823Epochs = 242 : Training Loss = 0.088098034"
     ]
    },
    {
     "name": "stdout",
     "output_type": "stream",
     "text": [
      "Epochs = 243 : Training Loss = 0.087749936Epochs = 244 : Training Loss = 0.0874048"
     ]
    },
    {
     "name": "stdout",
     "output_type": "stream",
     "text": [
      "Epochs = 245 : Training Loss = 0.08706148Epochs = 246 : Training Loss = 0.086720124"
     ]
    },
    {
     "name": "stdout",
     "output_type": "stream",
     "text": [
      "Epochs = 247 : Training Loss = 0.08638041Epochs = 248 : Training Loss = 0.08604314"
     ]
    },
    {
     "name": "stdout",
     "output_type": "stream",
     "text": [
      "Epochs = 249 : Training Loss = 0.08570724Epochs = 250 : Training Loss = 0.08537386"
     ]
    },
    {
     "name": "stdout",
     "output_type": "stream",
     "text": [
      "Epochs = 251 : Training Loss = 0.08504179Epochs = 252 : Training Loss = 0.08471245"
     ]
    },
    {
     "name": "stdout",
     "output_type": "stream",
     "text": [
      "Epochs = 253 : Training Loss = 0.08438571Epochs = 254 : Training Loss = 0.084059946"
     ]
    },
    {
     "name": "stdout",
     "output_type": "stream",
     "text": [
      "Epochs = 255 : Training Loss = 0.08373112Epochs = 256 : Training Loss = 0.08340715"
     ]
    },
    {
     "name": "stdout",
     "output_type": "stream",
     "text": [
      "Epochs = 257 : Training Loss = 0.08308589Epochs = 258 : Training Loss = 0.08276272"
     ]
    },
    {
     "name": "stdout",
     "output_type": "stream",
     "text": [
      "Epochs = 259 : Training Loss = 0.082442336Epochs = 260 : Training Loss = 0.08212465"
     ]
    },
    {
     "name": "stdout",
     "output_type": "stream",
     "text": [
      "Epochs = 261 : Training Loss = 0.08180636Epochs = 262 : Training Loss = 0.08149326"
     ]
    },
    {
     "name": "stdout",
     "output_type": "stream",
     "text": [
      "Epochs = 263 : Training Loss = 0.08117621Epochs = 264 : Training Loss = 0.08086198"
     ]
    },
    {
     "name": "stdout",
     "output_type": "stream",
     "text": [
      "Epochs = 265 : Training Loss = 0.08055418Epochs = 266 : Training Loss = 0.0802495"
     ]
    },
    {
     "name": "stdout",
     "output_type": "stream",
     "text": [
      "Epochs = 267 : Training Loss = 0.079943165Epochs = 268 : Training Loss = 0.07963589"
     ]
    },
    {
     "name": "stdout",
     "output_type": "stream",
     "text": [
      "Epochs = 269 : Training Loss = 0.079331584Epochs = 270 : Training Loss = 0.07903024"
     ]
    },
    {
     "name": "stdout",
     "output_type": "stream",
     "text": [
      "Epochs = 271 : Training Loss = 0.0787381Epochs = 272 : Training Loss = 0.078434475"
     ]
    },
    {
     "name": "stdout",
     "output_type": "stream",
     "text": [
      "Epochs = 273 : Training Loss = 0.07812951Epochs = 274 : Training Loss = 0.077834785"
     ]
    },
    {
     "name": "stdout",
     "output_type": "stream",
     "text": [
      "Epochs = 275 : Training Loss = 0.07754132Epochs = 276 : Training Loss = 0.077250585"
     ]
    },
    {
     "name": "stdout",
     "output_type": "stream",
     "text": [
      "Epochs = 277 : Training Loss = 0.07696128Epochs = 278 : Training Loss = 0.07666891"
     ]
    },
    {
     "name": "stdout",
     "output_type": "stream",
     "text": [
      "Epochs = 279 : Training Loss = 0.076378964Epochs = 280 : Training Loss = 0.07608691"
     ]
    },
    {
     "name": "stdout",
     "output_type": "stream",
     "text": [
      "Epochs = 281 : Training Loss = 0.075799115Epochs = 282 : Training Loss = 0.07551387"
     ]
    },
    {
     "name": "stdout",
     "output_type": "stream",
     "text": [
      "Epochs = 283 : Training Loss = 0.0752333Epochs = 284 : Training Loss = 0.074956186"
     ]
    },
    {
     "name": "stdout",
     "output_type": "stream",
     "text": [
      "Epochs = 285 : Training Loss = 0.074684754Epochs = 286 : Training Loss = 0.07441668"
     ]
    },
    {
     "name": "stdout",
     "output_type": "stream",
     "text": [
      "Epochs = 287 : Training Loss = 0.07413496Epochs = 288 : Training Loss = 0.073849015"
     ]
    },
    {
     "name": "stdout",
     "output_type": "stream",
     "text": [
      "Epochs = 289 : Training Loss = 0.073560186Epochs = 290 : Training Loss = 0.073283106"
     ]
    },
    {
     "name": "stdout",
     "output_type": "stream",
     "text": [
      "Epochs = 291 : Training Loss = 0.07302354Epochs = 292 : Training Loss = 0.072755694"
     ]
    },
    {
     "name": "stdout",
     "output_type": "stream",
     "text": [
      "Epochs = 293 : Training Loss = 0.07247996Epochs = 294 : Training Loss = 0.07220332"
     ]
    },
    {
     "name": "stdout",
     "output_type": "stream",
     "text": [
      "Epochs = 295 : Training Loss = 0.07192985Epochs = 296 : Training Loss = 0.0716654"
     ]
    },
    {
     "name": "stdout",
     "output_type": "stream",
     "text": [
      "Epochs = 297 : Training Loss = 0.07140661Epochs = 298 : Training Loss = 0.07113799"
     ]
    },
    {
     "name": "stdout",
     "output_type": "stream",
     "text": [
      "Epochs = 299 : Training Loss = 0.07087039Epochs = 300 : Training Loss = 0.07060718"
     ]
    },
    {
     "name": "stdout",
     "output_type": "stream",
     "text": [
      "Epochs = 301 : Training Loss = 0.07034489Epochs = 302 : Training Loss = 0.070084356"
     ]
    },
    {
     "name": "stdout",
     "output_type": "stream",
     "text": [
      "Epochs = 303 : Training Loss = 0.06982624Epochs = 304 : Training Loss = 0.06957312"
     ]
    },
    {
     "name": "stdout",
     "output_type": "stream",
     "text": [
      "Epochs = 305 : Training Loss = 0.06933805Epochs = 306 : Training Loss = 0.06912674"
     ]
    },
    {
     "name": "stdout",
     "output_type": "stream",
     "text": [
      "Epochs = 307 : Training Loss = 0.068921834Epochs = 308 : Training Loss = 0.06867817"
     ]
    },
    {
     "name": "stdout",
     "output_type": "stream",
     "text": [
      "Epochs = 309 : Training Loss = 0.06837842Epochs = 310 : Training Loss = 0.06806741"
     ]
    },
    {
     "name": "stdout",
     "output_type": "stream",
     "text": [
      "Epochs = 311 : Training Loss = 0.0677978Epochs = 312 : Training Loss = 0.06757079"
     ]
    },
    {
     "name": "stdout",
     "output_type": "stream",
     "text": [
      "Epochs = 313 : Training Loss = 0.06736057Epochs = 314 : Training Loss = 0.06713283"
     ]
    },
    {
     "name": "stdout",
     "output_type": "stream",
     "text": [
      "Epochs = 315 : Training Loss = 0.06685728Epochs = 316 : Training Loss = 0.06657495"
     ]
    },
    {
     "name": "stdout",
     "output_type": "stream",
     "text": [
      "Epochs = 317 : Training Loss = 0.06632906Epochs = 318 : Training Loss = 0.066113956"
     ]
    },
    {
     "name": "stdout",
     "output_type": "stream",
     "text": [
      "Epochs = 319 : Training Loss = 0.06589758Epochs = 320 : Training Loss = 0.06565299"
     ]
    },
    {
     "name": "stdout",
     "output_type": "stream",
     "text": [
      "Epochs = 321 : Training Loss = 0.0653923Epochs = 322 : Training Loss = 0.06513378"
     ]
    },
    {
     "name": "stdout",
     "output_type": "stream",
     "text": [
      "Epochs = 323 : Training Loss = 0.06489792Epochs = 324 : Training Loss = 0.064679466"
     ]
    },
    {
     "name": "stdout",
     "output_type": "stream",
     "text": [
      "Epochs = 325 : Training Loss = 0.06446175Epochs = 326 : Training Loss = 0.06423882"
     ]
    },
    {
     "name": "stdout",
     "output_type": "stream",
     "text": [
      "Epochs = 327 : Training Loss = 0.064001694Epochs = 328 : Training Loss = 0.06376098"
     ]
    },
    {
     "name": "stdout",
     "output_type": "stream",
     "text": [
      "Epochs = 329 : Training Loss = 0.063513234Epochs = 330 : Training Loss = 0.06327752"
     ]
    },
    {
     "name": "stdout",
     "output_type": "stream",
     "text": [
      "Epochs = 331 : Training Loss = 0.06305466Epochs = 332 : Training Loss = 0.06283867"
     ]
    },
    {
     "name": "stdout",
     "output_type": "stream",
     "text": [
      "Epochs = 333 : Training Loss = 0.062623456Epochs = 334 : Training Loss = 0.062414564"
     ]
    },
    {
     "name": "stdout",
     "output_type": "stream",
     "text": [
      "Epochs = 335 : Training Loss = 0.062196866Epochs = 336 : Training Loss = 0.061986223"
     ]
    },
    {
     "name": "stdout",
     "output_type": "stream",
     "text": [
      "Epochs = 337 : Training Loss = 0.061753362Epochs = 338 : Training Loss = 0.0615203"
     ]
    },
    {
     "name": "stdout",
     "output_type": "stream",
     "text": [
      "Epochs = 339 : Training Loss = 0.06127971Epochs = 340 : Training Loss = 0.06103948"
     ]
    },
    {
     "name": "stdout",
     "output_type": "stream",
     "text": [
      "Epochs = 341 : Training Loss = 0.06081294Epochs = 342 : Training Loss = 0.060599845"
     ]
    },
    {
     "name": "stdout",
     "output_type": "stream",
     "text": [
      "Epochs = 343 : Training Loss = 0.06039553Epochs = 344 : Training Loss = 0.06019703"
     ]
    },
    {
     "name": "stdout",
     "output_type": "stream",
     "text": [
      "Epochs = 345 : Training Loss = 0.060010303Epochs = 346 : Training Loss = 0.05981683"
     ]
    },
    {
     "name": "stdout",
     "output_type": "stream",
     "text": [
      "Epochs = 347 : Training Loss = 0.059614483Epochs = 348 : Training Loss = 0.059383813"
     ]
    },
    {
     "name": "stdout",
     "output_type": "stream",
     "text": [
      "Epochs = 349 : Training Loss = 0.059147295Epochs = 350 : Training Loss = 0.058905546"
     ]
    },
    {
     "name": "stdout",
     "output_type": "stream",
     "text": [
      "Epochs = 351 : Training Loss = 0.05867521Epochs = 352 : Training Loss = 0.058469765"
     ]
    },
    {
     "name": "stdout",
     "output_type": "stream",
     "text": [
      "Epochs = 353 : Training Loss = 0.05828082Epochs = 354 : Training Loss = 0.0581076"
     ]
    },
    {
     "name": "stdout",
     "output_type": "stream",
     "text": [
      "Epochs = 355 : Training Loss = 0.05791282Epochs = 356 : Training Loss = 0.05770156"
     ]
    },
    {
     "name": "stdout",
     "output_type": "stream",
     "text": [
      "Epochs = 357 : Training Loss = 0.057473414Epochs = 358 : Training Loss = 0.057249416"
     ]
    },
    {
     "name": "stdout",
     "output_type": "stream",
     "text": [
      "Epochs = 359 : Training Loss = 0.0570243Epochs = 360 : Training Loss = 0.056814738"
     ]
    },
    {
     "name": "stdout",
     "output_type": "stream",
     "text": [
      "Epochs = 361 : Training Loss = 0.056619726Epochs = 362 : Training Loss = 0.056434065"
     ]
    },
    {
     "name": "stdout",
     "output_type": "stream",
     "text": [
      "Epochs = 363 : Training Loss = 0.056256592Epochs = 364 : Training Loss = 0.056070767"
     ]
    },
    {
     "name": "stdout",
     "output_type": "stream",
     "text": [
      "Epochs = 365 : Training Loss = 0.05590597Epochs = 366 : Training Loss = 0.055720277"
     ]
    },
    {
     "name": "stdout",
     "output_type": "stream",
     "text": [
      "Epochs = 367 : Training Loss = 0.055536304Epochs = 368 : Training Loss = 0.055313714"
     ]
    },
    {
     "name": "stdout",
     "output_type": "stream",
     "text": [
      "Epochs = 369 : Training Loss = 0.05509114Epochs = 370 : Training Loss = 0.054855004"
     ]
    },
    {
     "name": "stdout",
     "output_type": "stream",
     "text": [
      "Epochs = 371 : Training Loss = 0.054633804Epochs = 372 : Training Loss = 0.0544353"
     ]
    },
    {
     "name": "stdout",
     "output_type": "stream",
     "text": [
      "Epochs = 373 : Training Loss = 0.054258198Epochs = 374 : Training Loss = 0.054098543"
     ]
    },
    {
     "name": "stdout",
     "output_type": "stream",
     "text": [
      "Epochs = 375 : Training Loss = 0.05393244Epochs = 376 : Training Loss = 0.053764533"
     ]
    },
    {
     "name": "stdout",
     "output_type": "stream",
     "text": [
      "Epochs = 377 : Training Loss = 0.05357982Epochs = 378 : Training Loss = 0.053392965"
     ]
    },
    {
     "name": "stdout",
     "output_type": "stream",
     "text": [
      "Epochs = 379 : Training Loss = 0.053179163Epochs = 380 : Training Loss = 0.05295402"
     ]
    },
    {
     "name": "stdout",
     "output_type": "stream",
     "text": [
      "Epochs = 381 : Training Loss = 0.05271985Epochs = 382 : Training Loss = 0.052513726"
     ]
    },
    {
     "name": "stdout",
     "output_type": "stream",
     "text": [
      "Epochs = 383 : Training Loss = 0.052333813Epochs = 384 : Training Loss = 0.052166067"
     ]
    },
    {
     "name": "stdout",
     "output_type": "stream",
     "text": [
      "Epochs = 385 : Training Loss = 0.05200466Epochs = 386 : Training Loss = 0.0518395"
     ]
    },
    {
     "name": "stdout",
     "output_type": "stream",
     "text": [
      "Epochs = 387 : Training Loss = 0.0516682Epochs = 388 : Training Loss = 0.051478125"
     ]
    },
    {
     "name": "stdout",
     "output_type": "stream",
     "text": [
      "Epochs = 389 : Training Loss = 0.051275138Epochs = 390 : Training Loss = 0.0510671"
     ]
    },
    {
     "name": "stdout",
     "output_type": "stream",
     "text": [
      "Epochs = 391 : Training Loss = 0.050874967Epochs = 392 : Training Loss = 0.050672412"
     ]
    },
    {
     "name": "stdout",
     "output_type": "stream",
     "text": [
      "Epochs = 393 : Training Loss = 0.05047762Epochs = 394 : Training Loss = 0.050297298"
     ]
    },
    {
     "name": "stdout",
     "output_type": "stream",
     "text": [
      "Epochs = 395 : Training Loss = 0.050129615Epochs = 396 : Training Loss = 0.049974613"
     ]
    },
    {
     "name": "stdout",
     "output_type": "stream",
     "text": [
      "Epochs = 397 : Training Loss = 0.049832527Epochs = 398 : Training Loss = 0.049727406"
     ]
    },
    {
     "name": "stdout",
     "output_type": "stream",
     "text": [
      "Epochs = 399 : Training Loss = 0.049620565Epochs = 400 : Training Loss = 0.049516488"
     ]
    },
    {
     "name": "stdout",
     "output_type": "stream",
     "text": [
      "Epochs = 401 : Training Loss = 0.049321953Epochs = 402 : Training Loss = 0.049089503"
     ]
    },
    {
     "name": "stdout",
     "output_type": "stream",
     "text": [
      "Epochs = 403 : Training Loss = 0.04881312Epochs = 404 : Training Loss = 0.04856211"
     ]
    },
    {
     "name": "stdout",
     "output_type": "stream",
     "text": [
      "Epochs = 405 : Training Loss = 0.048374414Epochs = 406 : Training Loss = 0.048247777"
     ]
    },
    {
     "name": "stdout",
     "output_type": "stream",
     "text": [
      "Epochs = 407 : Training Loss = 0.04812905Epochs = 408 : Training Loss = 0.04797497"
     ]
    },
    {
     "name": "stdout",
     "output_type": "stream",
     "text": [
      "Epochs = 409 : Training Loss = 0.04780248Epochs = 410 : Training Loss = 0.047599174"
     ]
    },
    {
     "name": "stdout",
     "output_type": "stream",
     "text": [
      "Epochs = 411 : Training Loss = 0.047378287Epochs = 412 : Training Loss = 0.047191057"
     ]
    },
    {
     "name": "stdout",
     "output_type": "stream",
     "text": [
      "Epochs = 413 : Training Loss = 0.047032885Epochs = 414 : Training Loss = 0.046910856"
     ]
    },
    {
     "name": "stdout",
     "output_type": "stream",
     "text": [
      "Epochs = 415 : Training Loss = 0.0468122Epochs = 416 : Training Loss = 0.046698067"
     ]
    },
    {
     "name": "stdout",
     "output_type": "stream",
     "text": [
      "Epochs = 417 : Training Loss = 0.046556544Epochs = 418 : Training Loss = 0.046369955"
     ]
    },
    {
     "name": "stdout",
     "output_type": "stream",
     "text": [
      "Epochs = 419 : Training Loss = 0.046142723Epochs = 420 : Training Loss = 0.045921072"
     ]
    },
    {
     "name": "stdout",
     "output_type": "stream",
     "text": [
      "Epochs = 421 : Training Loss = 0.045723412Epochs = 422 : Training Loss = 0.045581177"
     ]
    },
    {
     "name": "stdout",
     "output_type": "stream",
     "text": [
      "Epochs = 423 : Training Loss = 0.045466844Epochs = 424 : Training Loss = 0.045347054"
     ]
    },
    {
     "name": "stdout",
     "output_type": "stream",
     "text": [
      "Epochs = 425 : Training Loss = 0.045208607Epochs = 426 : Training Loss = 0.045041315"
     ]
    },
    {
     "name": "stdout",
     "output_type": "stream",
     "text": [
      "Epochs = 427 : Training Loss = 0.04486681Epochs = 428 : Training Loss = 0.044670206"
     ]
    },
    {
     "name": "stdout",
     "output_type": "stream",
     "text": [
      "Epochs = 429 : Training Loss = 0.04447821Epochs = 430 : Training Loss = 0.04430935"
     ]
    },
    {
     "name": "stdout",
     "output_type": "stream",
     "text": [
      "Epochs = 431 : Training Loss = 0.0441603Epochs = 432 : Training Loss = 0.04402515"
     ]
    },
    {
     "name": "stdout",
     "output_type": "stream",
     "text": [
      "Epochs = 433 : Training Loss = 0.043901276Epochs = 434 : Training Loss = 0.043796483"
     ]
    },
    {
     "name": "stdout",
     "output_type": "stream",
     "text": [
      "Epochs = 435 : Training Loss = 0.043697443Epochs = 436 : Training Loss = 0.04358166"
     ]
    },
    {
     "name": "stdout",
     "output_type": "stream",
     "text": [
      "Epochs = 437 : Training Loss = 0.043430325Epochs = 438 : Training Loss = 0.04324816"
     ]
    },
    {
     "name": "stdout",
     "output_type": "stream",
     "text": [
      "Epochs = 439 : Training Loss = 0.043050684Epochs = 440 : Training Loss = 0.04283313"
     ]
    },
    {
     "name": "stdout",
     "output_type": "stream",
     "text": [
      "Epochs = 441 : Training Loss = 0.04264742Epochs = 442 : Training Loss = 0.042495813"
     ]
    },
    {
     "name": "stdout",
     "output_type": "stream",
     "text": [
      "Epochs = 443 : Training Loss = 0.042385653Epochs = 444 : Training Loss = 0.042300202"
     ]
    },
    {
     "name": "stdout",
     "output_type": "stream",
     "text": [
      "Epochs = 445 : Training Loss = 0.04220577Epochs = 446 : Training Loss = 0.04208871"
     ]
    },
    {
     "name": "stdout",
     "output_type": "stream",
     "text": [
      "Epochs = 447 : Training Loss = 0.041942842Epochs = 448 : Training Loss = 0.04177415"
     ]
    },
    {
     "name": "stdout",
     "output_type": "stream",
     "text": [
      "Epochs = 449 : Training Loss = 0.04157704Epochs = 450 : Training Loss = 0.041377474"
     ]
    },
    {
     "name": "stdout",
     "output_type": "stream",
     "text": [
      "Epochs = 451 : Training Loss = 0.0411971Epochs = 452 : Training Loss = 0.0410448"
     ]
    },
    {
     "name": "stdout",
     "output_type": "stream",
     "text": [
      "Epochs = 453 : Training Loss = 0.040911686Epochs = 454 : Training Loss = 0.040788095"
     ]
    },
    {
     "name": "stdout",
     "output_type": "stream",
     "text": [
      "Epochs = 455 : Training Loss = 0.0406604Epochs = 456 : Training Loss = 0.040538467"
     ]
    },
    {
     "name": "stdout",
     "output_type": "stream",
     "text": [
      "Epochs = 457 : Training Loss = 0.040437218Epochs = 458 : Training Loss = 0.040340006"
     ]
    },
    {
     "name": "stdout",
     "output_type": "stream",
     "text": [
      "Epochs = 459 : Training Loss = 0.040252842Epochs = 460 : Training Loss = 0.040116813"
     ]
    },
    {
     "name": "stdout",
     "output_type": "stream",
     "text": [
      "Epochs = 461 : Training Loss = 0.03997442Epochs = 462 : Training Loss = 0.039832875"
     ]
    },
    {
     "name": "stdout",
     "output_type": "stream",
     "text": [
      "Epochs = 463 : Training Loss = 0.03966515Epochs = 464 : Training Loss = 0.039487183"
     ]
    },
    {
     "name": "stdout",
     "output_type": "stream",
     "text": [
      "Epochs = 465 : Training Loss = 0.03929975Epochs = 466 : Training Loss = 0.039136752"
     ]
    },
    {
     "name": "stdout",
     "output_type": "stream",
     "text": [
      "Epochs = 467 : Training Loss = 0.038984824Epochs = 468 : Training Loss = 0.038851626"
     ]
    },
    {
     "name": "stdout",
     "output_type": "stream",
     "text": [
      "Epochs = 469 : Training Loss = 0.038721364Epochs = 470 : Training Loss = 0.03860773"
     ]
    },
    {
     "name": "stdout",
     "output_type": "stream",
     "text": [
      "Epochs = 471 : Training Loss = 0.038506918Epochs = 472 : Training Loss = 0.0384202"
     ]
    },
    {
     "name": "stdout",
     "output_type": "stream",
     "text": [
      "Epochs = 473 : Training Loss = 0.03833016Epochs = 474 : Training Loss = 0.038238972"
     ]
    },
    {
     "name": "stdout",
     "output_type": "stream",
     "text": [
      "Epochs = 475 : Training Loss = 0.038157776Epochs = 476 : Training Loss = 0.03804298"
     ]
    },
    {
     "name": "stdout",
     "output_type": "stream",
     "text": [
      "Epochs = 477 : Training Loss = 0.037875522Epochs = 478 : Training Loss = 0.037689332"
     ]
    },
    {
     "name": "stdout",
     "output_type": "stream",
     "text": [
      "Epochs = 479 : Training Loss = 0.037492007Epochs = 480 : Training Loss = 0.037319012"
     ]
    },
    {
     "name": "stdout",
     "output_type": "stream",
     "text": [
      "Epochs = 481 : Training Loss = 0.03715296Epochs = 482 : Training Loss = 0.037019733"
     ]
    },
    {
     "name": "stdout",
     "output_type": "stream",
     "text": [
      "Epochs = 483 : Training Loss = 0.03693016Epochs = 484 : Training Loss = 0.036862668"
     ]
    },
    {
     "name": "stdout",
     "output_type": "stream",
     "text": [
      "Epochs = 485 : Training Loss = 0.036808483Epochs = 486 : Training Loss = 0.036734156"
     ]
    },
    {
     "name": "stdout",
     "output_type": "stream",
     "text": [
      "Epochs = 487 : Training Loss = 0.036649212Epochs = 488 : Training Loss = 0.036514007"
     ]
    },
    {
     "name": "stdout",
     "output_type": "stream",
     "text": [
      "Epochs = 489 : Training Loss = 0.036321748Epochs = 490 : Training Loss = 0.03612377"
     ]
    },
    {
     "name": "stdout",
     "output_type": "stream",
     "text": [
      "Epochs = 491 : Training Loss = 0.035922334Epochs = 492 : Training Loss = 0.03576285"
     ]
    },
    {
     "name": "stdout",
     "output_type": "stream",
     "text": [
      "Epochs = 493 : Training Loss = 0.035640378Epochs = 494 : Training Loss = 0.035536766"
     ]
    },
    {
     "name": "stdout",
     "output_type": "stream",
     "text": [
      "Epochs = 495 : Training Loss = 0.035457686Epochs = 496 : Training Loss = 0.0353723"
     ]
    },
    {
     "name": "stdout",
     "output_type": "stream",
     "text": [
      "Epochs = 497 : Training Loss = 0.035281446Epochs = 498 : Training Loss = 0.035196595"
     ]
    },
    {
     "name": "stdout",
     "output_type": "stream",
     "text": [
      "Epochs = 499 : Training Loss = 0.03510415Epochs = 500 : Training Loss = 0.03498373"
     ]
    }
   ],
   "source": [
    "loss_history = []\n",
    "epochs = 500\n",
    "\n",
    "for epoch in 1:epochs\n",
    "    #train model\n",
    "    train!(loss, ps, [(X_train, y_train)], opt)\n",
    "    # print report\n",
    "    train_loss = loss(X_train, y_train)\n",
    "    push!(loss_history,train_loss)\n",
    "    print(\"Epochs = $epoch : Training Loss = $train_loss\")\n",
    "end\n"
   ]
  },
  {
   "cell_type": "markdown",
   "metadata": {},
   "source": [
    "Once trained, let;s make predictions"
   ]
  },
  {
   "cell_type": "code",
   "execution_count": 91,
   "metadata": {},
   "outputs": [
    {
     "data": {
      "text/plain": [
       "0.958"
      ]
     },
     "metadata": {},
     "output_type": "display_data"
    }
   ],
   "source": [
    "y_hat_raw = model(X_test)\n",
    "\n",
    "y_hat = onecold(y_hat_raw) .- 1\n",
    "\n",
    "y = y_test_raw\n",
    "\n",
    "mean(y_hat .== y)"
   ]
  },
  {
   "cell_type": "code",
   "execution_count": 92,
   "metadata": {},
   "outputs": [],
   "source": [
    "using JLD2\n",
    "\n",
    "@save \"MNIST_model.jld2\" model "
   ]
  },
  {
   "cell_type": "code",
   "execution_count": 93,
   "metadata": {},
   "outputs": [],
   "source": [
    "check = [y_hat[i] == y[i] for i in 1:length(y)]\n",
    "\n",
    "index = collect(1:length(y))\n",
    "\n",
    "check_display = [index y_hat y check]\n",
    "\n",
    "vscodedisplay(check_display)"
   ]
  },
  {
   "cell_type": "code",
   "execution_count": 94,
   "metadata": {},
   "outputs": [
    {
     "data": {
      "text/plain": [
       "4"
      ]
     },
     "metadata": {},
     "output_type": "display_data"
    }
   ],
   "source": [
    "# view misclassifications\n",
    "\n",
    "misclass_index = 9\n",
    "\n",
    "img = X_test_raw[:, :, misclass_index]\n",
    "\n",
    "colorview(Gray, img')\n",
    "\n",
    "y[misclass_index]\n",
    "\n",
    "y_hat[misclass_index]"
   ]
  },
  {
   "cell_type": "code",
   "execution_count": 95,
   "metadata": {},
   "outputs": [
    {
     "data": {
      "image/png": "[encoded data removed]",
      "image/svg+xml": "<?xml version=\"1.0\" encoding=\"utf-8\"?>\n<svg xmlns=\"http://www.w3.org/2000/svg\" xmlns:xlink=\"http://www.w3.org/1999/xlink\" width=\"600\" height=\"600\" viewBox=\"0 0 2400 2400\">\n<defs>\n  <clipPath id=\"clip100\">\n    <rect x=\"0\" y=\"0\" width=\"2400\" height=\"2400\"/>\n  </clipPath>\n</defs>\n<path clip-path=\"url(#clip100)\" d=\"\nM0 2400 L2400 2400 L2400 0 L0 0  Z\n  \" fill=\"#ffffff\" fill-rule=\"evenodd\" fill-opacity=\"1\"/>\n<defs>\n  <clipPath id=\"clip101\">\n    <rect x=\"480\" y=\"240\" width=\"1681\" height=\"1681\"/>\n  </clipPath>\n</defs>\n<path clip-path=\"url(#clip100)\" d=\"\nM243.14 2174.14 L2352.76 2174.14 L2352.76 153.712 L243.14 153.712  Z\n  \" fill=\"#ffffff\" fill-rule=\"evenodd\" fill-opacity=\"1\"/>\n<defs>\n  <clipPath id=\"clip102\">\n    <rect x=\"243\" y=\"153\" width=\"2111\" height=\"2021\"/>\n  </clipPath>\n</defs>\n<polyline clip-path=\"url(#clip102)\" style=\"stroke:#000000; stroke-linecap:butt; stroke-linejoin:round; stroke-width:2; stroke-opacity:0.1; fill:none\" points=\"\n  298.858,2174.14 298.858,153.712 \n  \"/>\n<polyline clip-path=\"url(#clip102)\" style=\"stroke:#000000; stroke-linecap:butt; stroke-linejoin:round; stroke-width:2; stroke-opacity:0.1; fill:none\" points=\"\n  697.696,2174.14 697.696,153.712 \n  \"/>\n<polyline clip-path=\"url(#clip102)\" style=\"stroke:#000000; stroke-linecap:butt; stroke-linejoin:round; stroke-width:2; stroke-opacity:0.1; fill:none\" points=\"\n  1096.53,2174.14 1096.53,153.712 \n  \"/>\n<polyline clip-path=\"url(#clip102)\" style=\"stroke:#000000; stroke-linecap:butt; stroke-linejoin:round; stroke-width:2; stroke-opacity:0.1; fill:none\" points=\"\n  1495.37,2174.14 1495.37,153.712 \n  \"/>\n<polyline clip-path=\"url(#clip102)\" style=\"stroke:#000000; stroke-linecap:butt; stroke-linejoin:round; stroke-width:2; stroke-opacity:0.1; fill:none\" points=\"\n  1894.21,2174.14 1894.21,153.712 \n  \"/>\n<polyline clip-path=\"url(#clip102)\" style=\"stroke:#000000; stroke-linecap:butt; stroke-linejoin:round; stroke-width:2; stroke-opacity:0.1; fill:none\" points=\"\n  2293.05,2174.14 2293.05,153.712 \n  \"/>\n<polyline clip-path=\"url(#clip100)\" style=\"stroke:#000000; stroke-linecap:butt; stroke-linejoin:round; stroke-width:4; stroke-opacity:1; fill:none\" points=\"\n  243.14,2174.14 2352.76,2174.14 \n  \"/>\n<polyline clip-path=\"url(#clip100)\" style=\"stroke:#000000; stroke-linecap:butt; stroke-linejoin:round; stroke-width:4; stroke-opacity:1; fill:none\" points=\"\n  298.858,2174.14 298.858,2155.24 \n  \"/>\n<polyline clip-path=\"url(#clip100)\" style=\"stroke:#000000; stroke-linecap:butt; stroke-linejoin:round; stroke-width:4; stroke-opacity:1; fill:none\" points=\"\n  697.696,2174.14 697.696,2155.24 \n  \"/>\n<polyline clip-path=\"url(#clip100)\" style=\"stroke:#000000; stroke-linecap:butt; stroke-linejoin:round; stroke-width:4; stroke-opacity:1; fill:none\" points=\"\n  1096.53,2174.14 1096.53,2155.24 \n  \"/>\n<polyline clip-path=\"url(#clip100)\" style=\"stroke:#000000; stroke-linecap:butt; stroke-linejoin:round; stroke-width:4; stroke-opacity:1; fill:none\" points=\"\n  1495.37,2174.14 1495.37,2155.24 \n  \"/>\n<polyline clip-path=\"url(#clip100)\" style=\"stroke:#000000; stroke-linecap:butt; stroke-linejoin:round; stroke-width:4; stroke-opacity:1; fill:none\" points=\"\n  1894.21,2174.14 1894.21,2155.24 \n  \"/>\n<polyline clip-path=\"url(#clip100)\" style=\"stroke:#000000; stroke-linecap:butt; stroke-linejoin:round; stroke-width:4; stroke-opacity:1; fill:none\" points=\"\n  2293.05,2174.14 2293.05,2155.24 \n  \"/>\n<path clip-path=\"url(#clip100)\" d=\"M298.858 2205.06 Q295.247 2205.06 293.418 2208.62 Q291.613 2212.16 291.613 2219.29 Q291.613 2226.4 293.418 2229.97 Q295.247 2233.51 298.858 2233.51 Q302.492 2233.51 304.298 2229.97 Q306.126 2226.4 306.126 2219.29 Q306.126 2212.16 304.298 2208.62 Q302.492 2205.06 298.858 2205.06 M298.858 2201.35 Q304.668 2201.35 307.724 2205.96 Q310.802 2210.54 310.802 2219.29 Q310.802 2228.02 307.724 2232.63 Q304.668 2237.21 298.858 2237.21 Q293.048 2237.21 289.969 2232.63 Q286.913 2228.02 286.913 2219.29 Q286.913 2210.54 289.969 2205.96 Q293.048 2201.35 298.858 2201.35 Z\" fill=\"#000000\" fill-rule=\"evenodd\" fill-opacity=\"1\" /><path clip-path=\"url(#clip100)\" d=\"M657.303 2232.6 L664.942 2232.6 L664.942 2206.24 L656.632 2207.91 L656.632 2203.65 L664.896 2201.98 L669.571 2201.98 L669.571 2232.6 L677.21 2232.6 L677.21 2236.54 L657.303 2236.54 L657.303 2232.6 Z\" fill=\"#000000\" fill-rule=\"evenodd\" fill-opacity=\"1\" /><path clip-path=\"url(#clip100)\" d=\"M696.655 2205.06 Q693.044 2205.06 691.215 2208.62 Q689.409 2212.16 689.409 2219.29 Q689.409 2226.4 691.215 2229.97 Q693.044 2233.51 696.655 2233.51 Q700.289 2233.51 702.094 2229.97 Q703.923 2226.4 703.923 2219.29 Q703.923 2212.16 702.094 2208.62 Q700.289 2205.06 696.655 2205.06 M696.655 2201.35 Q702.465 2201.35 705.52 2205.96 Q708.599 2210.54 708.599 2219.29 Q708.599 2228.02 705.52 2232.63 Q702.465 2237.21 696.655 2237.21 Q690.844 2237.21 687.766 2232.63 Q684.71 2228.02 684.71 2219.29 Q684.71 2210.54 687.766 2205.96 Q690.844 2201.35 696.655 2201.35 Z\" fill=\"#000000\" fill-rule=\"evenodd\" fill-opacity=\"1\" /><path clip-path=\"url(#clip100)\" d=\"M726.816 2205.06 Q723.205 2205.06 721.377 2208.62 Q719.571 2212.16 719.571 2219.29 Q719.571 2226.4 721.377 2229.97 Q723.205 2233.51 726.816 2233.51 Q730.451 2233.51 732.256 2229.97 Q734.085 2226.4 734.085 2219.29 Q734.085 2212.16 732.256 2208.62 Q730.451 2205.06 726.816 2205.06 M726.816 2201.35 Q732.627 2201.35 735.682 2205.96 Q738.761 2210.54 738.761 2219.29 Q738.761 2228.02 735.682 2232.63 Q732.627 2237.21 726.816 2237.21 Q721.006 2237.21 717.928 2232.63 Q714.872 2228.02 714.872 2219.29 Q714.872 2210.54 717.928 2205.96 Q721.006 2201.35 726.816 2201.35 Z\" fill=\"#000000\" fill-rule=\"evenodd\" fill-opacity=\"1\" /><path clip-path=\"url(#clip100)\" d=\"M1060.23 2232.6 L1076.55 2232.6 L1076.55 2236.54 L1054.6 2236.54 L1054.6 2232.6 Q1057.26 2229.85 1061.85 2225.22 Q1066.45 2220.57 1067.63 2219.23 Q1069.88 2216.7 1070.76 2214.97 Q1071.66 2213.21 1071.66 2211.52 Q1071.66 2208.76 1069.72 2207.03 Q1067.8 2205.29 1064.69 2205.29 Q1062.5 2205.29 1060.04 2206.05 Q1057.61 2206.82 1054.83 2208.37 L1054.83 2203.65 Q1057.66 2202.51 1060.11 2201.93 Q1062.56 2201.35 1064.6 2201.35 Q1069.97 2201.35 1073.17 2204.04 Q1076.36 2206.73 1076.36 2211.22 Q1076.36 2213.35 1075.55 2215.27 Q1074.76 2217.16 1072.66 2219.76 Q1072.08 2220.43 1068.98 2223.65 Q1065.88 2226.84 1060.23 2232.6 Z\" fill=\"#000000\" fill-rule=\"evenodd\" fill-opacity=\"1\" /><path clip-path=\"url(#clip100)\" d=\"M1096.36 2205.06 Q1092.75 2205.06 1090.92 2208.62 Q1089.12 2212.16 1089.12 2219.29 Q1089.12 2226.4 1090.92 2229.97 Q1092.75 2233.51 1096.36 2233.51 Q1100 2233.51 1101.8 2229.97 Q1103.63 2226.4 1103.63 2219.29 Q1103.63 2212.16 1101.8 2208.62 Q1100 2205.06 1096.36 2205.06 M1096.36 2201.35 Q1102.17 2201.35 1105.23 2205.96 Q1108.31 2210.54 1108.31 2219.29 Q1108.31 2228.02 1105.23 2232.63 Q1102.17 2237.21 1096.36 2237.21 Q1090.55 2237.21 1087.47 2232.63 Q1084.42 2228.02 1084.42 2219.29 Q1084.42 2210.54 1087.47 2205.96 Q1090.55 2201.35 1096.36 2201.35 Z\" fill=\"#000000\" fill-rule=\"evenodd\" fill-opacity=\"1\" /><path clip-path=\"url(#clip100)\" d=\"M1126.52 2205.06 Q1122.91 2205.06 1121.08 2208.62 Q1119.28 2212.16 1119.28 2219.29 Q1119.28 2226.4 1121.08 2229.97 Q1122.91 2233.51 1126.52 2233.51 Q1130.16 2233.51 1131.96 2229.97 Q1133.79 2226.4 1133.79 2219.29 Q1133.79 2212.16 1131.96 2208.62 Q1130.16 2205.06 1126.52 2205.06 M1126.52 2201.35 Q1132.33 2201.35 1135.39 2205.96 Q1138.47 2210.54 1138.47 2219.29 Q1138.47 2228.02 1135.39 2232.63 Q1132.33 2237.21 1126.52 2237.21 Q1120.71 2237.21 1117.63 2232.63 Q1114.58 2228.02 1114.58 2219.29 Q1114.58 2210.54 1117.63 2205.96 Q1120.71 2201.35 1126.52 2201.35 Z\" fill=\"#000000\" fill-rule=\"evenodd\" fill-opacity=\"1\" /><path clip-path=\"url(#clip100)\" d=\"M1469.13 2217.91 Q1472.49 2218.62 1474.37 2220.89 Q1476.26 2223.16 1476.26 2226.49 Q1476.26 2231.61 1472.75 2234.41 Q1469.23 2237.21 1462.75 2237.21 Q1460.57 2237.21 1458.26 2236.77 Q1455.96 2236.35 1453.51 2235.5 L1453.51 2230.98 Q1455.45 2232.12 1457.77 2232.7 Q1460.08 2233.28 1462.61 2233.28 Q1467.01 2233.28 1469.3 2231.54 Q1471.61 2229.8 1471.61 2226.49 Q1471.61 2223.44 1469.46 2221.73 Q1467.33 2219.99 1463.51 2219.99 L1459.48 2219.99 L1459.48 2216.15 L1463.69 2216.15 Q1467.14 2216.15 1468.97 2214.78 Q1470.8 2213.39 1470.8 2210.8 Q1470.8 2208.14 1468.9 2206.73 Q1467.03 2205.29 1463.51 2205.29 Q1461.59 2205.29 1459.39 2205.71 Q1457.19 2206.12 1454.55 2207 L1454.55 2202.84 Q1457.21 2202.1 1459.53 2201.73 Q1461.87 2201.35 1463.93 2201.35 Q1469.25 2201.35 1472.35 2203.79 Q1475.45 2206.19 1475.45 2210.31 Q1475.45 2213.18 1473.81 2215.17 Q1472.17 2217.14 1469.13 2217.91 Z\" fill=\"#000000\" fill-rule=\"evenodd\" fill-opacity=\"1\" /><path clip-path=\"url(#clip100)\" d=\"M1495.13 2205.06 Q1491.52 2205.06 1489.69 2208.62 Q1487.88 2212.16 1487.88 2219.29 Q1487.88 2226.4 1489.69 2229.97 Q1491.52 2233.51 1495.13 2233.51 Q1498.76 2233.51 1500.57 2229.97 Q1502.4 2226.4 1502.4 2219.29 Q1502.4 2212.16 1500.57 2208.62 Q1498.76 2205.06 1495.13 2205.06 M1495.13 2201.35 Q1500.94 2201.35 1504 2205.96 Q1507.07 2210.54 1507.07 2219.29 Q1507.07 2228.02 1504 2232.63 Q1500.94 2237.21 1495.13 2237.21 Q1489.32 2237.21 1486.24 2232.63 Q1483.19 2228.02 1483.19 2219.29 Q1483.19 2210.54 1486.24 2205.96 Q1489.32 2201.35 1495.13 2201.35 Z\" fill=\"#000000\" fill-rule=\"evenodd\" fill-opacity=\"1\" /><path clip-path=\"url(#clip100)\" d=\"M1525.29 2205.06 Q1521.68 2205.06 1519.85 2208.62 Q1518.05 2212.16 1518.05 2219.29 Q1518.05 2226.4 1519.85 2229.97 Q1521.68 2233.51 1525.29 2233.51 Q1528.93 2233.51 1530.73 2229.97 Q1532.56 2226.4 1532.56 2219.29 Q1532.56 2212.16 1530.73 2208.62 Q1528.93 2205.06 1525.29 2205.06 M1525.29 2201.35 Q1531.1 2201.35 1534.16 2205.96 Q1537.24 2210.54 1537.24 2219.29 Q1537.24 2228.02 1534.16 2232.63 Q1531.1 2237.21 1525.29 2237.21 Q1519.48 2237.21 1516.4 2232.63 Q1513.35 2228.02 1513.35 2219.29 Q1513.35 2210.54 1516.4 2205.96 Q1519.48 2201.35 1525.29 2201.35 Z\" fill=\"#000000\" fill-rule=\"evenodd\" fill-opacity=\"1\" /><path clip-path=\"url(#clip100)\" d=\"M1867.3 2206.05 L1855.5 2224.5 L1867.3 2224.5 L1867.3 2206.05 M1866.07 2201.98 L1871.95 2201.98 L1871.95 2224.5 L1876.89 2224.5 L1876.89 2228.39 L1871.95 2228.39 L1871.95 2236.54 L1867.3 2236.54 L1867.3 2228.39 L1851.7 2228.39 L1851.7 2223.88 L1866.07 2201.98 Z\" fill=\"#000000\" fill-rule=\"evenodd\" fill-opacity=\"1\" /><path clip-path=\"url(#clip100)\" d=\"M1894.62 2205.06 Q1891.01 2205.06 1889.18 2208.62 Q1887.37 2212.16 1887.37 2219.29 Q1887.37 2226.4 1889.18 2229.97 Q1891.01 2233.51 1894.62 2233.51 Q1898.25 2233.51 1900.06 2229.97 Q1901.88 2226.4 1901.88 2219.29 Q1901.88 2212.16 1900.06 2208.62 Q1898.25 2205.06 1894.62 2205.06 M1894.62 2201.35 Q1900.43 2201.35 1903.48 2205.96 Q1906.56 2210.54 1906.56 2219.29 Q1906.56 2228.02 1903.48 2232.63 Q1900.43 2237.21 1894.62 2237.21 Q1888.81 2237.21 1885.73 2232.63 Q1882.67 2228.02 1882.67 2219.29 Q1882.67 2210.54 1885.73 2205.96 Q1888.81 2201.35 1894.62 2201.35 Z\" fill=\"#000000\" fill-rule=\"evenodd\" fill-opacity=\"1\" /><path clip-path=\"url(#clip100)\" d=\"M1924.78 2205.06 Q1921.17 2205.06 1919.34 2208.62 Q1917.53 2212.16 1917.53 2219.29 Q1917.53 2226.4 1919.34 2229.97 Q1921.17 2233.51 1924.78 2233.51 Q1928.41 2233.51 1930.22 2229.97 Q1932.05 2226.4 1932.05 2219.29 Q1932.05 2212.16 1930.22 2208.62 Q1928.41 2205.06 1924.78 2205.06 M1924.78 2201.35 Q1930.59 2201.35 1933.64 2205.96 Q1936.72 2210.54 1936.72 2219.29 Q1936.72 2228.02 1933.64 2232.63 Q1930.59 2237.21 1924.78 2237.21 Q1918.97 2237.21 1915.89 2232.63 Q1912.83 2228.02 1912.83 2219.29 Q1912.83 2210.54 1915.89 2205.96 Q1918.97 2201.35 1924.78 2201.35 Z\" fill=\"#000000\" fill-rule=\"evenodd\" fill-opacity=\"1\" /><path clip-path=\"url(#clip100)\" d=\"M2252.67 2201.98 L2271.02 2201.98 L2271.02 2205.92 L2256.95 2205.92 L2256.95 2214.39 Q2257.97 2214.04 2258.99 2213.88 Q2260.01 2213.69 2261.02 2213.69 Q2266.81 2213.69 2270.19 2216.86 Q2273.57 2220.04 2273.57 2225.45 Q2273.57 2231.03 2270.1 2234.13 Q2266.63 2237.21 2260.31 2237.21 Q2258.13 2237.21 2255.86 2236.84 Q2253.62 2236.47 2251.21 2235.73 L2251.21 2231.03 Q2253.29 2232.16 2255.52 2232.72 Q2257.74 2233.28 2260.21 2233.28 Q2264.22 2233.28 2266.56 2231.17 Q2268.89 2229.06 2268.89 2225.45 Q2268.89 2221.84 2266.56 2219.73 Q2264.22 2217.63 2260.21 2217.63 Q2258.34 2217.63 2256.46 2218.04 Q2254.61 2218.46 2252.67 2219.34 L2252.67 2201.98 Z\" fill=\"#000000\" fill-rule=\"evenodd\" fill-opacity=\"1\" /><path clip-path=\"url(#clip100)\" d=\"M2292.78 2205.06 Q2289.17 2205.06 2287.34 2208.62 Q2285.54 2212.16 2285.54 2219.29 Q2285.54 2226.4 2287.34 2229.97 Q2289.17 2233.51 2292.78 2233.51 Q2296.42 2233.51 2298.22 2229.97 Q2300.05 2226.4 2300.05 2219.29 Q2300.05 2212.16 2298.22 2208.62 Q2296.42 2205.06 2292.78 2205.06 M2292.78 2201.35 Q2298.59 2201.35 2301.65 2205.96 Q2304.73 2210.54 2304.73 2219.29 Q2304.73 2228.02 2301.65 2232.63 Q2298.59 2237.21 2292.78 2237.21 Q2286.97 2237.21 2283.89 2232.63 Q2280.84 2228.02 2280.84 2219.29 Q2280.84 2210.54 2283.89 2205.96 Q2286.97 2201.35 2292.78 2201.35 Z\" fill=\"#000000\" fill-rule=\"evenodd\" fill-opacity=\"1\" /><path clip-path=\"url(#clip100)\" d=\"M2322.95 2205.06 Q2319.33 2205.06 2317.51 2208.62 Q2315.7 2212.16 2315.7 2219.29 Q2315.7 2226.4 2317.51 2229.97 Q2319.33 2233.51 2322.95 2233.51 Q2326.58 2233.51 2328.39 2229.97 Q2330.21 2226.4 2330.21 2219.29 Q2330.21 2212.16 2328.39 2208.62 Q2326.58 2205.06 2322.95 2205.06 M2322.95 2201.35 Q2328.76 2201.35 2331.81 2205.96 Q2334.89 2210.54 2334.89 2219.29 Q2334.89 2228.02 2331.81 2232.63 Q2328.76 2237.21 2322.95 2237.21 Q2317.14 2237.21 2314.06 2232.63 Q2311 2228.02 2311 2219.29 Q2311 2210.54 2314.06 2205.96 Q2317.14 2201.35 2322.95 2201.35 Z\" fill=\"#000000\" fill-rule=\"evenodd\" fill-opacity=\"1\" /><path clip-path=\"url(#clip100)\" d=\"M1185.96 2271.48 L1216.01 2271.48 L1216.01 2276.89 L1192.39 2276.89 L1192.39 2290.96 L1215.02 2290.96 L1215.02 2296.37 L1192.39 2296.37 L1192.39 2313.59 L1216.58 2313.59 L1216.58 2319 L1185.96 2319 L1185.96 2271.48 Z\" fill=\"#000000\" fill-rule=\"evenodd\" fill-opacity=\"1\" /><path clip-path=\"url(#clip100)\" d=\"M1232.56 2313.66 L1232.56 2332.56 L1226.67 2332.56 L1226.67 2283.36 L1232.56 2283.36 L1232.56 2288.77 Q1234.4 2285.58 1237.2 2284.06 Q1240.04 2282.5 1243.95 2282.5 Q1250.44 2282.5 1254.49 2287.65 Q1258.56 2292.81 1258.56 2301.21 Q1258.56 2309.61 1254.49 2314.77 Q1250.44 2319.93 1243.95 2319.93 Q1240.04 2319.93 1237.2 2318.4 Q1234.4 2316.84 1232.56 2313.66 M1252.48 2301.21 Q1252.48 2294.75 1249.81 2291.09 Q1247.17 2287.4 1242.52 2287.4 Q1237.87 2287.4 1235.2 2291.09 Q1232.56 2294.75 1232.56 2301.21 Q1232.56 2307.67 1235.2 2311.36 Q1237.87 2315.03 1242.52 2315.03 Q1247.17 2315.03 1249.81 2311.36 Q1252.48 2307.67 1252.48 2301.21 Z\" fill=\"#000000\" fill-rule=\"evenodd\" fill-opacity=\"1\" /><path clip-path=\"url(#clip100)\" d=\"M1282.08 2287.46 Q1277.37 2287.46 1274.63 2291.15 Q1271.9 2294.81 1271.9 2301.21 Q1271.9 2307.61 1274.6 2311.3 Q1277.34 2314.96 1282.08 2314.96 Q1286.76 2314.96 1289.5 2311.27 Q1292.23 2307.58 1292.23 2301.21 Q1292.23 2294.88 1289.5 2291.19 Q1286.76 2287.46 1282.08 2287.46 M1282.08 2282.5 Q1289.72 2282.5 1294.08 2287.46 Q1298.44 2292.43 1298.44 2301.21 Q1298.44 2309.96 1294.08 2314.96 Q1289.72 2319.93 1282.08 2319.93 Q1274.41 2319.93 1270.05 2314.96 Q1265.72 2309.96 1265.72 2301.21 Q1265.72 2292.43 1270.05 2287.46 Q1274.41 2282.5 1282.08 2282.5 Z\" fill=\"#000000\" fill-rule=\"evenodd\" fill-opacity=\"1\" /><path clip-path=\"url(#clip100)\" d=\"M1333.8 2284.72 L1333.8 2290.2 Q1331.32 2288.83 1328.81 2288.16 Q1326.32 2287.46 1323.78 2287.46 Q1318.08 2287.46 1314.93 2291.09 Q1311.78 2294.69 1311.78 2301.21 Q1311.78 2307.74 1314.93 2311.36 Q1318.08 2314.96 1323.78 2314.96 Q1326.32 2314.96 1328.81 2314.29 Q1331.32 2313.59 1333.8 2312.22 L1333.8 2317.64 Q1331.35 2318.78 1328.71 2319.35 Q1326.1 2319.93 1323.14 2319.93 Q1315.09 2319.93 1310.35 2314.87 Q1305.6 2309.81 1305.6 2301.21 Q1305.6 2292.49 1310.38 2287.49 Q1315.18 2282.5 1323.52 2282.5 Q1326.23 2282.5 1328.81 2283.07 Q1331.38 2283.61 1333.8 2284.72 Z\" fill=\"#000000\" fill-rule=\"evenodd\" fill-opacity=\"1\" /><path clip-path=\"url(#clip100)\" d=\"M1373.62 2297.49 L1373.62 2319 L1367.76 2319 L1367.76 2297.68 Q1367.76 2292.62 1365.79 2290.1 Q1363.82 2287.59 1359.87 2287.59 Q1355.13 2287.59 1352.39 2290.61 Q1349.65 2293.64 1349.65 2298.86 L1349.65 2319 L1343.77 2319 L1343.77 2269.48 L1349.65 2269.48 L1349.65 2288.89 Q1351.75 2285.68 1354.59 2284.09 Q1357.45 2282.5 1361.18 2282.5 Q1367.32 2282.5 1370.47 2286.32 Q1373.62 2290.1 1373.62 2297.49 Z\" fill=\"#000000\" fill-rule=\"evenodd\" fill-opacity=\"1\" /><path clip-path=\"url(#clip100)\" d=\"M1408.03 2284.41 L1408.03 2289.94 Q1405.54 2288.67 1402.87 2288.03 Q1400.2 2287.4 1397.33 2287.4 Q1392.97 2287.4 1390.78 2288.73 Q1388.61 2290.07 1388.61 2292.75 Q1388.61 2294.78 1390.17 2295.96 Q1391.73 2297.11 1396.44 2298.16 L1398.45 2298.6 Q1404.69 2299.94 1407.29 2302.39 Q1409.94 2304.81 1409.94 2309.17 Q1409.94 2314.13 1405.99 2317.03 Q1402.08 2319.93 1395.2 2319.93 Q1392.34 2319.93 1389.22 2319.35 Q1386.13 2318.81 1382.69 2317.7 L1382.69 2311.65 Q1385.94 2313.34 1389.09 2314.2 Q1392.24 2315.03 1395.33 2315.03 Q1399.47 2315.03 1401.69 2313.62 Q1403.92 2312.19 1403.92 2309.61 Q1403.92 2307.23 1402.3 2305.95 Q1400.71 2304.68 1395.26 2303.5 L1393.23 2303.03 Q1387.78 2301.88 1385.37 2299.52 Q1382.95 2297.14 1382.95 2293 Q1382.95 2287.97 1386.51 2285.23 Q1390.08 2282.5 1396.63 2282.5 Q1399.88 2282.5 1402.74 2282.97 Q1405.61 2283.45 1408.03 2284.41 Z\" fill=\"#000000\" fill-rule=\"evenodd\" fill-opacity=\"1\" /><polyline clip-path=\"url(#clip102)\" style=\"stroke:#000000; stroke-linecap:butt; stroke-linejoin:round; stroke-width:2; stroke-opacity:0.1; fill:none\" points=\"\n  243.14,2150.56 2352.76,2150.56 \n  \"/>\n<polyline clip-path=\"url(#clip102)\" style=\"stroke:#000000; stroke-linecap:butt; stroke-linejoin:round; stroke-width:2; stroke-opacity:0.1; fill:none\" points=\"\n  243.14,1670.31 2352.76,1670.31 \n  \"/>\n<polyline clip-path=\"url(#clip102)\" style=\"stroke:#000000; stroke-linecap:butt; stroke-linejoin:round; stroke-width:2; stroke-opacity:0.1; fill:none\" points=\"\n  243.14,1190.06 2352.76,1190.06 \n  \"/>\n<polyline clip-path=\"url(#clip102)\" style=\"stroke:#000000; stroke-linecap:butt; stroke-linejoin:round; stroke-width:2; stroke-opacity:0.1; fill:none\" points=\"\n  243.14,709.806 2352.76,709.806 \n  \"/>\n<polyline clip-path=\"url(#clip102)\" style=\"stroke:#000000; stroke-linecap:butt; stroke-linejoin:round; stroke-width:2; stroke-opacity:0.1; fill:none\" points=\"\n  243.14,229.555 2352.76,229.555 \n  \"/>\n<polyline clip-path=\"url(#clip100)\" style=\"stroke:#000000; stroke-linecap:butt; stroke-linejoin:round; stroke-width:4; stroke-opacity:1; fill:none\" points=\"\n  243.14,2174.14 243.14,153.712 \n  \"/>\n<polyline clip-path=\"url(#clip100)\" style=\"stroke:#000000; stroke-linecap:butt; stroke-linejoin:round; stroke-width:4; stroke-opacity:1; fill:none\" points=\"\n  243.14,2150.56 262.038,2150.56 \n  \"/>\n<polyline clip-path=\"url(#clip100)\" style=\"stroke:#000000; stroke-linecap:butt; stroke-linejoin:round; stroke-width:4; stroke-opacity:1; fill:none\" points=\"\n  243.14,1670.31 262.038,1670.31 \n  \"/>\n<polyline clip-path=\"url(#clip100)\" style=\"stroke:#000000; stroke-linecap:butt; stroke-linejoin:round; stroke-width:4; stroke-opacity:1; fill:none\" points=\"\n  243.14,1190.06 262.038,1190.06 \n  \"/>\n<polyline clip-path=\"url(#clip100)\" style=\"stroke:#000000; stroke-linecap:butt; stroke-linejoin:round; stroke-width:4; stroke-opacity:1; fill:none\" points=\"\n  243.14,709.806 262.038,709.806 \n  \"/>\n<polyline clip-path=\"url(#clip100)\" style=\"stroke:#000000; stroke-linecap:butt; stroke-linejoin:round; stroke-width:4; stroke-opacity:1; fill:none\" points=\"\n  243.14,229.555 262.038,229.555 \n  \"/>\n<path clip-path=\"url(#clip100)\" d=\"M149.965 2136.36 Q146.353 2136.36 144.525 2139.92 Q142.719 2143.47 142.719 2150.59 Q142.719 2157.7 144.525 2161.27 Q146.353 2164.81 149.965 2164.81 Q153.599 2164.81 155.404 2161.27 Q157.233 2157.7 157.233 2150.59 Q157.233 2143.47 155.404 2139.92 Q153.599 2136.36 149.965 2136.36 M149.965 2132.65 Q155.775 2132.65 158.83 2137.26 Q161.909 2141.84 161.909 2150.59 Q161.909 2159.32 158.83 2163.93 Q155.775 2168.51 149.965 2168.51 Q144.154 2168.51 141.076 2163.93 Q138.02 2159.32 138.02 2150.59 Q138.02 2141.84 141.076 2137.26 Q144.154 2132.65 149.965 2132.65 Z\" fill=\"#000000\" fill-rule=\"evenodd\" fill-opacity=\"1\" /><path clip-path=\"url(#clip100)\" d=\"M170.126 2161.96 L175.011 2161.96 L175.011 2167.84 L170.126 2167.84 L170.126 2161.96 Z\" fill=\"#000000\" fill-rule=\"evenodd\" fill-opacity=\"1\" /><path clip-path=\"url(#clip100)\" d=\"M195.196 2136.36 Q191.585 2136.36 189.756 2139.92 Q187.95 2143.47 187.95 2150.59 Q187.95 2157.7 189.756 2161.27 Q191.585 2164.81 195.196 2164.81 Q198.83 2164.81 200.636 2161.27 Q202.464 2157.7 202.464 2150.59 Q202.464 2143.47 200.636 2139.92 Q198.83 2136.36 195.196 2136.36 M195.196 2132.65 Q201.006 2132.65 204.061 2137.26 Q207.14 2141.84 207.14 2150.59 Q207.14 2159.32 204.061 2163.93 Q201.006 2168.51 195.196 2168.51 Q189.386 2168.51 186.307 2163.93 Q183.251 2159.32 183.251 2150.59 Q183.251 2141.84 186.307 2137.26 Q189.386 2132.65 195.196 2132.65 Z\" fill=\"#000000\" fill-rule=\"evenodd\" fill-opacity=\"1\" /><path clip-path=\"url(#clip100)\" d=\"M150.96 1656.11 Q147.349 1656.11 145.52 1659.67 Q143.715 1663.21 143.715 1670.34 Q143.715 1677.45 145.52 1681.01 Q147.349 1684.56 150.96 1684.56 Q154.594 1684.56 156.4 1681.01 Q158.228 1677.45 158.228 1670.34 Q158.228 1663.21 156.4 1659.67 Q154.594 1656.11 150.96 1656.11 M150.96 1652.4 Q156.77 1652.4 159.826 1657.01 Q162.904 1661.59 162.904 1670.34 Q162.904 1679.07 159.826 1683.68 Q156.77 1688.26 150.96 1688.26 Q145.15 1688.26 142.071 1683.68 Q139.016 1679.07 139.016 1670.34 Q139.016 1661.59 142.071 1657.01 Q145.15 1652.4 150.96 1652.4 Z\" fill=\"#000000\" fill-rule=\"evenodd\" fill-opacity=\"1\" /><path clip-path=\"url(#clip100)\" d=\"M171.122 1681.71 L176.006 1681.71 L176.006 1687.59 L171.122 1687.59 L171.122 1681.71 Z\" fill=\"#000000\" fill-rule=\"evenodd\" fill-opacity=\"1\" /><path clip-path=\"url(#clip100)\" d=\"M186.237 1653.03 L204.594 1653.03 L204.594 1656.96 L190.52 1656.96 L190.52 1665.44 Q191.538 1665.09 192.557 1664.93 Q193.575 1664.74 194.594 1664.74 Q200.381 1664.74 203.761 1667.91 Q207.14 1671.08 207.14 1676.5 Q207.14 1682.08 203.668 1685.18 Q200.196 1688.26 193.876 1688.26 Q191.7 1688.26 189.432 1687.89 Q187.187 1687.52 184.779 1686.78 L184.779 1682.08 Q186.862 1683.21 189.085 1683.77 Q191.307 1684.32 193.784 1684.32 Q197.788 1684.32 200.126 1682.22 Q202.464 1680.11 202.464 1676.5 Q202.464 1672.89 200.126 1670.78 Q197.788 1668.68 193.784 1668.68 Q191.909 1668.68 190.034 1669.09 Q188.182 1669.51 186.237 1670.39 L186.237 1653.03 Z\" fill=\"#000000\" fill-rule=\"evenodd\" fill-opacity=\"1\" /><path clip-path=\"url(#clip100)\" d=\"M140.775 1203.4 L148.414 1203.4 L148.414 1177.04 L140.103 1178.7 L140.103 1174.44 L148.367 1172.78 L153.043 1172.78 L153.043 1203.4 L160.682 1203.4 L160.682 1207.34 L140.775 1207.34 L140.775 1203.4 Z\" fill=\"#000000\" fill-rule=\"evenodd\" fill-opacity=\"1\" /><path clip-path=\"url(#clip100)\" d=\"M170.126 1201.46 L175.011 1201.46 L175.011 1207.34 L170.126 1207.34 L170.126 1201.46 Z\" fill=\"#000000\" fill-rule=\"evenodd\" fill-opacity=\"1\" /><path clip-path=\"url(#clip100)\" d=\"M195.196 1175.86 Q191.585 1175.86 189.756 1179.42 Q187.95 1182.96 187.95 1190.09 Q187.95 1197.2 189.756 1200.76 Q191.585 1204.31 195.196 1204.31 Q198.83 1204.31 200.636 1200.76 Q202.464 1197.2 202.464 1190.09 Q202.464 1182.96 200.636 1179.42 Q198.83 1175.86 195.196 1175.86 M195.196 1172.15 Q201.006 1172.15 204.061 1176.76 Q207.14 1181.34 207.14 1190.09 Q207.14 1198.82 204.061 1203.43 Q201.006 1208.01 195.196 1208.01 Q189.386 1208.01 186.307 1203.43 Q183.251 1198.82 183.251 1190.09 Q183.251 1181.34 186.307 1176.76 Q189.386 1172.15 195.196 1172.15 Z\" fill=\"#000000\" fill-rule=\"evenodd\" fill-opacity=\"1\" /><path clip-path=\"url(#clip100)\" d=\"M141.77 723.151 L149.409 723.151 L149.409 696.785 L141.099 698.452 L141.099 694.193 L149.363 692.526 L154.039 692.526 L154.039 723.151 L161.677 723.151 L161.677 727.086 L141.77 727.086 L141.77 723.151 Z\" fill=\"#000000\" fill-rule=\"evenodd\" fill-opacity=\"1\" /><path clip-path=\"url(#clip100)\" d=\"M171.122 721.207 L176.006 721.207 L176.006 727.086 L171.122 727.086 L171.122 721.207 Z\" fill=\"#000000\" fill-rule=\"evenodd\" fill-opacity=\"1\" /><path clip-path=\"url(#clip100)\" d=\"M186.237 692.526 L204.594 692.526 L204.594 696.461 L190.52 696.461 L190.52 704.934 Q191.538 704.586 192.557 704.424 Q193.575 704.239 194.594 704.239 Q200.381 704.239 203.761 707.41 Q207.14 710.582 207.14 715.998 Q207.14 721.577 203.668 724.679 Q200.196 727.757 193.876 727.757 Q191.7 727.757 189.432 727.387 Q187.187 727.017 184.779 726.276 L184.779 721.577 Q186.862 722.711 189.085 723.267 Q191.307 723.822 193.784 723.822 Q197.788 723.822 200.126 721.716 Q202.464 719.609 202.464 715.998 Q202.464 712.387 200.126 710.281 Q197.788 708.174 193.784 708.174 Q191.909 708.174 190.034 708.591 Q188.182 709.008 186.237 709.887 L186.237 692.526 Z\" fill=\"#000000\" fill-rule=\"evenodd\" fill-opacity=\"1\" /><path clip-path=\"url(#clip100)\" d=\"M143.992 242.9 L160.312 242.9 L160.312 246.835 L138.367 246.835 L138.367 242.9 Q141.029 240.145 145.613 235.516 Q150.219 230.863 151.4 229.52 Q153.645 226.997 154.525 225.261 Q155.427 223.502 155.427 221.812 Q155.427 219.057 153.483 217.321 Q151.562 215.585 148.46 215.585 Q146.261 215.585 143.807 216.349 Q141.377 217.113 138.599 218.664 L138.599 213.942 Q141.423 212.807 143.877 212.229 Q146.33 211.65 148.367 211.65 Q153.738 211.65 156.932 214.335 Q160.127 217.02 160.127 221.511 Q160.127 223.641 159.316 225.562 Q158.529 227.46 156.423 230.053 Q155.844 230.724 152.742 233.941 Q149.64 237.136 143.992 242.9 Z\" fill=\"#000000\" fill-rule=\"evenodd\" fill-opacity=\"1\" /><path clip-path=\"url(#clip100)\" d=\"M170.126 240.955 L175.011 240.955 L175.011 246.835 L170.126 246.835 L170.126 240.955 Z\" fill=\"#000000\" fill-rule=\"evenodd\" fill-opacity=\"1\" /><path clip-path=\"url(#clip100)\" d=\"M195.196 215.354 Q191.585 215.354 189.756 218.918 Q187.95 222.46 187.95 229.59 Q187.95 236.696 189.756 240.261 Q191.585 243.803 195.196 243.803 Q198.83 243.803 200.636 240.261 Q202.464 236.696 202.464 229.59 Q202.464 222.46 200.636 218.918 Q198.83 215.354 195.196 215.354 M195.196 211.65 Q201.006 211.65 204.061 216.256 Q207.14 220.84 207.14 229.59 Q207.14 238.316 204.061 242.923 Q201.006 247.506 195.196 247.506 Q189.386 247.506 186.307 242.923 Q183.251 238.316 183.251 229.59 Q183.251 220.84 186.307 216.256 Q189.386 211.65 195.196 211.65 Z\" fill=\"#000000\" fill-rule=\"evenodd\" fill-opacity=\"1\" /><path clip-path=\"url(#clip100)\" d=\"M40.2442 1230.62 L40.2442 1224.19 L82.3533 1224.19 L82.3533 1201.05 L87.7642 1201.05 L87.7642 1230.62 L40.2442 1230.62 Z\" fill=\"#000000\" fill-rule=\"evenodd\" fill-opacity=\"1\" /><path clip-path=\"url(#clip100)\" d=\"M56.2221 1181.89 Q56.2221 1186.6 59.9142 1189.34 Q63.5745 1192.08 69.972 1192.08 Q76.3695 1192.08 80.0617 1189.37 Q83.7219 1186.64 83.7219 1181.89 Q83.7219 1177.21 80.0298 1174.48 Q76.3377 1171.74 69.972 1171.74 Q63.6381 1171.74 59.946 1174.48 Q56.2221 1177.21 56.2221 1181.89 M51.2568 1181.89 Q51.2568 1174.25 56.2221 1169.89 Q61.1873 1165.53 69.972 1165.53 Q78.7249 1165.53 83.7219 1169.89 Q88.6872 1174.25 88.6872 1181.89 Q88.6872 1189.56 83.7219 1193.92 Q78.7249 1198.25 69.972 1198.25 Q61.1873 1198.25 56.2221 1193.92 Q51.2568 1189.56 51.2568 1181.89 Z\" fill=\"#000000\" fill-rule=\"evenodd\" fill-opacity=\"1\" /><path clip-path=\"url(#clip100)\" d=\"M53.1665 1133.1 L58.7047 1133.1 Q57.4316 1135.58 56.795 1138.26 Q56.1584 1140.93 56.1584 1143.79 Q56.1584 1148.15 57.4952 1150.35 Q58.832 1152.52 61.5056 1152.52 Q63.5426 1152.52 64.7203 1150.96 Q65.8661 1149.4 66.9165 1144.69 L67.3621 1142.68 Q68.6989 1136.44 71.1497 1133.83 Q73.5686 1131.19 77.9291 1131.19 Q82.8944 1131.19 85.7908 1135.14 Q88.6872 1139.05 88.6872 1145.93 Q88.6872 1148.79 88.1143 1151.91 Q87.5732 1155 86.4592 1158.44 L80.4118 1158.44 Q82.0987 1155.19 82.958 1152.04 Q83.7856 1148.89 83.7856 1145.8 Q83.7856 1141.66 82.3851 1139.43 Q80.9529 1137.21 78.3747 1137.21 Q75.9876 1137.21 74.7145 1138.83 Q73.4413 1140.42 72.2637 1145.86 L71.7862 1147.9 Q70.6404 1153.34 68.2851 1155.76 Q65.898 1158.18 61.7602 1158.18 Q56.7313 1158.18 53.9941 1154.62 Q51.2568 1151.05 51.2568 1144.49 Q51.2568 1141.25 51.7343 1138.38 Q52.2117 1135.52 53.1665 1133.1 Z\" fill=\"#000000\" fill-rule=\"evenodd\" fill-opacity=\"1\" /><path clip-path=\"url(#clip100)\" d=\"M53.1665 1099.14 L58.7047 1099.14 Q57.4316 1101.62 56.795 1104.3 Q56.1584 1106.97 56.1584 1109.83 Q56.1584 1114.19 57.4952 1116.39 Q58.832 1118.55 61.5056 1118.55 Q63.5426 1118.55 64.7203 1116.99 Q65.8661 1115.44 66.9165 1110.72 L67.3621 1108.72 Q68.6989 1102.48 71.1497 1099.87 Q73.5686 1097.23 77.9291 1097.23 Q82.8944 1097.23 85.7908 1101.18 Q88.6872 1105.09 88.6872 1111.97 Q88.6872 1114.83 88.1143 1117.95 Q87.5732 1121.04 86.4592 1124.47 L80.4118 1124.47 Q82.0987 1121.23 82.958 1118.08 Q83.7856 1114.93 83.7856 1111.84 Q83.7856 1107.7 82.3851 1105.47 Q80.9529 1103.24 78.3747 1103.24 Q75.9876 1103.24 74.7145 1104.87 Q73.4413 1106.46 72.2637 1111.9 L71.7862 1113.94 Q70.6404 1119.38 68.2851 1121.8 Q65.898 1124.22 61.7602 1124.22 Q56.7313 1124.22 53.9941 1120.66 Q51.2568 1117.09 51.2568 1110.53 Q51.2568 1107.29 51.7343 1104.42 Q52.2117 1101.56 53.1665 1099.14 Z\" fill=\"#000000\" fill-rule=\"evenodd\" fill-opacity=\"1\" /><path clip-path=\"url(#clip100)\" d=\"M988.58 12.096 L996.763 12.096 L996.763 65.6895 L1026.21 65.6895 L1026.21 72.576 L988.58 72.576 L988.58 12.096 Z\" fill=\"#000000\" fill-rule=\"evenodd\" fill-opacity=\"1\" /><path clip-path=\"url(#clip100)\" d=\"M1071.83 48.0275 L1071.83 51.6733 L1037.56 51.6733 Q1038.04 59.3701 1042.17 63.421 Q1046.35 67.4314 1053.76 67.4314 Q1058.05 67.4314 1062.06 66.3781 Q1066.11 65.3249 1070.08 63.2184 L1070.08 70.267 Q1066.07 71.9684 1061.86 72.8596 Q1057.65 73.7508 1053.31 73.7508 Q1042.46 73.7508 1036.1 67.4314 Q1029.78 61.1119 1029.78 50.3365 Q1029.78 39.1965 1035.77 32.6746 Q1041.81 26.1121 1052.02 26.1121 Q1061.17 26.1121 1066.48 32.0264 Q1071.83 37.9003 1071.83 48.0275 M1064.37 45.84 Q1064.29 39.7232 1060.93 36.0774 Q1057.61 32.4315 1052.1 32.4315 Q1045.86 32.4315 1042.09 35.9558 Q1038.37 39.4801 1037.8 45.8805 L1064.37 45.84 Z\" fill=\"#000000\" fill-rule=\"evenodd\" fill-opacity=\"1\" /><path clip-path=\"url(#clip100)\" d=\"M1104.68 49.7694 Q1095.65 49.7694 1092.16 51.8354 Q1088.68 53.9013 1088.68 58.8839 Q1088.68 62.8538 1091.27 65.2034 Q1093.9 67.5124 1098.4 67.5124 Q1104.6 67.5124 1108.33 63.1374 Q1112.09 58.7219 1112.09 51.4303 L1112.09 49.7694 L1104.68 49.7694 M1119.55 46.6907 L1119.55 72.576 L1112.09 72.576 L1112.09 65.6895 Q1109.54 69.8214 1105.73 71.8063 Q1101.92 73.7508 1096.42 73.7508 Q1089.45 73.7508 1085.32 69.8619 Q1081.22 65.9325 1081.22 59.3701 Q1081.22 51.7138 1086.33 47.825 Q1091.47 43.9361 1101.64 43.9361 L1112.09 43.9361 L1112.09 43.2069 Q1112.09 38.0623 1108.69 35.2672 Q1105.33 32.4315 1099.21 32.4315 Q1095.32 32.4315 1091.64 33.3632 Q1087.95 34.295 1084.55 36.1584 L1084.55 29.2718 Q1088.64 27.692 1092.49 26.9223 Q1096.33 26.1121 1099.98 26.1121 Q1109.82 26.1121 1114.69 31.2163 Q1119.55 36.3204 1119.55 46.6907 Z\" fill=\"#000000\" fill-rule=\"evenodd\" fill-opacity=\"1\" /><path clip-path=\"url(#clip100)\" d=\"M1161.19 34.1734 Q1159.93 33.4443 1158.43 33.1202 Q1156.98 32.7556 1155.19 32.7556 Q1148.87 32.7556 1145.47 36.8875 Q1142.11 40.9789 1142.11 48.6757 L1142.11 72.576 L1134.62 72.576 L1134.62 27.2059 L1142.11 27.2059 L1142.11 34.2544 Q1144.46 30.1225 1148.23 28.1376 Q1151.99 26.1121 1157.38 26.1121 Q1158.15 26.1121 1159.08 26.2337 Q1160.01 26.3147 1161.15 26.5172 L1161.19 34.1734 Z\" fill=\"#000000\" fill-rule=\"evenodd\" fill-opacity=\"1\" /><path clip-path=\"url(#clip100)\" d=\"M1205.26 45.1919 L1205.26 72.576 L1197.81 72.576 L1197.81 45.4349 Q1197.81 38.994 1195.3 35.7938 Q1192.79 32.5936 1187.76 32.5936 Q1181.73 32.5936 1178.24 36.4419 Q1174.76 40.2903 1174.76 46.9338 L1174.76 72.576 L1167.27 72.576 L1167.27 27.2059 L1174.76 27.2059 L1174.76 34.2544 Q1177.43 30.163 1181.04 28.1376 Q1184.68 26.1121 1189.42 26.1121 Q1197.24 26.1121 1201.25 30.9732 Q1205.26 35.7938 1205.26 45.1919 Z\" fill=\"#000000\" fill-rule=\"evenodd\" fill-opacity=\"1\" /><path clip-path=\"url(#clip100)\" d=\"M1220.13 27.2059 L1227.58 27.2059 L1227.58 72.576 L1220.13 72.576 L1220.13 27.2059 M1220.13 9.54393 L1227.58 9.54393 L1227.58 18.9825 L1220.13 18.9825 L1220.13 9.54393 Z\" fill=\"#000000\" fill-rule=\"evenodd\" fill-opacity=\"1\" /><path clip-path=\"url(#clip100)\" d=\"M1280.89 45.1919 L1280.89 72.576 L1273.44 72.576 L1273.44 45.4349 Q1273.44 38.994 1270.93 35.7938 Q1268.42 32.5936 1263.39 32.5936 Q1257.36 32.5936 1253.87 36.4419 Q1250.39 40.2903 1250.39 46.9338 L1250.39 72.576 L1242.9 72.576 L1242.9 27.2059 L1250.39 27.2059 L1250.39 34.2544 Q1253.06 30.163 1256.67 28.1376 Q1260.32 26.1121 1265.05 26.1121 Q1272.87 26.1121 1276.88 30.9732 Q1280.89 35.7938 1280.89 45.1919 Z\" fill=\"#000000\" fill-rule=\"evenodd\" fill-opacity=\"1\" /><path clip-path=\"url(#clip100)\" d=\"M1325.62 49.3643 Q1325.62 41.2625 1322.25 36.8065 Q1318.93 32.3505 1312.9 32.3505 Q1306.9 32.3505 1303.54 36.8065 Q1300.22 41.2625 1300.22 49.3643 Q1300.22 57.4256 1303.54 61.8816 Q1306.9 66.3376 1312.9 66.3376 Q1318.93 66.3376 1322.25 61.8816 Q1325.62 57.4256 1325.62 49.3643 M1333.07 66.9452 Q1333.07 78.5308 1327.92 84.1616 Q1322.78 89.8329 1312.17 89.8329 Q1308.24 89.8329 1304.75 89.2252 Q1301.27 88.6581 1297.99 87.4428 L1297.99 80.1917 Q1301.27 81.9741 1304.47 82.8248 Q1307.67 83.6755 1310.99 83.6755 Q1318.32 83.6755 1321.97 79.8271 Q1325.62 76.0193 1325.62 68.282 L1325.62 64.5957 Q1323.31 68.6061 1319.7 70.5911 Q1316.1 72.576 1311.07 72.576 Q1302.73 72.576 1297.62 66.2161 Q1292.52 59.8562 1292.52 49.3643 Q1292.52 38.832 1297.62 32.472 Q1302.73 26.1121 1311.07 26.1121 Q1316.1 26.1121 1319.7 28.0971 Q1323.31 30.082 1325.62 34.0924 L1325.62 27.2059 L1333.07 27.2059 L1333.07 66.9452 Z\" fill=\"#000000\" fill-rule=\"evenodd\" fill-opacity=\"1\" /><path clip-path=\"url(#clip100)\" d=\"M1420.41 16.7545 L1420.41 25.383 Q1416.27 21.5346 1411.58 19.6307 Q1406.92 17.7268 1401.65 17.7268 Q1391.28 17.7268 1385.77 24.0867 Q1380.26 30.4061 1380.26 42.3968 Q1380.26 54.3469 1385.77 60.7069 Q1391.28 67.0263 1401.65 67.0263 Q1406.92 67.0263 1411.58 65.1223 Q1416.27 63.2184 1420.41 59.3701 L1420.41 67.9175 Q1416.11 70.8341 1411.29 72.2924 Q1406.51 73.7508 1401.17 73.7508 Q1387.43 73.7508 1379.53 65.3654 Q1371.63 56.9395 1371.63 42.3968 Q1371.63 27.8135 1379.53 19.4281 Q1387.43 11.0023 1401.17 11.0023 Q1406.59 11.0023 1411.37 12.4606 Q1416.19 13.8784 1420.41 16.7545 Z\" fill=\"#000000\" fill-rule=\"evenodd\" fill-opacity=\"1\" /><path clip-path=\"url(#clip100)\" d=\"M1431.95 54.671 L1431.95 27.2059 L1439.41 27.2059 L1439.41 54.3874 Q1439.41 60.8284 1441.92 64.0691 Q1444.43 67.2693 1449.45 67.2693 Q1455.49 67.2693 1458.97 63.421 Q1462.5 59.5726 1462.5 52.9291 L1462.5 27.2059 L1469.95 27.2059 L1469.95 72.576 L1462.5 72.576 L1462.5 65.6084 Q1459.78 69.7404 1456.18 71.7658 Q1452.61 73.7508 1447.87 73.7508 Q1440.05 73.7508 1436 68.8897 Q1431.95 64.0286 1431.95 54.671 M1450.71 26.1121 L1450.71 26.1121 Z\" fill=\"#000000\" fill-rule=\"evenodd\" fill-opacity=\"1\" /><path clip-path=\"url(#clip100)\" d=\"M1511.59 34.1734 Q1510.34 33.4443 1508.84 33.1202 Q1507.38 32.7556 1505.6 32.7556 Q1499.28 32.7556 1495.88 36.8875 Q1492.51 40.9789 1492.51 48.6757 L1492.51 72.576 L1485.02 72.576 L1485.02 27.2059 L1492.51 27.2059 L1492.51 34.2544 Q1494.86 30.1225 1498.63 28.1376 Q1502.4 26.1121 1507.78 26.1121 Q1508.55 26.1121 1509.49 26.2337 Q1510.42 26.3147 1511.55 26.5172 L1511.59 34.1734 Z\" fill=\"#000000\" fill-rule=\"evenodd\" fill-opacity=\"1\" /><path clip-path=\"url(#clip100)\" d=\"M1514.06 27.2059 L1521.96 27.2059 L1536.14 65.2844 L1550.32 27.2059 L1558.22 27.2059 L1541.2 72.576 L1531.08 72.576 L1514.06 27.2059 Z\" fill=\"#000000\" fill-rule=\"evenodd\" fill-opacity=\"1\" /><path clip-path=\"url(#clip100)\" d=\"M1607.32 48.0275 L1607.32 51.6733 L1573.04 51.6733 Q1573.53 59.3701 1577.66 63.421 Q1581.84 67.4314 1589.25 67.4314 Q1593.54 67.4314 1597.55 66.3781 Q1601.6 65.3249 1605.57 63.2184 L1605.57 70.267 Q1601.56 71.9684 1597.35 72.8596 Q1593.14 73.7508 1588.8 73.7508 Q1577.95 73.7508 1571.59 67.4314 Q1565.27 61.1119 1565.27 50.3365 Q1565.27 39.1965 1571.26 32.6746 Q1577.3 26.1121 1587.51 26.1121 Q1596.66 26.1121 1601.97 32.0264 Q1607.32 37.9003 1607.32 48.0275 M1599.86 45.84 Q1599.78 39.7232 1596.42 36.0774 Q1593.1 32.4315 1587.59 32.4315 Q1581.35 32.4315 1577.58 35.9558 Q1573.86 39.4801 1573.29 45.8805 L1599.86 45.84 Z\" fill=\"#000000\" fill-rule=\"evenodd\" fill-opacity=\"1\" /><polyline clip-path=\"url(#clip102)\" style=\"stroke:#0000ff; stroke-linecap:butt; stroke-linejoin:round; stroke-width:8; stroke-opacity:1; fill:none\" points=\"\n  302.846,210.894 306.835,527.322 310.823,829.137 314.811,1094.59 318.8,1288.07 322.788,1417.78 326.777,1504.47 330.765,1575.24 334.753,1627.76 338.742,1659 \n  342.73,1687.33 346.718,1713.48 350.707,1734.27 354.695,1749.6 358.684,1761.47 362.672,1774.11 366.66,1784.87 370.649,1793.26 374.637,1802 378.626,1810.53 \n  382.614,1818.36 386.602,1825.22 390.591,1831.2 394.579,1838.03 398.567,1844.69 402.556,1849.81 406.544,1854.38 410.533,1859.08 414.521,1863.68 418.509,1868.08 \n  422.498,1872.19 426.486,1875.95 430.475,1879.76 434.463,1883.52 438.451,1886.85 442.44,1890.24 446.428,1893.54 450.416,1896.43 454.405,1899.32 458.393,1902.09 \n  462.382,1904.75 466.37,1907.36 470.358,1909.82 474.347,1912.31 478.335,1914.75 482.324,1917.05 486.312,1919.35 490.3,1921.67 494.289,1923.89 498.277,1925.99 \n  502.265,1928.03 506.254,1930.09 510.242,1932.1 514.231,1933.96 518.219,1935.79 522.207,1937.6 526.196,1939.35 530.184,1941.03 534.173,1942.68 538.161,1944.32 \n  542.149,1945.91 546.138,1947.44 550.126,1948.95 554.114,1950.44 558.103,1951.9 562.091,1953.32 566.08,1954.73 570.068,1956.12 574.056,1957.49 578.045,1958.83 \n  582.033,1960.15 586.022,1961.45 590.01,1962.73 593.998,1963.98 597.987,1965.22 601.975,1966.44 605.963,1967.65 609.952,1968.84 613.94,1970.01 617.929,1971.16 \n  621.917,1972.3 625.905,1973.42 629.894,1974.53 633.882,1975.61 637.871,1976.68 641.859,1977.72 645.847,1978.76 649.836,1979.78 653.824,1980.78 657.812,1981.77 \n  661.801,1982.75 665.789,1983.73 669.778,1984.69 673.766,1985.64 677.754,1986.58 681.743,1987.5 685.731,1988.42 689.719,1989.32 693.708,1990.21 697.696,1991.08 \n  701.685,1991.95 705.673,1992.8 709.661,1993.64 713.65,1994.48 717.638,1995.3 721.627,1996.11 725.615,1996.9 729.603,1997.69 733.592,1998.47 737.58,1999.23 \n  741.568,1999.99 745.557,2000.74 749.545,2001.48 753.534,2002.21 757.522,2002.93 761.51,2003.64 765.499,2004.35 769.487,2005.05 773.476,2005.74 777.464,2006.43 \n  781.452,2007.11 785.441,2007.78 789.429,2008.45 793.417,2009.11 797.406,2009.76 801.394,2010.41 805.383,2011.06 809.371,2011.69 813.359,2012.33 817.348,2012.96 \n  821.336,2013.58 825.325,2014.2 829.313,2014.81 833.301,2015.41 837.29,2016.02 841.278,2016.62 845.266,2017.21 849.255,2017.8 853.243,2018.39 857.232,2018.97 \n  861.22,2019.54 865.208,2020.12 869.197,2020.68 873.185,2021.25 877.174,2021.81 881.162,2022.37 885.15,2022.93 889.139,2023.48 893.127,2024.03 897.115,2024.58 \n  901.104,2025.12 905.092,2025.66 909.081,2026.2 913.069,2026.74 917.057,2027.27 921.046,2027.8 925.034,2028.33 929.023,2028.86 933.011,2029.4 936.999,2029.93 \n  940.988,2030.45 944.976,2030.98 948.964,2031.5 952.953,2032.02 956.941,2032.54 960.93,2033.06 964.918,2033.57 968.906,2034.09 972.895,2034.6 976.883,2035.11 \n  980.872,2035.62 984.86,2036.13 988.848,2036.64 992.837,2037.15 996.825,2037.65 1000.81,2038.16 1004.8,2038.66 1008.79,2039.17 1012.78,2039.67 1016.77,2040.17 \n  1020.76,2040.66 1024.74,2041.16 1028.73,2041.65 1032.72,2042.14 1036.71,2042.63 1040.7,2043.11 1044.69,2043.6 1048.67,2044.08 1052.66,2044.56 1056.65,2045.04 \n  1060.64,2045.52 1064.63,2045.99 1068.62,2046.46 1072.6,2046.93 1076.59,2047.4 1080.58,2047.86 1084.57,2048.32 1088.56,2048.78 1092.55,2049.24 1096.53,2049.68 \n  1100.52,2050.13 1104.51,2050.57 1108.5,2051.01 1112.49,2051.44 1116.48,2051.87 1120.46,2052.3 1124.45,2052.73 1128.44,2053.15 1132.43,2053.57 1136.42,2053.99 \n  1140.41,2054.4 1144.4,2054.81 1148.38,2055.22 1152.37,2055.63 1156.36,2056.03 1160.35,2056.43 1164.34,2056.83 1168.33,2057.22 1172.31,2057.62 1176.3,2058.01 \n  1180.29,2058.4 1184.28,2058.78 1188.27,2059.16 1192.26,2059.54 1196.24,2059.92 1200.23,2060.3 1204.22,2060.67 1208.21,2061.04 1212.2,2061.41 1216.19,2061.77 \n  1220.17,2062.13 1224.16,2062.49 1228.15,2062.84 1232.14,2063.19 1236.13,2063.54 1240.12,2063.89 1244.1,2064.24 1248.09,2064.59 1252.08,2064.93 1256.07,2065.27 \n  1260.06,2065.61 1264.05,2065.94 1268.04,2066.28 1272.02,2066.61 1276.01,2066.94 1280,2067.26 1283.99,2067.59 1287.98,2067.92 1291.97,2068.24 1295.95,2068.56 \n  1299.94,2068.88 1303.93,2069.19 1307.92,2069.51 1311.91,2069.82 1315.9,2070.14 1319.88,2070.45 1323.87,2070.76 1327.86,2071.07 1331.85,2071.37 1335.84,2071.68 \n  1339.83,2071.98 1343.81,2072.29 1347.8,2072.59 1351.79,2072.89 1355.78,2073.19 1359.77,2073.48 1363.76,2073.77 1367.74,2074.07 1371.73,2074.36 1375.72,2074.65 \n  1379.71,2074.93 1383.7,2075.22 1387.69,2075.52 1391.68,2075.8 1395.66,2076.08 1399.65,2076.36 1403.64,2076.64 1407.63,2076.92 1411.62,2077.2 1415.61,2077.48 \n  1419.59,2077.75 1423.58,2078.03 1427.57,2078.3 1431.56,2078.56 1435.55,2078.82 1439.54,2079.08 1443.52,2079.35 1447.51,2079.63 1451.5,2079.91 1455.49,2080.17 \n  1459.48,2080.42 1463.47,2080.68 1467.45,2080.94 1471.44,2081.21 1475.43,2081.47 1479.42,2081.73 1483.41,2081.97 1487.4,2082.23 1491.38,2082.49 1495.37,2082.74 \n  1499.36,2082.99 1503.35,2083.24 1507.34,2083.49 1511.33,2083.73 1515.31,2083.96 1519.3,2084.16 1523.29,2084.36 1527.28,2084.59 1531.27,2084.88 1535.26,2085.18 \n  1539.25,2085.44 1543.23,2085.66 1547.22,2085.86 1551.21,2086.08 1555.2,2086.34 1559.19,2086.61 1563.18,2086.85 1567.16,2087.06 1571.15,2087.27 1575.14,2087.5 \n  1579.13,2087.75 1583.12,2088 1587.11,2088.23 1591.09,2088.44 1595.08,2088.64 1599.07,2088.86 1603.06,2089.09 1607.05,2089.32 1611.04,2089.56 1615.02,2089.78 \n  1619.01,2090 1623,2090.2 1626.99,2090.41 1630.98,2090.61 1634.97,2090.82 1638.95,2091.02 1642.94,2091.25 1646.93,2091.47 1650.92,2091.7 1654.91,2091.93 \n  1658.9,2092.15 1662.89,2092.35 1666.87,2092.55 1670.86,2092.74 1674.85,2092.92 1678.84,2093.11 1682.83,2093.3 1686.82,2093.52 1690.8,2093.75 1694.79,2093.98 \n  1698.78,2094.2 1702.77,2094.4 1706.76,2094.58 1710.75,2094.75 1714.73,2094.93 1718.72,2095.14 1722.71,2095.36 1726.7,2095.57 1730.69,2095.79 1734.68,2095.99 \n  1738.66,2096.18 1742.65,2096.35 1746.64,2096.53 1750.63,2096.7 1754.62,2096.86 1758.61,2097.04 1762.59,2097.22 1766.58,2097.43 1770.57,2097.64 1774.56,2097.87 \n  1778.55,2098.08 1782.54,2098.27 1786.53,2098.44 1790.51,2098.6 1794.5,2098.76 1798.49,2098.92 1802.48,2099.1 1806.47,2099.28 1810.46,2099.48 1814.44,2099.7 \n  1818.43,2099.92 1822.42,2100.12 1826.41,2100.29 1830.4,2100.45 1834.39,2100.61 1838.37,2100.77 1842.36,2100.93 1846.35,2101.12 1850.34,2101.31 1854.33,2101.51 \n  1858.32,2101.69 1862.3,2101.89 1866.29,2102.08 1870.28,2102.25 1874.27,2102.41 1878.26,2102.56 1882.25,2102.7 1886.23,2102.8 1890.22,2102.9 1894.21,2103 \n  1898.2,2103.19 1902.19,2103.41 1906.18,2103.67 1910.16,2103.92 1914.15,2104.1 1918.14,2104.22 1922.13,2104.33 1926.12,2104.48 1930.11,2104.65 1934.1,2104.84 \n  1938.08,2105.05 1942.07,2105.23 1946.06,2105.38 1950.05,2105.5 1954.04,2105.6 1958.03,2105.71 1962.01,2105.84 1966,2106.02 1969.99,2106.24 1973.98,2106.45 \n  1977.97,2106.64 1981.96,2106.78 1985.94,2106.89 1989.93,2107 1993.92,2107.14 1997.91,2107.3 2001.9,2107.47 2005.89,2107.65 2009.87,2107.84 2013.86,2108 \n  2017.85,2108.14 2021.84,2108.27 2025.83,2108.39 2029.82,2108.49 2033.8,2108.59 2037.79,2108.7 2041.78,2108.84 2045.77,2109.02 2049.76,2109.21 2053.75,2109.42 \n  2057.74,2109.6 2061.72,2109.74 2065.71,2109.85 2069.7,2109.93 2073.69,2110.02 2077.68,2110.13 2081.67,2110.27 2085.65,2110.44 2089.64,2110.63 2093.63,2110.82 \n  2097.62,2110.99 2101.61,2111.14 2105.6,2111.26 2109.58,2111.38 2113.57,2111.51 2117.56,2111.62 2121.55,2111.72 2125.54,2111.81 2129.53,2111.9 2133.51,2112.03 \n  2137.5,2112.16 2141.49,2112.3 2145.48,2112.46 2149.47,2112.63 2153.46,2112.81 2157.44,2112.97 2161.43,2113.11 2165.42,2113.24 2169.41,2113.37 2173.4,2113.48 \n  2177.39,2113.57 2181.38,2113.66 2185.36,2113.74 2189.35,2113.83 2193.34,2113.91 2197.33,2114.02 2201.32,2114.18 2205.31,2114.36 2209.29,2114.55 2213.28,2114.71 \n  2217.27,2114.87 2221.26,2115 2225.25,2115.09 2229.24,2115.15 2233.22,2115.21 2237.21,2115.28 2241.2,2115.36 2245.19,2115.49 2249.18,2115.67 2253.17,2115.86 \n  2257.15,2116.06 2261.14,2116.21 2265.13,2116.33 2269.12,2116.43 2273.11,2116.5 2277.1,2116.58 2281.08,2116.67 2285.07,2116.75 2289.06,2116.84 2293.05,2116.96 \n  \n  \"/>\n</svg>\n",
      "text/html": [
       "<?xml version=\"1.0\" encoding=\"utf-8\"?>\n",
       "<svg xmlns=\"http://www.w3.org/2000/svg\" xmlns:xlink=\"http://www.w3.org/1999/xlink\" width=\"600\" height=\"600\" viewBox=\"0 0 2400 2400\">\n",
       "<defs>\n",
       "  <clipPath id=\"clip150\">\n",
       "    <rect x=\"0\" y=\"0\" width=\"2400\" height=\"2400\"/>\n",
       "  </clipPath>\n",
       "</defs>\n",
       "<path clip-path=\"url(#clip150)\" d=\"\n",
       "M0 2400 L2400 2400 L2400 0 L0 0  Z\n",
       "  \" fill=\"#ffffff\" fill-rule=\"evenodd\" fill-opacity=\"1\"/>\n",
       "<defs>\n",
       "  <clipPath id=\"clip151\">\n",
       "    <rect x=\"480\" y=\"240\" width=\"1681\" height=\"1681\"/>\n",
       "  </clipPath>\n",
       "</defs>\n",
       "<path clip-path=\"url(#clip150)\" d=\"\n",
       "M243.14 2174.14 L2352.76 2174.14 L2352.76 153.712 L243.14 153.712  Z\n",
       "  \" fill=\"#ffffff\" fill-rule=\"evenodd\" fill-opacity=\"1\"/>\n",
       "<defs>\n",
       "  <clipPath id=\"clip152\">\n",
       "    <rect x=\"243\" y=\"153\" width=\"2111\" height=\"2021\"/>\n",
       "  </clipPath>\n",
       "</defs>\n",
       "<polyline clip-path=\"url(#clip152)\" style=\"stroke:#000000; stroke-linecap:butt; stroke-linejoin:round; stroke-width:2; stroke-opacity:0.1; fill:none\" points=\"\n",
       "  298.858,2174.14 298.858,153.712 \n",
       "  \"/>\n",
       "<polyline clip-path=\"url(#clip152)\" style=\"stroke:#000000; stroke-linecap:butt; stroke-linejoin:round; stroke-width:2; stroke-opacity:0.1; fill:none\" points=\"\n",
       "  697.696,2174.14 697.696,153.712 \n",
       "  \"/>\n",
       "<polyline clip-path=\"url(#clip152)\" style=\"stroke:#000000; stroke-linecap:butt; stroke-linejoin:round; stroke-width:2; stroke-opacity:0.1; fill:none\" points=\"\n",
       "  1096.53,2174.14 1096.53,153.712 \n",
       "  \"/>\n",
       "<polyline clip-path=\"url(#clip152)\" style=\"stroke:#000000; stroke-linecap:butt; stroke-linejoin:round; stroke-width:2; stroke-opacity:0.1; fill:none\" points=\"\n",
       "  1495.37,2174.14 1495.37,153.712 \n",
       "  \"/>\n",
       "<polyline clip-path=\"url(#clip152)\" style=\"stroke:#000000; stroke-linecap:butt; stroke-linejoin:round; stroke-width:2; stroke-opacity:0.1; fill:none\" points=\"\n",
       "  1894.21,2174.14 1894.21,153.712 \n",
       "  \"/>\n",
       "<polyline clip-path=\"url(#clip152)\" style=\"stroke:#000000; stroke-linecap:butt; stroke-linejoin:round; stroke-width:2; stroke-opacity:0.1; fill:none\" points=\"\n",
       "  2293.05,2174.14 2293.05,153.712 \n",
       "  \"/>\n",
       "<polyline clip-path=\"url(#clip150)\" style=\"stroke:#000000; stroke-linecap:butt; stroke-linejoin:round; stroke-width:4; stroke-opacity:1; fill:none\" points=\"\n",
       "  243.14,2174.14 2352.76,2174.14 \n",
       "  \"/>\n",
       "<polyline clip-path=\"url(#clip150)\" style=\"stroke:#000000; stroke-linecap:butt; stroke-linejoin:round; stroke-width:4; stroke-opacity:1; fill:none\" points=\"\n",
       "  298.858,2174.14 298.858,2155.24 \n",
       "  \"/>\n",
       "<polyline clip-path=\"url(#clip150)\" style=\"stroke:#000000; stroke-linecap:butt; stroke-linejoin:round; stroke-width:4; stroke-opacity:1; fill:none\" points=\"\n",
       "  697.696,2174.14 697.696,2155.24 \n",
       "  \"/>\n",
       "<polyline clip-path=\"url(#clip150)\" style=\"stroke:#000000; stroke-linecap:butt; stroke-linejoin:round; stroke-width:4; stroke-opacity:1; fill:none\" points=\"\n",
       "  1096.53,2174.14 1096.53,2155.24 \n",
       "  \"/>\n",
       "<polyline clip-path=\"url(#clip150)\" style=\"stroke:#000000; stroke-linecap:butt; stroke-linejoin:round; stroke-width:4; stroke-opacity:1; fill:none\" points=\"\n",
       "  1495.37,2174.14 1495.37,2155.24 \n",
       "  \"/>\n",
       "<polyline clip-path=\"url(#clip150)\" style=\"stroke:#000000; stroke-linecap:butt; stroke-linejoin:round; stroke-width:4; stroke-opacity:1; fill:none\" points=\"\n",
       "  1894.21,2174.14 1894.21,2155.24 \n",
       "  \"/>\n",
       "<polyline clip-path=\"url(#clip150)\" style=\"stroke:#000000; stroke-linecap:butt; stroke-linejoin:round; stroke-width:4; stroke-opacity:1; fill:none\" points=\"\n",
       "  2293.05,2174.14 2293.05,2155.24 \n",
       "  \"/>\n",
       "<path clip-path=\"url(#clip150)\" d=\"M298.858 2205.06 Q295.247 2205.06 293.418 2208.62 Q291.613 2212.16 291.613 2219.29 Q291.613 2226.4 293.418 2229.97 Q295.247 2233.51 298.858 2233.51 Q302.492 2233.51 304.298 2229.97 Q306.126 2226.4 306.126 2219.29 Q306.126 2212.16 304.298 2208.62 Q302.492 2205.06 298.858 2205.06 M298.858 2201.35 Q304.668 2201.35 307.724 2205.96 Q310.802 2210.54 310.802 2219.29 Q310.802 2228.02 307.724 2232.63 Q304.668 2237.21 298.858 2237.21 Q293.048 2237.21 289.969 2232.63 Q286.913 2228.02 286.913 2219.29 Q286.913 2210.54 289.969 2205.96 Q293.048 2201.35 298.858 2201.35 Z\" fill=\"#000000\" fill-rule=\"evenodd\" fill-opacity=\"1\" /><path clip-path=\"url(#clip150)\" d=\"M657.303 2232.6 L664.942 2232.6 L664.942 2206.24 L656.632 2207.91 L656.632 2203.65 L664.896 2201.98 L669.571 2201.98 L669.571 2232.6 L677.21 2232.6 L677.21 2236.54 L657.303 2236.54 L657.303 2232.6 Z\" fill=\"#000000\" fill-rule=\"evenodd\" fill-opacity=\"1\" /><path clip-path=\"url(#clip150)\" d=\"M696.655 2205.06 Q693.044 2205.06 691.215 2208.62 Q689.409 2212.16 689.409 2219.29 Q689.409 2226.4 691.215 2229.97 Q693.044 2233.51 696.655 2233.51 Q700.289 2233.51 702.094 2229.97 Q703.923 2226.4 703.923 2219.29 Q703.923 2212.16 702.094 2208.62 Q700.289 2205.06 696.655 2205.06 M696.655 2201.35 Q702.465 2201.35 705.52 2205.96 Q708.599 2210.54 708.599 2219.29 Q708.599 2228.02 705.52 2232.63 Q702.465 2237.21 696.655 2237.21 Q690.844 2237.21 687.766 2232.63 Q684.71 2228.02 684.71 2219.29 Q684.71 2210.54 687.766 2205.96 Q690.844 2201.35 696.655 2201.35 Z\" fill=\"#000000\" fill-rule=\"evenodd\" fill-opacity=\"1\" /><path clip-path=\"url(#clip150)\" d=\"M726.816 2205.06 Q723.205 2205.06 721.377 2208.62 Q719.571 2212.16 719.571 2219.29 Q719.571 2226.4 721.377 2229.97 Q723.205 2233.51 726.816 2233.51 Q730.451 2233.51 732.256 2229.97 Q734.085 2226.4 734.085 2219.29 Q734.085 2212.16 732.256 2208.62 Q730.451 2205.06 726.816 2205.06 M726.816 2201.35 Q732.627 2201.35 735.682 2205.96 Q738.761 2210.54 738.761 2219.29 Q738.761 2228.02 735.682 2232.63 Q732.627 2237.21 726.816 2237.21 Q721.006 2237.21 717.928 2232.63 Q714.872 2228.02 714.872 2219.29 Q714.872 2210.54 717.928 2205.96 Q721.006 2201.35 726.816 2201.35 Z\" fill=\"#000000\" fill-rule=\"evenodd\" fill-opacity=\"1\" /><path clip-path=\"url(#clip150)\" d=\"M1060.23 2232.6 L1076.55 2232.6 L1076.55 2236.54 L1054.6 2236.54 L1054.6 2232.6 Q1057.26 2229.85 1061.85 2225.22 Q1066.45 2220.57 1067.63 2219.23 Q1069.88 2216.7 1070.76 2214.97 Q1071.66 2213.21 1071.66 2211.52 Q1071.66 2208.76 1069.72 2207.03 Q1067.8 2205.29 1064.69 2205.29 Q1062.5 2205.29 1060.04 2206.05 Q1057.61 2206.82 1054.83 2208.37 L1054.83 2203.65 Q1057.66 2202.51 1060.11 2201.93 Q1062.56 2201.35 1064.6 2201.35 Q1069.97 2201.35 1073.17 2204.04 Q1076.36 2206.73 1076.36 2211.22 Q1076.36 2213.35 1075.55 2215.27 Q1074.76 2217.16 1072.66 2219.76 Q1072.08 2220.43 1068.98 2223.65 Q1065.88 2226.84 1060.23 2232.6 Z\" fill=\"#000000\" fill-rule=\"evenodd\" fill-opacity=\"1\" /><path clip-path=\"url(#clip150)\" d=\"M1096.36 2205.06 Q1092.75 2205.06 1090.92 2208.62 Q1089.12 2212.16 1089.12 2219.29 Q1089.12 2226.4 1090.92 2229.97 Q1092.75 2233.51 1096.36 2233.51 Q1100 2233.51 1101.8 2229.97 Q1103.63 2226.4 1103.63 2219.29 Q1103.63 2212.16 1101.8 2208.62 Q1100 2205.06 1096.36 2205.06 M1096.36 2201.35 Q1102.17 2201.35 1105.23 2205.96 Q1108.31 2210.54 1108.31 2219.29 Q1108.31 2228.02 1105.23 2232.63 Q1102.17 2237.21 1096.36 2237.21 Q1090.55 2237.21 1087.47 2232.63 Q1084.42 2228.02 1084.42 2219.29 Q1084.42 2210.54 1087.47 2205.96 Q1090.55 2201.35 1096.36 2201.35 Z\" fill=\"#000000\" fill-rule=\"evenodd\" fill-opacity=\"1\" /><path clip-path=\"url(#clip150)\" d=\"M1126.52 2205.06 Q1122.91 2205.06 1121.08 2208.62 Q1119.28 2212.16 1119.28 2219.29 Q1119.28 2226.4 1121.08 2229.97 Q1122.91 2233.51 1126.52 2233.51 Q1130.16 2233.51 1131.96 2229.97 Q1133.79 2226.4 1133.79 2219.29 Q1133.79 2212.16 1131.96 2208.62 Q1130.16 2205.06 1126.52 2205.06 M1126.52 2201.35 Q1132.33 2201.35 1135.39 2205.96 Q1138.47 2210.54 1138.47 2219.29 Q1138.47 2228.02 1135.39 2232.63 Q1132.33 2237.21 1126.52 2237.21 Q1120.71 2237.21 1117.63 2232.63 Q1114.58 2228.02 1114.58 2219.29 Q1114.58 2210.54 1117.63 2205.96 Q1120.71 2201.35 1126.52 2201.35 Z\" fill=\"#000000\" fill-rule=\"evenodd\" fill-opacity=\"1\" /><path clip-path=\"url(#clip150)\" d=\"M1469.13 2217.91 Q1472.49 2218.62 1474.37 2220.89 Q1476.26 2223.16 1476.26 2226.49 Q1476.26 2231.61 1472.75 2234.41 Q1469.23 2237.21 1462.75 2237.21 Q1460.57 2237.21 1458.26 2236.77 Q1455.96 2236.35 1453.51 2235.5 L1453.51 2230.98 Q1455.45 2232.12 1457.77 2232.7 Q1460.08 2233.28 1462.61 2233.28 Q1467.01 2233.28 1469.3 2231.54 Q1471.61 2229.8 1471.61 2226.49 Q1471.61 2223.44 1469.46 2221.73 Q1467.33 2219.99 1463.51 2219.99 L1459.48 2219.99 L1459.48 2216.15 L1463.69 2216.15 Q1467.14 2216.15 1468.97 2214.78 Q1470.8 2213.39 1470.8 2210.8 Q1470.8 2208.14 1468.9 2206.73 Q1467.03 2205.29 1463.51 2205.29 Q1461.59 2205.29 1459.39 2205.71 Q1457.19 2206.12 1454.55 2207 L1454.55 2202.84 Q1457.21 2202.1 1459.53 2201.73 Q1461.87 2201.35 1463.93 2201.35 Q1469.25 2201.35 1472.35 2203.79 Q1475.45 2206.19 1475.45 2210.31 Q1475.45 2213.18 1473.81 2215.17 Q1472.17 2217.14 1469.13 2217.91 Z\" fill=\"#000000\" fill-rule=\"evenodd\" fill-opacity=\"1\" /><path clip-path=\"url(#clip150)\" d=\"M1495.13 2205.06 Q1491.52 2205.06 1489.69 2208.62 Q1487.88 2212.16 1487.88 2219.29 Q1487.88 2226.4 1489.69 2229.97 Q1491.52 2233.51 1495.13 2233.51 Q1498.76 2233.51 1500.57 2229.97 Q1502.4 2226.4 1502.4 2219.29 Q1502.4 2212.16 1500.57 2208.62 Q1498.76 2205.06 1495.13 2205.06 M1495.13 2201.35 Q1500.94 2201.35 1504 2205.96 Q1507.07 2210.54 1507.07 2219.29 Q1507.07 2228.02 1504 2232.63 Q1500.94 2237.21 1495.13 2237.21 Q1489.32 2237.21 1486.24 2232.63 Q1483.19 2228.02 1483.19 2219.29 Q1483.19 2210.54 1486.24 2205.96 Q1489.32 2201.35 1495.13 2201.35 Z\" fill=\"#000000\" fill-rule=\"evenodd\" fill-opacity=\"1\" /><path clip-path=\"url(#clip150)\" d=\"M1525.29 2205.06 Q1521.68 2205.06 1519.85 2208.62 Q1518.05 2212.16 1518.05 2219.29 Q1518.05 2226.4 1519.85 2229.97 Q1521.68 2233.51 1525.29 2233.51 Q1528.93 2233.51 1530.73 2229.97 Q1532.56 2226.4 1532.56 2219.29 Q1532.56 2212.16 1530.73 2208.62 Q1528.93 2205.06 1525.29 2205.06 M1525.29 2201.35 Q1531.1 2201.35 1534.16 2205.96 Q1537.24 2210.54 1537.24 2219.29 Q1537.24 2228.02 1534.16 2232.63 Q1531.1 2237.21 1525.29 2237.21 Q1519.48 2237.21 1516.4 2232.63 Q1513.35 2228.02 1513.35 2219.29 Q1513.35 2210.54 1516.4 2205.96 Q1519.48 2201.35 1525.29 2201.35 Z\" fill=\"#000000\" fill-rule=\"evenodd\" fill-opacity=\"1\" /><path clip-path=\"url(#clip150)\" d=\"M1867.3 2206.05 L1855.5 2224.5 L1867.3 2224.5 L1867.3 2206.05 M1866.07 2201.98 L1871.95 2201.98 L1871.95 2224.5 L1876.89 2224.5 L1876.89 2228.39 L1871.95 2228.39 L1871.95 2236.54 L1867.3 2236.54 L1867.3 2228.39 L1851.7 2228.39 L1851.7 2223.88 L1866.07 2201.98 Z\" fill=\"#000000\" fill-rule=\"evenodd\" fill-opacity=\"1\" /><path clip-path=\"url(#clip150)\" d=\"M1894.62 2205.06 Q1891.01 2205.06 1889.18 2208.62 Q1887.37 2212.16 1887.37 2219.29 Q1887.37 2226.4 1889.18 2229.97 Q1891.01 2233.51 1894.62 2233.51 Q1898.25 2233.51 1900.06 2229.97 Q1901.88 2226.4 1901.88 2219.29 Q1901.88 2212.16 1900.06 2208.62 Q1898.25 2205.06 1894.62 2205.06 M1894.62 2201.35 Q1900.43 2201.35 1903.48 2205.96 Q1906.56 2210.54 1906.56 2219.29 Q1906.56 2228.02 1903.48 2232.63 Q1900.43 2237.21 1894.62 2237.21 Q1888.81 2237.21 1885.73 2232.63 Q1882.67 2228.02 1882.67 2219.29 Q1882.67 2210.54 1885.73 2205.96 Q1888.81 2201.35 1894.62 2201.35 Z\" fill=\"#000000\" fill-rule=\"evenodd\" fill-opacity=\"1\" /><path clip-path=\"url(#clip150)\" d=\"M1924.78 2205.06 Q1921.17 2205.06 1919.34 2208.62 Q1917.53 2212.16 1917.53 2219.29 Q1917.53 2226.4 1919.34 2229.97 Q1921.17 2233.51 1924.78 2233.51 Q1928.41 2233.51 1930.22 2229.97 Q1932.05 2226.4 1932.05 2219.29 Q1932.05 2212.16 1930.22 2208.62 Q1928.41 2205.06 1924.78 2205.06 M1924.78 2201.35 Q1930.59 2201.35 1933.64 2205.96 Q1936.72 2210.54 1936.72 2219.29 Q1936.72 2228.02 1933.64 2232.63 Q1930.59 2237.21 1924.78 2237.21 Q1918.97 2237.21 1915.89 2232.63 Q1912.83 2228.02 1912.83 2219.29 Q1912.83 2210.54 1915.89 2205.96 Q1918.97 2201.35 1924.78 2201.35 Z\" fill=\"#000000\" fill-rule=\"evenodd\" fill-opacity=\"1\" /><path clip-path=\"url(#clip150)\" d=\"M2252.67 2201.98 L2271.02 2201.98 L2271.02 2205.92 L2256.95 2205.92 L2256.95 2214.39 Q2257.97 2214.04 2258.99 2213.88 Q2260.01 2213.69 2261.02 2213.69 Q2266.81 2213.69 2270.19 2216.86 Q2273.57 2220.04 2273.57 2225.45 Q2273.57 2231.03 2270.1 2234.13 Q2266.63 2237.21 2260.31 2237.21 Q2258.13 2237.21 2255.86 2236.84 Q2253.62 2236.47 2251.21 2235.73 L2251.21 2231.03 Q2253.29 2232.16 2255.52 2232.72 Q2257.74 2233.28 2260.21 2233.28 Q2264.22 2233.28 2266.56 2231.17 Q2268.89 2229.06 2268.89 2225.45 Q2268.89 2221.84 2266.56 2219.73 Q2264.22 2217.63 2260.21 2217.63 Q2258.34 2217.63 2256.46 2218.04 Q2254.61 2218.46 2252.67 2219.34 L2252.67 2201.98 Z\" fill=\"#000000\" fill-rule=\"evenodd\" fill-opacity=\"1\" /><path clip-path=\"url(#clip150)\" d=\"M2292.78 2205.06 Q2289.17 2205.06 2287.34 2208.62 Q2285.54 2212.16 2285.54 2219.29 Q2285.54 2226.4 2287.34 2229.97 Q2289.17 2233.51 2292.78 2233.51 Q2296.42 2233.51 2298.22 2229.97 Q2300.05 2226.4 2300.05 2219.29 Q2300.05 2212.16 2298.22 2208.62 Q2296.42 2205.06 2292.78 2205.06 M2292.78 2201.35 Q2298.59 2201.35 2301.65 2205.96 Q2304.73 2210.54 2304.73 2219.29 Q2304.73 2228.02 2301.65 2232.63 Q2298.59 2237.21 2292.78 2237.21 Q2286.97 2237.21 2283.89 2232.63 Q2280.84 2228.02 2280.84 2219.29 Q2280.84 2210.54 2283.89 2205.96 Q2286.97 2201.35 2292.78 2201.35 Z\" fill=\"#000000\" fill-rule=\"evenodd\" fill-opacity=\"1\" /><path clip-path=\"url(#clip150)\" d=\"M2322.95 2205.06 Q2319.33 2205.06 2317.51 2208.62 Q2315.7 2212.16 2315.7 2219.29 Q2315.7 2226.4 2317.51 2229.97 Q2319.33 2233.51 2322.95 2233.51 Q2326.58 2233.51 2328.39 2229.97 Q2330.21 2226.4 2330.21 2219.29 Q2330.21 2212.16 2328.39 2208.62 Q2326.58 2205.06 2322.95 2205.06 M2322.95 2201.35 Q2328.76 2201.35 2331.81 2205.96 Q2334.89 2210.54 2334.89 2219.29 Q2334.89 2228.02 2331.81 2232.63 Q2328.76 2237.21 2322.95 2237.21 Q2317.14 2237.21 2314.06 2232.63 Q2311 2228.02 2311 2219.29 Q2311 2210.54 2314.06 2205.96 Q2317.14 2201.35 2322.95 2201.35 Z\" fill=\"#000000\" fill-rule=\"evenodd\" fill-opacity=\"1\" /><path clip-path=\"url(#clip150)\" d=\"M1185.96 2271.48 L1216.01 2271.48 L1216.01 2276.89 L1192.39 2276.89 L1192.39 2290.96 L1215.02 2290.96 L1215.02 2296.37 L1192.39 2296.37 L1192.39 2313.59 L1216.58 2313.59 L1216.58 2319 L1185.96 2319 L1185.96 2271.48 Z\" fill=\"#000000\" fill-rule=\"evenodd\" fill-opacity=\"1\" /><path clip-path=\"url(#clip150)\" d=\"M1232.56 2313.66 L1232.56 2332.56 L1226.67 2332.56 L1226.67 2283.36 L1232.56 2283.36 L1232.56 2288.77 Q1234.4 2285.58 1237.2 2284.06 Q1240.04 2282.5 1243.95 2282.5 Q1250.44 2282.5 1254.49 2287.65 Q1258.56 2292.81 1258.56 2301.21 Q1258.56 2309.61 1254.49 2314.77 Q1250.44 2319.93 1243.95 2319.93 Q1240.04 2319.93 1237.2 2318.4 Q1234.4 2316.84 1232.56 2313.66 M1252.48 2301.21 Q1252.48 2294.75 1249.81 2291.09 Q1247.17 2287.4 1242.52 2287.4 Q1237.87 2287.4 1235.2 2291.09 Q1232.56 2294.75 1232.56 2301.21 Q1232.56 2307.67 1235.2 2311.36 Q1237.87 2315.03 1242.52 2315.03 Q1247.17 2315.03 1249.81 2311.36 Q1252.48 2307.67 1252.48 2301.21 Z\" fill=\"#000000\" fill-rule=\"evenodd\" fill-opacity=\"1\" /><path clip-path=\"url(#clip150)\" d=\"M1282.08 2287.46 Q1277.37 2287.46 1274.63 2291.15 Q1271.9 2294.81 1271.9 2301.21 Q1271.9 2307.61 1274.6 2311.3 Q1277.34 2314.96 1282.08 2314.96 Q1286.76 2314.96 1289.5 2311.27 Q1292.23 2307.58 1292.23 2301.21 Q1292.23 2294.88 1289.5 2291.19 Q1286.76 2287.46 1282.08 2287.46 M1282.08 2282.5 Q1289.72 2282.5 1294.08 2287.46 Q1298.44 2292.43 1298.44 2301.21 Q1298.44 2309.96 1294.08 2314.96 Q1289.72 2319.93 1282.08 2319.93 Q1274.41 2319.93 1270.05 2314.96 Q1265.72 2309.96 1265.72 2301.21 Q1265.72 2292.43 1270.05 2287.46 Q1274.41 2282.5 1282.08 2282.5 Z\" fill=\"#000000\" fill-rule=\"evenodd\" fill-opacity=\"1\" /><path clip-path=\"url(#clip150)\" d=\"M1333.8 2284.72 L1333.8 2290.2 Q1331.32 2288.83 1328.81 2288.16 Q1326.32 2287.46 1323.78 2287.46 Q1318.08 2287.46 1314.93 2291.09 Q1311.78 2294.69 1311.78 2301.21 Q1311.78 2307.74 1314.93 2311.36 Q1318.08 2314.96 1323.78 2314.96 Q1326.32 2314.96 1328.81 2314.29 Q1331.32 2313.59 1333.8 2312.22 L1333.8 2317.64 Q1331.35 2318.78 1328.71 2319.35 Q1326.1 2319.93 1323.14 2319.93 Q1315.09 2319.93 1310.35 2314.87 Q1305.6 2309.81 1305.6 2301.21 Q1305.6 2292.49 1310.38 2287.49 Q1315.18 2282.5 1323.52 2282.5 Q1326.23 2282.5 1328.81 2283.07 Q1331.38 2283.61 1333.8 2284.72 Z\" fill=\"#000000\" fill-rule=\"evenodd\" fill-opacity=\"1\" /><path clip-path=\"url(#clip150)\" d=\"M1373.62 2297.49 L1373.62 2319 L1367.76 2319 L1367.76 2297.68 Q1367.76 2292.62 1365.79 2290.1 Q1363.82 2287.59 1359.87 2287.59 Q1355.13 2287.59 1352.39 2290.61 Q1349.65 2293.64 1349.65 2298.86 L1349.65 2319 L1343.77 2319 L1343.77 2269.48 L1349.65 2269.48 L1349.65 2288.89 Q1351.75 2285.68 1354.59 2284.09 Q1357.45 2282.5 1361.18 2282.5 Q1367.32 2282.5 1370.47 2286.32 Q1373.62 2290.1 1373.62 2297.49 Z\" fill=\"#000000\" fill-rule=\"evenodd\" fill-opacity=\"1\" /><path clip-path=\"url(#clip150)\" d=\"M1408.03 2284.41 L1408.03 2289.94 Q1405.54 2288.67 1402.87 2288.03 Q1400.2 2287.4 1397.33 2287.4 Q1392.97 2287.4 1390.78 2288.73 Q1388.61 2290.07 1388.61 2292.75 Q1388.61 2294.78 1390.17 2295.96 Q1391.73 2297.11 1396.44 2298.16 L1398.45 2298.6 Q1404.69 2299.94 1407.29 2302.39 Q1409.94 2304.81 1409.94 2309.17 Q1409.94 2314.13 1405.99 2317.03 Q1402.08 2319.93 1395.2 2319.93 Q1392.34 2319.93 1389.22 2319.35 Q1386.13 2318.81 1382.69 2317.7 L1382.69 2311.65 Q1385.94 2313.34 1389.09 2314.2 Q1392.24 2315.03 1395.33 2315.03 Q1399.47 2315.03 1401.69 2313.62 Q1403.92 2312.19 1403.92 2309.61 Q1403.92 2307.23 1402.3 2305.95 Q1400.71 2304.68 1395.26 2303.5 L1393.23 2303.03 Q1387.78 2301.88 1385.37 2299.52 Q1382.95 2297.14 1382.95 2293 Q1382.95 2287.97 1386.51 2285.23 Q1390.08 2282.5 1396.63 2282.5 Q1399.88 2282.5 1402.74 2282.97 Q1405.61 2283.45 1408.03 2284.41 Z\" fill=\"#000000\" fill-rule=\"evenodd\" fill-opacity=\"1\" /><polyline clip-path=\"url(#clip152)\" style=\"stroke:#000000; stroke-linecap:butt; stroke-linejoin:round; stroke-width:2; stroke-opacity:0.1; fill:none\" points=\"\n",
       "  243.14,2150.56 2352.76,2150.56 \n",
       "  \"/>\n",
       "<polyline clip-path=\"url(#clip152)\" style=\"stroke:#000000; stroke-linecap:butt; stroke-linejoin:round; stroke-width:2; stroke-opacity:0.1; fill:none\" points=\"\n",
       "  243.14,1670.31 2352.76,1670.31 \n",
       "  \"/>\n",
       "<polyline clip-path=\"url(#clip152)\" style=\"stroke:#000000; stroke-linecap:butt; stroke-linejoin:round; stroke-width:2; stroke-opacity:0.1; fill:none\" points=\"\n",
       "  243.14,1190.06 2352.76,1190.06 \n",
       "  \"/>\n",
       "<polyline clip-path=\"url(#clip152)\" style=\"stroke:#000000; stroke-linecap:butt; stroke-linejoin:round; stroke-width:2; stroke-opacity:0.1; fill:none\" points=\"\n",
       "  243.14,709.806 2352.76,709.806 \n",
       "  \"/>\n",
       "<polyline clip-path=\"url(#clip152)\" style=\"stroke:#000000; stroke-linecap:butt; stroke-linejoin:round; stroke-width:2; stroke-opacity:0.1; fill:none\" points=\"\n",
       "  243.14,229.555 2352.76,229.555 \n",
       "  \"/>\n",
       "<polyline clip-path=\"url(#clip150)\" style=\"stroke:#000000; stroke-linecap:butt; stroke-linejoin:round; stroke-width:4; stroke-opacity:1; fill:none\" points=\"\n",
       "  243.14,2174.14 243.14,153.712 \n",
       "  \"/>\n",
       "<polyline clip-path=\"url(#clip150)\" style=\"stroke:#000000; stroke-linecap:butt; stroke-linejoin:round; stroke-width:4; stroke-opacity:1; fill:none\" points=\"\n",
       "  243.14,2150.56 262.038,2150.56 \n",
       "  \"/>\n",
       "<polyline clip-path=\"url(#clip150)\" style=\"stroke:#000000; stroke-linecap:butt; stroke-linejoin:round; stroke-width:4; stroke-opacity:1; fill:none\" points=\"\n",
       "  243.14,1670.31 262.038,1670.31 \n",
       "  \"/>\n",
       "<polyline clip-path=\"url(#clip150)\" style=\"stroke:#000000; stroke-linecap:butt; stroke-linejoin:round; stroke-width:4; stroke-opacity:1; fill:none\" points=\"\n",
       "  243.14,1190.06 262.038,1190.06 \n",
       "  \"/>\n",
       "<polyline clip-path=\"url(#clip150)\" style=\"stroke:#000000; stroke-linecap:butt; stroke-linejoin:round; stroke-width:4; stroke-opacity:1; fill:none\" points=\"\n",
       "  243.14,709.806 262.038,709.806 \n",
       "  \"/>\n",
       "<polyline clip-path=\"url(#clip150)\" style=\"stroke:#000000; stroke-linecap:butt; stroke-linejoin:round; stroke-width:4; stroke-opacity:1; fill:none\" points=\"\n",
       "  243.14,229.555 262.038,229.555 \n",
       "  \"/>\n",
       "<path clip-path=\"url(#clip150)\" d=\"M149.965 2136.36 Q146.353 2136.36 144.525 2139.92 Q142.719 2143.47 142.719 2150.59 Q142.719 2157.7 144.525 2161.27 Q146.353 2164.81 149.965 2164.81 Q153.599 2164.81 155.404 2161.27 Q157.233 2157.7 157.233 2150.59 Q157.233 2143.47 155.404 2139.92 Q153.599 2136.36 149.965 2136.36 M149.965 2132.65 Q155.775 2132.65 158.83 2137.26 Q161.909 2141.84 161.909 2150.59 Q161.909 2159.32 158.83 2163.93 Q155.775 2168.51 149.965 2168.51 Q144.154 2168.51 141.076 2163.93 Q138.02 2159.32 138.02 2150.59 Q138.02 2141.84 141.076 2137.26 Q144.154 2132.65 149.965 2132.65 Z\" fill=\"#000000\" fill-rule=\"evenodd\" fill-opacity=\"1\" /><path clip-path=\"url(#clip150)\" d=\"M170.126 2161.96 L175.011 2161.96 L175.011 2167.84 L170.126 2167.84 L170.126 2161.96 Z\" fill=\"#000000\" fill-rule=\"evenodd\" fill-opacity=\"1\" /><path clip-path=\"url(#clip150)\" d=\"M195.196 2136.36 Q191.585 2136.36 189.756 2139.92 Q187.95 2143.47 187.95 2150.59 Q187.95 2157.7 189.756 2161.27 Q191.585 2164.81 195.196 2164.81 Q198.83 2164.81 200.636 2161.27 Q202.464 2157.7 202.464 2150.59 Q202.464 2143.47 200.636 2139.92 Q198.83 2136.36 195.196 2136.36 M195.196 2132.65 Q201.006 2132.65 204.061 2137.26 Q207.14 2141.84 207.14 2150.59 Q207.14 2159.32 204.061 2163.93 Q201.006 2168.51 195.196 2168.51 Q189.386 2168.51 186.307 2163.93 Q183.251 2159.32 183.251 2150.59 Q183.251 2141.84 186.307 2137.26 Q189.386 2132.65 195.196 2132.65 Z\" fill=\"#000000\" fill-rule=\"evenodd\" fill-opacity=\"1\" /><path clip-path=\"url(#clip150)\" d=\"M150.96 1656.11 Q147.349 1656.11 145.52 1659.67 Q143.715 1663.21 143.715 1670.34 Q143.715 1677.45 145.52 1681.01 Q147.349 1684.56 150.96 1684.56 Q154.594 1684.56 156.4 1681.01 Q158.228 1677.45 158.228 1670.34 Q158.228 1663.21 156.4 1659.67 Q154.594 1656.11 150.96 1656.11 M150.96 1652.4 Q156.77 1652.4 159.826 1657.01 Q162.904 1661.59 162.904 1670.34 Q162.904 1679.07 159.826 1683.68 Q156.77 1688.26 150.96 1688.26 Q145.15 1688.26 142.071 1683.68 Q139.016 1679.07 139.016 1670.34 Q139.016 1661.59 142.071 1657.01 Q145.15 1652.4 150.96 1652.4 Z\" fill=\"#000000\" fill-rule=\"evenodd\" fill-opacity=\"1\" /><path clip-path=\"url(#clip150)\" d=\"M171.122 1681.71 L176.006 1681.71 L176.006 1687.59 L171.122 1687.59 L171.122 1681.71 Z\" fill=\"#000000\" fill-rule=\"evenodd\" fill-opacity=\"1\" /><path clip-path=\"url(#clip150)\" d=\"M186.237 1653.03 L204.594 1653.03 L204.594 1656.96 L190.52 1656.96 L190.52 1665.44 Q191.538 1665.09 192.557 1664.93 Q193.575 1664.74 194.594 1664.74 Q200.381 1664.74 203.761 1667.91 Q207.14 1671.08 207.14 1676.5 Q207.14 1682.08 203.668 1685.18 Q200.196 1688.26 193.876 1688.26 Q191.7 1688.26 189.432 1687.89 Q187.187 1687.52 184.779 1686.78 L184.779 1682.08 Q186.862 1683.21 189.085 1683.77 Q191.307 1684.32 193.784 1684.32 Q197.788 1684.32 200.126 1682.22 Q202.464 1680.11 202.464 1676.5 Q202.464 1672.89 200.126 1670.78 Q197.788 1668.68 193.784 1668.68 Q191.909 1668.68 190.034 1669.09 Q188.182 1669.51 186.237 1670.39 L186.237 1653.03 Z\" fill=\"#000000\" fill-rule=\"evenodd\" fill-opacity=\"1\" /><path clip-path=\"url(#clip150)\" d=\"M140.775 1203.4 L148.414 1203.4 L148.414 1177.04 L140.103 1178.7 L140.103 1174.44 L148.367 1172.78 L153.043 1172.78 L153.043 1203.4 L160.682 1203.4 L160.682 1207.34 L140.775 1207.34 L140.775 1203.4 Z\" fill=\"#000000\" fill-rule=\"evenodd\" fill-opacity=\"1\" /><path clip-path=\"url(#clip150)\" d=\"M170.126 1201.46 L175.011 1201.46 L175.011 1207.34 L170.126 1207.34 L170.126 1201.46 Z\" fill=\"#000000\" fill-rule=\"evenodd\" fill-opacity=\"1\" /><path clip-path=\"url(#clip150)\" d=\"M195.196 1175.86 Q191.585 1175.86 189.756 1179.42 Q187.95 1182.96 187.95 1190.09 Q187.95 1197.2 189.756 1200.76 Q191.585 1204.31 195.196 1204.31 Q198.83 1204.31 200.636 1200.76 Q202.464 1197.2 202.464 1190.09 Q202.464 1182.96 200.636 1179.42 Q198.83 1175.86 195.196 1175.86 M195.196 1172.15 Q201.006 1172.15 204.061 1176.76 Q207.14 1181.34 207.14 1190.09 Q207.14 1198.82 204.061 1203.43 Q201.006 1208.01 195.196 1208.01 Q189.386 1208.01 186.307 1203.43 Q183.251 1198.82 183.251 1190.09 Q183.251 1181.34 186.307 1176.76 Q189.386 1172.15 195.196 1172.15 Z\" fill=\"#000000\" fill-rule=\"evenodd\" fill-opacity=\"1\" /><path clip-path=\"url(#clip150)\" d=\"M141.77 723.151 L149.409 723.151 L149.409 696.785 L141.099 698.452 L141.099 694.193 L149.363 692.526 L154.039 692.526 L154.039 723.151 L161.677 723.151 L161.677 727.086 L141.77 727.086 L141.77 723.151 Z\" fill=\"#000000\" fill-rule=\"evenodd\" fill-opacity=\"1\" /><path clip-path=\"url(#clip150)\" d=\"M171.122 721.207 L176.006 721.207 L176.006 727.086 L171.122 727.086 L171.122 721.207 Z\" fill=\"#000000\" fill-rule=\"evenodd\" fill-opacity=\"1\" /><path clip-path=\"url(#clip150)\" d=\"M186.237 692.526 L204.594 692.526 L204.594 696.461 L190.52 696.461 L190.52 704.934 Q191.538 704.586 192.557 704.424 Q193.575 704.239 194.594 704.239 Q200.381 704.239 203.761 707.41 Q207.14 710.582 207.14 715.998 Q207.14 721.577 203.668 724.679 Q200.196 727.757 193.876 727.757 Q191.7 727.757 189.432 727.387 Q187.187 727.017 184.779 726.276 L184.779 721.577 Q186.862 722.711 189.085 723.267 Q191.307 723.822 193.784 723.822 Q197.788 723.822 200.126 721.716 Q202.464 719.609 202.464 715.998 Q202.464 712.387 200.126 710.281 Q197.788 708.174 193.784 708.174 Q191.909 708.174 190.034 708.591 Q188.182 709.008 186.237 709.887 L186.237 692.526 Z\" fill=\"#000000\" fill-rule=\"evenodd\" fill-opacity=\"1\" /><path clip-path=\"url(#clip150)\" d=\"M143.992 242.9 L160.312 242.9 L160.312 246.835 L138.367 246.835 L138.367 242.9 Q141.029 240.145 145.613 235.516 Q150.219 230.863 151.4 229.52 Q153.645 226.997 154.525 225.261 Q155.427 223.502 155.427 221.812 Q155.427 219.057 153.483 217.321 Q151.562 215.585 148.46 215.585 Q146.261 215.585 143.807 216.349 Q141.377 217.113 138.599 218.664 L138.599 213.942 Q141.423 212.807 143.877 212.229 Q146.33 211.65 148.367 211.65 Q153.738 211.65 156.932 214.335 Q160.127 217.02 160.127 221.511 Q160.127 223.641 159.316 225.562 Q158.529 227.46 156.423 230.053 Q155.844 230.724 152.742 233.941 Q149.64 237.136 143.992 242.9 Z\" fill=\"#000000\" fill-rule=\"evenodd\" fill-opacity=\"1\" /><path clip-path=\"url(#clip150)\" d=\"M170.126 240.955 L175.011 240.955 L175.011 246.835 L170.126 246.835 L170.126 240.955 Z\" fill=\"#000000\" fill-rule=\"evenodd\" fill-opacity=\"1\" /><path clip-path=\"url(#clip150)\" d=\"M195.196 215.354 Q191.585 215.354 189.756 218.918 Q187.95 222.46 187.95 229.59 Q187.95 236.696 189.756 240.261 Q191.585 243.803 195.196 243.803 Q198.83 243.803 200.636 240.261 Q202.464 236.696 202.464 229.59 Q202.464 222.46 200.636 218.918 Q198.83 215.354 195.196 215.354 M195.196 211.65 Q201.006 211.65 204.061 216.256 Q207.14 220.84 207.14 229.59 Q207.14 238.316 204.061 242.923 Q201.006 247.506 195.196 247.506 Q189.386 247.506 186.307 242.923 Q183.251 238.316 183.251 229.59 Q183.251 220.84 186.307 216.256 Q189.386 211.65 195.196 211.65 Z\" fill=\"#000000\" fill-rule=\"evenodd\" fill-opacity=\"1\" /><path clip-path=\"url(#clip150)\" d=\"M40.2442 1230.62 L40.2442 1224.19 L82.3533 1224.19 L82.3533 1201.05 L87.7642 1201.05 L87.7642 1230.62 L40.2442 1230.62 Z\" fill=\"#000000\" fill-rule=\"evenodd\" fill-opacity=\"1\" /><path clip-path=\"url(#clip150)\" d=\"M56.2221 1181.89 Q56.2221 1186.6 59.9142 1189.34 Q63.5745 1192.08 69.972 1192.08 Q76.3695 1192.08 80.0617 1189.37 Q83.7219 1186.64 83.7219 1181.89 Q83.7219 1177.21 80.0298 1174.48 Q76.3377 1171.74 69.972 1171.74 Q63.6381 1171.74 59.946 1174.48 Q56.2221 1177.21 56.2221 1181.89 M51.2568 1181.89 Q51.2568 1174.25 56.2221 1169.89 Q61.1873 1165.53 69.972 1165.53 Q78.7249 1165.53 83.7219 1169.89 Q88.6872 1174.25 88.6872 1181.89 Q88.6872 1189.56 83.7219 1193.92 Q78.7249 1198.25 69.972 1198.25 Q61.1873 1198.25 56.2221 1193.92 Q51.2568 1189.56 51.2568 1181.89 Z\" fill=\"#000000\" fill-rule=\"evenodd\" fill-opacity=\"1\" /><path clip-path=\"url(#clip150)\" d=\"M53.1665 1133.1 L58.7047 1133.1 Q57.4316 1135.58 56.795 1138.26 Q56.1584 1140.93 56.1584 1143.79 Q56.1584 1148.15 57.4952 1150.35 Q58.832 1152.52 61.5056 1152.52 Q63.5426 1152.52 64.7203 1150.96 Q65.8661 1149.4 66.9165 1144.69 L67.3621 1142.68 Q68.6989 1136.44 71.1497 1133.83 Q73.5686 1131.19 77.9291 1131.19 Q82.8944 1131.19 85.7908 1135.14 Q88.6872 1139.05 88.6872 1145.93 Q88.6872 1148.79 88.1143 1151.91 Q87.5732 1155 86.4592 1158.44 L80.4118 1158.44 Q82.0987 1155.19 82.958 1152.04 Q83.7856 1148.89 83.7856 1145.8 Q83.7856 1141.66 82.3851 1139.43 Q80.9529 1137.21 78.3747 1137.21 Q75.9876 1137.21 74.7145 1138.83 Q73.4413 1140.42 72.2637 1145.86 L71.7862 1147.9 Q70.6404 1153.34 68.2851 1155.76 Q65.898 1158.18 61.7602 1158.18 Q56.7313 1158.18 53.9941 1154.62 Q51.2568 1151.05 51.2568 1144.49 Q51.2568 1141.25 51.7343 1138.38 Q52.2117 1135.52 53.1665 1133.1 Z\" fill=\"#000000\" fill-rule=\"evenodd\" fill-opacity=\"1\" /><path clip-path=\"url(#clip150)\" d=\"M53.1665 1099.14 L58.7047 1099.14 Q57.4316 1101.62 56.795 1104.3 Q56.1584 1106.97 56.1584 1109.83 Q56.1584 1114.19 57.4952 1116.39 Q58.832 1118.55 61.5056 1118.55 Q63.5426 1118.55 64.7203 1116.99 Q65.8661 1115.44 66.9165 1110.72 L67.3621 1108.72 Q68.6989 1102.48 71.1497 1099.87 Q73.5686 1097.23 77.9291 1097.23 Q82.8944 1097.23 85.7908 1101.18 Q88.6872 1105.09 88.6872 1111.97 Q88.6872 1114.83 88.1143 1117.95 Q87.5732 1121.04 86.4592 1124.47 L80.4118 1124.47 Q82.0987 1121.23 82.958 1118.08 Q83.7856 1114.93 83.7856 1111.84 Q83.7856 1107.7 82.3851 1105.47 Q80.9529 1103.24 78.3747 1103.24 Q75.9876 1103.24 74.7145 1104.87 Q73.4413 1106.46 72.2637 1111.9 L71.7862 1113.94 Q70.6404 1119.38 68.2851 1121.8 Q65.898 1124.22 61.7602 1124.22 Q56.7313 1124.22 53.9941 1120.66 Q51.2568 1117.09 51.2568 1110.53 Q51.2568 1107.29 51.7343 1104.42 Q52.2117 1101.56 53.1665 1099.14 Z\" fill=\"#000000\" fill-rule=\"evenodd\" fill-opacity=\"1\" /><path clip-path=\"url(#clip150)\" d=\"M988.58 12.096 L996.763 12.096 L996.763 65.6895 L1026.21 65.6895 L1026.21 72.576 L988.58 72.576 L988.58 12.096 Z\" fill=\"#000000\" fill-rule=\"evenodd\" fill-opacity=\"1\" /><path clip-path=\"url(#clip150)\" d=\"M1071.83 48.0275 L1071.83 51.6733 L1037.56 51.6733 Q1038.04 59.3701 1042.17 63.421 Q1046.35 67.4314 1053.76 67.4314 Q1058.05 67.4314 1062.06 66.3781 Q1066.11 65.3249 1070.08 63.2184 L1070.08 70.267 Q1066.07 71.9684 1061.86 72.8596 Q1057.65 73.7508 1053.31 73.7508 Q1042.46 73.7508 1036.1 67.4314 Q1029.78 61.1119 1029.78 50.3365 Q1029.78 39.1965 1035.77 32.6746 Q1041.81 26.1121 1052.02 26.1121 Q1061.17 26.1121 1066.48 32.0264 Q1071.83 37.9003 1071.83 48.0275 M1064.37 45.84 Q1064.29 39.7232 1060.93 36.0774 Q1057.61 32.4315 1052.1 32.4315 Q1045.86 32.4315 1042.09 35.9558 Q1038.37 39.4801 1037.8 45.8805 L1064.37 45.84 Z\" fill=\"#000000\" fill-rule=\"evenodd\" fill-opacity=\"1\" /><path clip-path=\"url(#clip150)\" d=\"M1104.68 49.7694 Q1095.65 49.7694 1092.16 51.8354 Q1088.68 53.9013 1088.68 58.8839 Q1088.68 62.8538 1091.27 65.2034 Q1093.9 67.5124 1098.4 67.5124 Q1104.6 67.5124 1108.33 63.1374 Q1112.09 58.7219 1112.09 51.4303 L1112.09 49.7694 L1104.68 49.7694 M1119.55 46.6907 L1119.55 72.576 L1112.09 72.576 L1112.09 65.6895 Q1109.54 69.8214 1105.73 71.8063 Q1101.92 73.7508 1096.42 73.7508 Q1089.45 73.7508 1085.32 69.8619 Q1081.22 65.9325 1081.22 59.3701 Q1081.22 51.7138 1086.33 47.825 Q1091.47 43.9361 1101.64 43.9361 L1112.09 43.9361 L1112.09 43.2069 Q1112.09 38.0623 1108.69 35.2672 Q1105.33 32.4315 1099.21 32.4315 Q1095.32 32.4315 1091.64 33.3632 Q1087.95 34.295 1084.55 36.1584 L1084.55 29.2718 Q1088.64 27.692 1092.49 26.9223 Q1096.33 26.1121 1099.98 26.1121 Q1109.82 26.1121 1114.69 31.2163 Q1119.55 36.3204 1119.55 46.6907 Z\" fill=\"#000000\" fill-rule=\"evenodd\" fill-opacity=\"1\" /><path clip-path=\"url(#clip150)\" d=\"M1161.19 34.1734 Q1159.93 33.4443 1158.43 33.1202 Q1156.98 32.7556 1155.19 32.7556 Q1148.87 32.7556 1145.47 36.8875 Q1142.11 40.9789 1142.11 48.6757 L1142.11 72.576 L1134.62 72.576 L1134.62 27.2059 L1142.11 27.2059 L1142.11 34.2544 Q1144.46 30.1225 1148.23 28.1376 Q1151.99 26.1121 1157.38 26.1121 Q1158.15 26.1121 1159.08 26.2337 Q1160.01 26.3147 1161.15 26.5172 L1161.19 34.1734 Z\" fill=\"#000000\" fill-rule=\"evenodd\" fill-opacity=\"1\" /><path clip-path=\"url(#clip150)\" d=\"M1205.26 45.1919 L1205.26 72.576 L1197.81 72.576 L1197.81 45.4349 Q1197.81 38.994 1195.3 35.7938 Q1192.79 32.5936 1187.76 32.5936 Q1181.73 32.5936 1178.24 36.4419 Q1174.76 40.2903 1174.76 46.9338 L1174.76 72.576 L1167.27 72.576 L1167.27 27.2059 L1174.76 27.2059 L1174.76 34.2544 Q1177.43 30.163 1181.04 28.1376 Q1184.68 26.1121 1189.42 26.1121 Q1197.24 26.1121 1201.25 30.9732 Q1205.26 35.7938 1205.26 45.1919 Z\" fill=\"#000000\" fill-rule=\"evenodd\" fill-opacity=\"1\" /><path clip-path=\"url(#clip150)\" d=\"M1220.13 27.2059 L1227.58 27.2059 L1227.58 72.576 L1220.13 72.576 L1220.13 27.2059 M1220.13 9.54393 L1227.58 9.54393 L1227.58 18.9825 L1220.13 18.9825 L1220.13 9.54393 Z\" fill=\"#000000\" fill-rule=\"evenodd\" fill-opacity=\"1\" /><path clip-path=\"url(#clip150)\" d=\"M1280.89 45.1919 L1280.89 72.576 L1273.44 72.576 L1273.44 45.4349 Q1273.44 38.994 1270.93 35.7938 Q1268.42 32.5936 1263.39 32.5936 Q1257.36 32.5936 1253.87 36.4419 Q1250.39 40.2903 1250.39 46.9338 L1250.39 72.576 L1242.9 72.576 L1242.9 27.2059 L1250.39 27.2059 L1250.39 34.2544 Q1253.06 30.163 1256.67 28.1376 Q1260.32 26.1121 1265.05 26.1121 Q1272.87 26.1121 1276.88 30.9732 Q1280.89 35.7938 1280.89 45.1919 Z\" fill=\"#000000\" fill-rule=\"evenodd\" fill-opacity=\"1\" /><path clip-path=\"url(#clip150)\" d=\"M1325.62 49.3643 Q1325.62 41.2625 1322.25 36.8065 Q1318.93 32.3505 1312.9 32.3505 Q1306.9 32.3505 1303.54 36.8065 Q1300.22 41.2625 1300.22 49.3643 Q1300.22 57.4256 1303.54 61.8816 Q1306.9 66.3376 1312.9 66.3376 Q1318.93 66.3376 1322.25 61.8816 Q1325.62 57.4256 1325.62 49.3643 M1333.07 66.9452 Q1333.07 78.5308 1327.92 84.1616 Q1322.78 89.8329 1312.17 89.8329 Q1308.24 89.8329 1304.75 89.2252 Q1301.27 88.6581 1297.99 87.4428 L1297.99 80.1917 Q1301.27 81.9741 1304.47 82.8248 Q1307.67 83.6755 1310.99 83.6755 Q1318.32 83.6755 1321.97 79.8271 Q1325.62 76.0193 1325.62 68.282 L1325.62 64.5957 Q1323.31 68.6061 1319.7 70.5911 Q1316.1 72.576 1311.07 72.576 Q1302.73 72.576 1297.62 66.2161 Q1292.52 59.8562 1292.52 49.3643 Q1292.52 38.832 1297.62 32.472 Q1302.73 26.1121 1311.07 26.1121 Q1316.1 26.1121 1319.7 28.0971 Q1323.31 30.082 1325.62 34.0924 L1325.62 27.2059 L1333.07 27.2059 L1333.07 66.9452 Z\" fill=\"#000000\" fill-rule=\"evenodd\" fill-opacity=\"1\" /><path clip-path=\"url(#clip150)\" d=\"M1420.41 16.7545 L1420.41 25.383 Q1416.27 21.5346 1411.58 19.6307 Q1406.92 17.7268 1401.65 17.7268 Q1391.28 17.7268 1385.77 24.0867 Q1380.26 30.4061 1380.26 42.3968 Q1380.26 54.3469 1385.77 60.7069 Q1391.28 67.0263 1401.65 67.0263 Q1406.92 67.0263 1411.58 65.1223 Q1416.27 63.2184 1420.41 59.3701 L1420.41 67.9175 Q1416.11 70.8341 1411.29 72.2924 Q1406.51 73.7508 1401.17 73.7508 Q1387.43 73.7508 1379.53 65.3654 Q1371.63 56.9395 1371.63 42.3968 Q1371.63 27.8135 1379.53 19.4281 Q1387.43 11.0023 1401.17 11.0023 Q1406.59 11.0023 1411.37 12.4606 Q1416.19 13.8784 1420.41 16.7545 Z\" fill=\"#000000\" fill-rule=\"evenodd\" fill-opacity=\"1\" /><path clip-path=\"url(#clip150)\" d=\"M1431.95 54.671 L1431.95 27.2059 L1439.41 27.2059 L1439.41 54.3874 Q1439.41 60.8284 1441.92 64.0691 Q1444.43 67.2693 1449.45 67.2693 Q1455.49 67.2693 1458.97 63.421 Q1462.5 59.5726 1462.5 52.9291 L1462.5 27.2059 L1469.95 27.2059 L1469.95 72.576 L1462.5 72.576 L1462.5 65.6084 Q1459.78 69.7404 1456.18 71.7658 Q1452.61 73.7508 1447.87 73.7508 Q1440.05 73.7508 1436 68.8897 Q1431.95 64.0286 1431.95 54.671 M1450.71 26.1121 L1450.71 26.1121 Z\" fill=\"#000000\" fill-rule=\"evenodd\" fill-opacity=\"1\" /><path clip-path=\"url(#clip150)\" d=\"M1511.59 34.1734 Q1510.34 33.4443 1508.84 33.1202 Q1507.38 32.7556 1505.6 32.7556 Q1499.28 32.7556 1495.88 36.8875 Q1492.51 40.9789 1492.51 48.6757 L1492.51 72.576 L1485.02 72.576 L1485.02 27.2059 L1492.51 27.2059 L1492.51 34.2544 Q1494.86 30.1225 1498.63 28.1376 Q1502.4 26.1121 1507.78 26.1121 Q1508.55 26.1121 1509.49 26.2337 Q1510.42 26.3147 1511.55 26.5172 L1511.59 34.1734 Z\" fill=\"#000000\" fill-rule=\"evenodd\" fill-opacity=\"1\" /><path clip-path=\"url(#clip150)\" d=\"M1514.06 27.2059 L1521.96 27.2059 L1536.14 65.2844 L1550.32 27.2059 L1558.22 27.2059 L1541.2 72.576 L1531.08 72.576 L1514.06 27.2059 Z\" fill=\"#000000\" fill-rule=\"evenodd\" fill-opacity=\"1\" /><path clip-path=\"url(#clip150)\" d=\"M1607.32 48.0275 L1607.32 51.6733 L1573.04 51.6733 Q1573.53 59.3701 1577.66 63.421 Q1581.84 67.4314 1589.25 67.4314 Q1593.54 67.4314 1597.55 66.3781 Q1601.6 65.3249 1605.57 63.2184 L1605.57 70.267 Q1601.56 71.9684 1597.35 72.8596 Q1593.14 73.7508 1588.8 73.7508 Q1577.95 73.7508 1571.59 67.4314 Q1565.27 61.1119 1565.27 50.3365 Q1565.27 39.1965 1571.26 32.6746 Q1577.3 26.1121 1587.51 26.1121 Q1596.66 26.1121 1601.97 32.0264 Q1607.32 37.9003 1607.32 48.0275 M1599.86 45.84 Q1599.78 39.7232 1596.42 36.0774 Q1593.1 32.4315 1587.59 32.4315 Q1581.35 32.4315 1577.58 35.9558 Q1573.86 39.4801 1573.29 45.8805 L1599.86 45.84 Z\" fill=\"#000000\" fill-rule=\"evenodd\" fill-opacity=\"1\" /><polyline clip-path=\"url(#clip152)\" style=\"stroke:#0000ff; stroke-linecap:butt; stroke-linejoin:round; stroke-width:8; stroke-opacity:1; fill:none\" points=\"\n",
       "  302.846,210.894 306.835,527.322 310.823,829.137 314.811,1094.59 318.8,1288.07 322.788,1417.78 326.777,1504.47 330.765,1575.24 334.753,1627.76 338.742,1659 \n",
       "  342.73,1687.33 346.718,1713.48 350.707,1734.27 354.695,1749.6 358.684,1761.47 362.672,1774.11 366.66,1784.87 370.649,1793.26 374.637,1802 378.626,1810.53 \n",
       "  382.614,1818.36 386.602,1825.22 390.591,1831.2 394.579,1838.03 398.567,1844.69 402.556,1849.81 406.544,1854.38 410.533,1859.08 414.521,1863.68 418.509,1868.08 \n",
       "  422.498,1872.19 426.486,1875.95 430.475,1879.76 434.463,1883.52 438.451,1886.85 442.44,1890.24 446.428,1893.54 450.416,1896.43 454.405,1899.32 458.393,1902.09 \n",
       "  462.382,1904.75 466.37,1907.36 470.358,1909.82 474.347,1912.31 478.335,1914.75 482.324,1917.05 486.312,1919.35 490.3,1921.67 494.289,1923.89 498.277,1925.99 \n",
       "  502.265,1928.03 506.254,1930.09 510.242,1932.1 514.231,1933.96 518.219,1935.79 522.207,1937.6 526.196,1939.35 530.184,1941.03 534.173,1942.68 538.161,1944.32 \n",
       "  542.149,1945.91 546.138,1947.44 550.126,1948.95 554.114,1950.44 558.103,1951.9 562.091,1953.32 566.08,1954.73 570.068,1956.12 574.056,1957.49 578.045,1958.83 \n",
       "  582.033,1960.15 586.022,1961.45 590.01,1962.73 593.998,1963.98 597.987,1965.22 601.975,1966.44 605.963,1967.65 609.952,1968.84 613.94,1970.01 617.929,1971.16 \n",
       "  621.917,1972.3 625.905,1973.42 629.894,1974.53 633.882,1975.61 637.871,1976.68 641.859,1977.72 645.847,1978.76 649.836,1979.78 653.824,1980.78 657.812,1981.77 \n",
       "  661.801,1982.75 665.789,1983.73 669.778,1984.69 673.766,1985.64 677.754,1986.58 681.743,1987.5 685.731,1988.42 689.719,1989.32 693.708,1990.21 697.696,1991.08 \n",
       "  701.685,1991.95 705.673,1992.8 709.661,1993.64 713.65,1994.48 717.638,1995.3 721.627,1996.11 725.615,1996.9 729.603,1997.69 733.592,1998.47 737.58,1999.23 \n",
       "  741.568,1999.99 745.557,2000.74 749.545,2001.48 753.534,2002.21 757.522,2002.93 761.51,2003.64 765.499,2004.35 769.487,2005.05 773.476,2005.74 777.464,2006.43 \n",
       "  781.452,2007.11 785.441,2007.78 789.429,2008.45 793.417,2009.11 797.406,2009.76 801.394,2010.41 805.383,2011.06 809.371,2011.69 813.359,2012.33 817.348,2012.96 \n",
       "  821.336,2013.58 825.325,2014.2 829.313,2014.81 833.301,2015.41 837.29,2016.02 841.278,2016.62 845.266,2017.21 849.255,2017.8 853.243,2018.39 857.232,2018.97 \n",
       "  861.22,2019.54 865.208,2020.12 869.197,2020.68 873.185,2021.25 877.174,2021.81 881.162,2022.37 885.15,2022.93 889.139,2023.48 893.127,2024.03 897.115,2024.58 \n",
       "  901.104,2025.12 905.092,2025.66 909.081,2026.2 913.069,2026.74 917.057,2027.27 921.046,2027.8 925.034,2028.33 929.023,2028.86 933.011,2029.4 936.999,2029.93 \n",
       "  940.988,2030.45 944.976,2030.98 948.964,2031.5 952.953,2032.02 956.941,2032.54 960.93,2033.06 964.918,2033.57 968.906,2034.09 972.895,2034.6 976.883,2035.11 \n",
       "  980.872,2035.62 984.86,2036.13 988.848,2036.64 992.837,2037.15 996.825,2037.65 1000.81,2038.16 1004.8,2038.66 1008.79,2039.17 1012.78,2039.67 1016.77,2040.17 \n",
       "  1020.76,2040.66 1024.74,2041.16 1028.73,2041.65 1032.72,2042.14 1036.71,2042.63 1040.7,2043.11 1044.69,2043.6 1048.67,2044.08 1052.66,2044.56 1056.65,2045.04 \n",
       "  1060.64,2045.52 1064.63,2045.99 1068.62,2046.46 1072.6,2046.93 1076.59,2047.4 1080.58,2047.86 1084.57,2048.32 1088.56,2048.78 1092.55,2049.24 1096.53,2049.68 \n",
       "  1100.52,2050.13 1104.51,2050.57 1108.5,2051.01 1112.49,2051.44 1116.48,2051.87 1120.46,2052.3 1124.45,2052.73 1128.44,2053.15 1132.43,2053.57 1136.42,2053.99 \n",
       "  1140.41,2054.4 1144.4,2054.81 1148.38,2055.22 1152.37,2055.63 1156.36,2056.03 1160.35,2056.43 1164.34,2056.83 1168.33,2057.22 1172.31,2057.62 1176.3,2058.01 \n",
       "  1180.29,2058.4 1184.28,2058.78 1188.27,2059.16 1192.26,2059.54 1196.24,2059.92 1200.23,2060.3 1204.22,2060.67 1208.21,2061.04 1212.2,2061.41 1216.19,2061.77 \n",
       "  1220.17,2062.13 1224.16,2062.49 1228.15,2062.84 1232.14,2063.19 1236.13,2063.54 1240.12,2063.89 1244.1,2064.24 1248.09,2064.59 1252.08,2064.93 1256.07,2065.27 \n",
       "  1260.06,2065.61 1264.05,2065.94 1268.04,2066.28 1272.02,2066.61 1276.01,2066.94 1280,2067.26 1283.99,2067.59 1287.98,2067.92 1291.97,2068.24 1295.95,2068.56 \n",
       "  1299.94,2068.88 1303.93,2069.19 1307.92,2069.51 1311.91,2069.82 1315.9,2070.14 1319.88,2070.45 1323.87,2070.76 1327.86,2071.07 1331.85,2071.37 1335.84,2071.68 \n",
       "  1339.83,2071.98 1343.81,2072.29 1347.8,2072.59 1351.79,2072.89 1355.78,2073.19 1359.77,2073.48 1363.76,2073.77 1367.74,2074.07 1371.73,2074.36 1375.72,2074.65 \n",
       "  1379.71,2074.93 1383.7,2075.22 1387.69,2075.52 1391.68,2075.8 1395.66,2076.08 1399.65,2076.36 1403.64,2076.64 1407.63,2076.92 1411.62,2077.2 1415.61,2077.48 \n",
       "  1419.59,2077.75 1423.58,2078.03 1427.57,2078.3 1431.56,2078.56 1435.55,2078.82 1439.54,2079.08 1443.52,2079.35 1447.51,2079.63 1451.5,2079.91 1455.49,2080.17 \n",
       "  1459.48,2080.42 1463.47,2080.68 1467.45,2080.94 1471.44,2081.21 1475.43,2081.47 1479.42,2081.73 1483.41,2081.97 1487.4,2082.23 1491.38,2082.49 1495.37,2082.74 \n",
       "  1499.36,2082.99 1503.35,2083.24 1507.34,2083.49 1511.33,2083.73 1515.31,2083.96 1519.3,2084.16 1523.29,2084.36 1527.28,2084.59 1531.27,2084.88 1535.26,2085.18 \n",
       "  1539.25,2085.44 1543.23,2085.66 1547.22,2085.86 1551.21,2086.08 1555.2,2086.34 1559.19,2086.61 1563.18,2086.85 1567.16,2087.06 1571.15,2087.27 1575.14,2087.5 \n",
       "  1579.13,2087.75 1583.12,2088 1587.11,2088.23 1591.09,2088.44 1595.08,2088.64 1599.07,2088.86 1603.06,2089.09 1607.05,2089.32 1611.04,2089.56 1615.02,2089.78 \n",
       "  1619.01,2090 1623,2090.2 1626.99,2090.41 1630.98,2090.61 1634.97,2090.82 1638.95,2091.02 1642.94,2091.25 1646.93,2091.47 1650.92,2091.7 1654.91,2091.93 \n",
       "  1658.9,2092.15 1662.89,2092.35 1666.87,2092.55 1670.86,2092.74 1674.85,2092.92 1678.84,2093.11 1682.83,2093.3 1686.82,2093.52 1690.8,2093.75 1694.79,2093.98 \n",
       "  1698.78,2094.2 1702.77,2094.4 1706.76,2094.58 1710.75,2094.75 1714.73,2094.93 1718.72,2095.14 1722.71,2095.36 1726.7,2095.57 1730.69,2095.79 1734.68,2095.99 \n",
       "  1738.66,2096.18 1742.65,2096.35 1746.64,2096.53 1750.63,2096.7 1754.62,2096.86 1758.61,2097.04 1762.59,2097.22 1766.58,2097.43 1770.57,2097.64 1774.56,2097.87 \n",
       "  1778.55,2098.08 1782.54,2098.27 1786.53,2098.44 1790.51,2098.6 1794.5,2098.76 1798.49,2098.92 1802.48,2099.1 1806.47,2099.28 1810.46,2099.48 1814.44,2099.7 \n",
       "  1818.43,2099.92 1822.42,2100.12 1826.41,2100.29 1830.4,2100.45 1834.39,2100.61 1838.37,2100.77 1842.36,2100.93 1846.35,2101.12 1850.34,2101.31 1854.33,2101.51 \n",
       "  1858.32,2101.69 1862.3,2101.89 1866.29,2102.08 1870.28,2102.25 1874.27,2102.41 1878.26,2102.56 1882.25,2102.7 1886.23,2102.8 1890.22,2102.9 1894.21,2103 \n",
       "  1898.2,2103.19 1902.19,2103.41 1906.18,2103.67 1910.16,2103.92 1914.15,2104.1 1918.14,2104.22 1922.13,2104.33 1926.12,2104.48 1930.11,2104.65 1934.1,2104.84 \n",
       "  1938.08,2105.05 1942.07,2105.23 1946.06,2105.38 1950.05,2105.5 1954.04,2105.6 1958.03,2105.71 1962.01,2105.84 1966,2106.02 1969.99,2106.24 1973.98,2106.45 \n",
       "  1977.97,2106.64 1981.96,2106.78 1985.94,2106.89 1989.93,2107 1993.92,2107.14 1997.91,2107.3 2001.9,2107.47 2005.89,2107.65 2009.87,2107.84 2013.86,2108 \n",
       "  2017.85,2108.14 2021.84,2108.27 2025.83,2108.39 2029.82,2108.49 2033.8,2108.59 2037.79,2108.7 2041.78,2108.84 2045.77,2109.02 2049.76,2109.21 2053.75,2109.42 \n",
       "  2057.74,2109.6 2061.72,2109.74 2065.71,2109.85 2069.7,2109.93 2073.69,2110.02 2077.68,2110.13 2081.67,2110.27 2085.65,2110.44 2089.64,2110.63 2093.63,2110.82 \n",
       "  2097.62,2110.99 2101.61,2111.14 2105.6,2111.26 2109.58,2111.38 2113.57,2111.51 2117.56,2111.62 2121.55,2111.72 2125.54,2111.81 2129.53,2111.9 2133.51,2112.03 \n",
       "  2137.5,2112.16 2141.49,2112.3 2145.48,2112.46 2149.47,2112.63 2153.46,2112.81 2157.44,2112.97 2161.43,2113.11 2165.42,2113.24 2169.41,2113.37 2173.4,2113.48 \n",
       "  2177.39,2113.57 2181.38,2113.66 2185.36,2113.74 2189.35,2113.83 2193.34,2113.91 2197.33,2114.02 2201.32,2114.18 2205.31,2114.36 2209.29,2114.55 2213.28,2114.71 \n",
       "  2217.27,2114.87 2221.26,2115 2225.25,2115.09 2229.24,2115.15 2233.22,2115.21 2237.21,2115.28 2241.2,2115.36 2245.19,2115.49 2249.18,2115.67 2253.17,2115.86 \n",
       "  2257.15,2116.06 2261.14,2116.21 2265.13,2116.33 2269.12,2116.43 2273.11,2116.5 2277.1,2116.58 2281.08,2116.67 2285.07,2116.75 2289.06,2116.84 2293.05,2116.96 \n",
       "  \n",
       "  \"/>\n",
       "</svg>\n"
      ]
     },
     "metadata": {},
     "output_type": "display_data"
    }
   ],
   "source": [
    "# initialize plot\n",
    "\n",
    "gr(size = (600, 600))\n",
    "\n",
    "# plot learning curve\n",
    "\n",
    "p_l_curve = plot(1:epochs, loss_history,\n",
    "    xlabel = \"Epochs\",\n",
    "    ylabel = \"Loss\",\n",
    "    title = \"Learning Curve\",\n",
    "    legend = false,\n",
    "    color = :blue,\n",
    "    linewidth = 2\n",
    ")"
   ]
  }
 ],
 "metadata": {
  "kernelspec": {
   "display_name": "Julia 1.7.3",
   "language": "julia",
   "name": "julia-1.7"
  },
  "language_info": {
   "file_extension": ".jl",
   "mimetype": "application/julia",
   "name": "julia",
   "version": "1.7.3"
  },
  "orig_nbformat": 4
 },
 "nbformat": 4,
 "nbformat_minor": 2
}
